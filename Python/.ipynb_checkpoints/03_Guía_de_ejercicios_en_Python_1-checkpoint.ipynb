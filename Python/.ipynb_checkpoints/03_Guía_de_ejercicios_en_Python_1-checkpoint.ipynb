{
 "cells": [
  {
   "cell_type": "markdown",
   "metadata": {
    "id": "sJ-CV-jocRKY"
   },
   "source": [
    "**Ejercicio 1**\n",
    "\n",
    "Crear un programa que almacene en dos variables cadenas de caracteres como nombre y contraseña.\n",
    "Preguntar al usuario su nombre de usuario y contraseña. Mostrar por pantalla si las entradas fueron correctas o incorrectas."
   ]
  },
  {
   "cell_type": "code",
   "execution_count": null,
   "metadata": {
    "id": "LaB4MPQHETZQ"
   },
   "outputs": [],
   "source": [
    "def usuario():\n",
    "    nombre = input(\"Por favor ingrese su nombre: \")\n",
    "    contraseña = input(\"Por favor ingrese su contraseña: \")\n",
    "    "
   ]
  },
  {
   "cell_type": "markdown",
   "metadata": {
    "id": "wQbtbDOVc1NH"
   },
   "source": [
    "**Ejercicio 2**\n",
    "\n",
    "Crear un programa que pida al usuario dos números y muestre por pantalla el resultado de la división. Si el dividor ingresado es cero, mostrar un mensaje de advertencia."
   ]
  },
  {
   "cell_type": "code",
   "execution_count": null,
   "metadata": {
    "id": "59UyymuVdJW1"
   },
   "outputs": [],
   "source": []
  },
  {
   "cell_type": "markdown",
   "metadata": {
    "id": "VqR1WaUfdUWW"
   },
   "source": [
    "**Ejercicio 3**\n",
    "\n",
    "(Admite varios modos de resolverlo y diferentes niveles de complejidad )\n",
    "\n",
    "En una empresa se realiza una evaluación de desempeño de empleados que se refleja en el monto del bono de fin de año. Cuanto más alto es el puntaje del empleado, mayores los beneficios.\n",
    "\n",
    "Niveles de rendimiento y puntajes posibles (no hay niveles ni puntajes intermedios):\n",
    "*   Inaceptable: 0.0\n",
    "*   Aceptable: 0.4\n",
    "*   Meritorio: 0.6, 0.8 y 1.0\n",
    "\n",
    "El monto base del bono es de $100.000, y el extra por desempeño se calcula como el monto base multiplicado por el puntaje. El total es la suma del monto base más el extra por desempeño.\n",
    "\n",
    "Crear un programa que lea la puntuación de un empleado, muestre su nivel de rendimiento y la cantidad de dinero a recibir.\n",
    "\n",
    "\n",
    "\n",
    "\n"
   ]
  },
  {
   "cell_type": "code",
   "execution_count": null,
   "metadata": {
    "id": "dB_INDXRgIna"
   },
   "outputs": [],
   "source": []
  },
  {
   "cell_type": "markdown",
   "metadata": {
    "id": "UD22Hk9HgJM4"
   },
   "source": [
    "**Ejercicio 4**\n",
    "\n",
    "Una sala de juegos tiene un tarifario por edades.\n",
    "Crear un programa que pregunte la edad del cliente y muestre el precio del abono.\n",
    "\n",
    "Si el cliente es menor de 4 años, puede entrar gratis.\n",
    "\n",
    "Si tiene entre 4 y 18 años, debe pagar $1500.\n",
    "\n",
    "Los mayores de edad pagan $3000.\n"
   ]
  },
  {
   "cell_type": "code",
   "execution_count": null,
   "metadata": {
    "id": "inP8w452gzhj"
   },
   "outputs": [],
   "source": []
  },
  {
   "cell_type": "markdown",
   "metadata": {
    "id": "fhAfOeucgzu_"
   },
   "source": [
    "**Ejercicio 5**\n",
    "\n",
    "Crear un programa que pregunte la edad del usuario y muestre por pantalla un contador desde el 1 hasta la edad introducida."
   ]
  },
  {
   "cell_type": "code",
   "execution_count": null,
   "metadata": {
    "id": "IWnxdFx0hHDy"
   },
   "outputs": [],
   "source": []
  },
  {
   "cell_type": "markdown",
   "metadata": {
    "id": "yP2wriPChHaq"
   },
   "source": [
    "**Ejercicio 6**\n",
    "\n",
    "Crear un programa que muestre todas las tablas de multiplicar desde la del 1 hasta la del 10."
   ]
  },
  {
   "cell_type": "code",
   "execution_count": null,
   "metadata": {
    "id": "tprCRi9XhWW0"
   },
   "outputs": [],
   "source": []
  },
  {
   "cell_type": "markdown",
   "metadata": {
    "id": "QBNSiX6_hXEw"
   },
   "source": [
    "**Ejercicio 7**\n",
    "\n",
    "Crear un programa que pida al usuario una palabra, y luego muestre las letras de la palabra introducida una por una y empezando por la última."
   ]
  },
  {
   "cell_type": "code",
   "execution_count": null,
   "metadata": {
    "id": "hRoY7QnVh0_1"
   },
   "outputs": [],
   "source": []
  },
  {
   "cell_type": "markdown",
   "metadata": {
    "id": "KgfdP28ph1X7"
   },
   "source": [
    "**Ejercicio 8**\n",
    "\n",
    "Crear un programa en el que se pregunte al usuario por una palabra y una letra, y muestre por pantalla el número de veces que aparece la letra en la frase."
   ]
  },
  {
   "cell_type": "code",
   "execution_count": null,
   "metadata": {
    "id": "KY8dZMPgiLe3"
   },
   "outputs": [],
   "source": []
  },
  {
   "cell_type": "markdown",
   "metadata": {
    "id": "52CHXPxniL--"
   },
   "source": [
    "**Ejercicio 9**\n",
    "\n",
    "Crear un programa que muestre el eco (repita en pantalla) todo lo que el usuario introduce por teclado, hasta que el usuario escriba \"salir\"."
   ]
  },
  {
   "cell_type": "code",
   "execution_count": null,
   "metadata": {
    "id": "8ZL59JP_i6t_"
   },
   "outputs": [],
   "source": []
  },
  {
   "cell_type": "markdown",
   "metadata": {
    "id": "WfndETHNi7N6"
   },
   "source": [
    "**Ejercicio 10**\n",
    "\n",
    "Crear un programa que almacene las asignaturas de un curso (por ejemplo Matemáticas, Física, Química, Historia y Lengua) en una lista y muestre por pantalla el mensaje \"`Yo estudio [nombre_de_la_asignatura]`\". Una línea por cada asignatura."
   ]
  },
  {
   "cell_type": "code",
   "execution_count": null,
   "metadata": {
    "id": "ht3HfRAZjxVF"
   },
   "outputs": [],
   "source": []
  },
  {
   "cell_type": "markdown",
   "metadata": {
    "id": "EI9zJwEqj3-3"
   },
   "source": [
    "**Ejercicio 11**\n",
    "\n",
    "Crear un programa que guarde en un diccionario los precios de las frutas de la tabla, pregunte al usuario por una fruta, los kilos y muestre por pantalla el precio. Si la fruta no está en el diccionario, mostrar un mensaje.\n",
    "\n",
    "```\n",
    "Fruta       Precio\n",
    "===================\n",
    "Banana         80\n",
    "Manzana       100\n",
    "Pera           50\n",
    "Naranja        70\n",
    "```"
   ]
  },
  {
   "cell_type": "code",
   "execution_count": null,
   "metadata": {
    "id": "byZrJkKPlNlM"
   },
   "outputs": [],
   "source": []
  },
  {
   "cell_type": "markdown",
   "metadata": {
    "id": "_q8o0gTblNzB"
   },
   "source": [
    "**Ejercicio 12**\n",
    "\n",
    "Crear un programa que almacene el diccionario con los créditos de las asignaturas de un curso (por ejemplo: `{'Matemáticas':6, 'Física':4, 'Química':5}` y después muestre por pantalla los créditos de cada asignatura con el siguiente formato:\n",
    "\n",
    "`[asignatura] tiene [creditos] créditos.`\n",
    "\n",
    "Al final debe mostrar la suma de los créditos del curso."
   ]
  },
  {
   "cell_type": "code",
   "execution_count": null,
   "metadata": {
    "id": "hFc_GSYul6Bh"
   },
   "outputs": [],
   "source": []
  },
  {
   "cell_type": "markdown",
   "metadata": {
    "id": "ZiPQMqL3TJgZ"
   },
   "source": [
    "**Desafío 1**\n",
    "\n",
    "Interpretá el siguiente diagrama de flujo y creá el programa en python que permita obtener un listado con nombre, promedio y estado de aprobación de una cantidad determinada de alumnos.\n",
    "\n",
    "<img src=\"https://drive.google.com/uc?id=1pfztM9Xvkf45Aas2RjgA7gobL9vvVlct\" width=\"900\">\n",
    "\n",
    "\n",
    "***TIP:*** los datos deben ir cargándose en listas.\n"
   ]
  },
  {
   "cell_type": "code",
   "execution_count": null,
   "metadata": {
    "id": "RXjK_u3kTJBJ"
   },
   "outputs": [],
   "source": []
  },
  {
   "cell_type": "markdown",
   "metadata": {
    "id": "of5J2DAUTRth"
   },
   "source": [
    "**Desafío 2**\n",
    "\n",
    "Replicá el ejemplo de cajero automático visto en las clases de algoritmos, según el siguiente diagrama de flujo:\n",
    "\n",
    "<img src=\"https://drive.google.com/uc?id=1k7rTT-rIgRh_pKeAA49Z3GWFzBViU7lR\" width=\"900\">\n"
   ]
  },
  {
   "cell_type": "code",
   "execution_count": null,
   "metadata": {
    "id": "OS-tSAwzTTll"
   },
   "outputs": [],
   "source": []
  },
  {
   "cell_type": "markdown",
   "metadata": {
    "id": "VtZXgYitZPbI"
   },
   "source": [
    "<hr>\n",
    "<img src=\"https://drive.google.com/uc?id=16Fy8ub2YrUHJnQ8W2p3DrVI42b20ncXz\" width=\"400\">\n",
    "\n",
    "**Todos los derechos son reservados por el Programa Codo a Codo perteneciente a la Dirección Agencia de Habilidades para el Futuro del Ministerio de Educación del Gobierno de la Ciudad Autónoma de Buenos Aires. Se encuentra prohibida su venta o comercialización.**"
   ]
  }
 ],
 "metadata": {
  "colab": {
   "provenance": []
  },
  "kernelspec": {
   "display_name": "Python 3",
   "language": "python",
   "name": "python3"
  },
  "language_info": {
   "codemirror_mode": {
    "name": "ipython",
    "version": 3
   },
   "file_extension": ".py",
   "mimetype": "text/x-python",
   "name": "python",
   "nbconvert_exporter": "python",
   "pygments_lexer": "ipython3",
   "version": "3.8.8"
  }
 },
 "nbformat": 4,
 "nbformat_minor": 1
}
