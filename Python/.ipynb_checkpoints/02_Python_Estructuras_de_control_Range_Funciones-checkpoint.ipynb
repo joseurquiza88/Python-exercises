{
 "cells": [
  {
   "cell_type": "markdown",
   "metadata": {
    "id": "tFBSAuPZRUl-"
   },
   "source": [
    "# **PROGRAMACIÓN EN PYTHON 2**\n",
    "***Codo a Codo 4.0 - Big Data / Data Analytics***\n"
   ]
  },
  {
   "cell_type": "markdown",
   "metadata": {
    "id": "vbNmoTRnB9l0"
   },
   "source": [
    "# **A) ESTRUCTURAS DE CONTROL DE FLUJO**\n"
   ]
  },
  {
   "cell_type": "markdown",
   "metadata": {
    "id": "yDFmOlM8RnlV"
   },
   "source": [
    "# **1) CONDICIONALES**\n"
   ]
  },
  {
   "cell_type": "markdown",
   "metadata": {
    "id": "luIgWCUDlEsp"
   },
   "source": [
    "# **if**\n",
    "* if\n",
    "* if-else\n",
    "* if-elif\n",
    "* if-if-if\n",
    "* match"
   ]
  },
  {
   "cell_type": "code",
   "execution_count": null,
   "metadata": {
    "colab": {
     "base_uri": "https://localhost:8080/"
    },
    "id": "eh49_kBvErEH",
    "outputId": "dc7127f1-8ce6-419c-cd52-7d342a828f81"
   },
   "outputs": [
    {
     "name": "stdout",
     "output_type": "stream",
     "text": [
      "Programa ppal\n",
      "Fin de programa\n"
     ]
    }
   ],
   "source": [
    "n = 15\n",
    "\n",
    "if n < 10:\n",
    "  print(\"Es menor que 10\")\n",
    "  print(\"Sigo dentro de n<10 True\")\n",
    "print(\"Programa ppal\")\n",
    "print(\"Fin de programa\")"
   ]
  },
  {
   "cell_type": "code",
   "execution_count": null,
   "metadata": {
    "colab": {
     "base_uri": "https://localhost:8080/"
    },
    "id": "_a-4XfiHUbf9",
    "outputId": "ed3deb0e-3150-4d57-8f24-e20ca4539635"
   },
   "outputs": [
    {
     "name": "stdout",
     "output_type": "stream",
     "text": [
      "Es menor que 10\n",
      "Sigo dentro de n<10 True\n",
      "Programa ppal\n",
      "Fin de programa\n"
     ]
    }
   ],
   "source": [
    "n = 5\n",
    "\n",
    "if n < 10:\n",
    "  print(\"Es menor que 10\")\n",
    "  print(\"Sigo dentro de n<10 True\")\n",
    "else:\n",
    "  print(\"No es menor que 10\")\n",
    "  print(\"Sigo dentro de n<10 False\")\n",
    "print(\"Programa ppal\")\n",
    "print(\"Fin de programa\")"
   ]
  },
  {
   "cell_type": "code",
   "execution_count": null,
   "metadata": {
    "colab": {
     "base_uri": "https://localhost:8080/"
    },
    "id": "_bJsmXcwVE-4",
    "outputId": "1471d69b-c5d7-4abe-e794-72699764b68b"
   },
   "outputs": [
    {
     "name": "stdout",
     "output_type": "stream",
     "text": [
      "n vale 10\n",
      "Sigo en elif\n",
      "Programa ppal\n",
      "Fin de programa\n"
     ]
    }
   ],
   "source": [
    "n = 10\n",
    "\n",
    "if n < 10:\n",
    "  print(\"Es menor que 10\")\n",
    "  print(\"Sigo dentro de n<10 True\")\n",
    "elif n == 10:\n",
    "  print(\"n vale 10\")\n",
    "  print(\"Sigo en elif\")\n",
    "else:\n",
    "  print(\"No es menor que 10\")\n",
    "  print(\"Sigo dentro de n<10 False\")\n",
    "print(\"Programa ppal\")\n",
    "print(\"Fin de programa\")"
   ]
  },
  {
   "cell_type": "code",
   "execution_count": null,
   "metadata": {
    "colab": {
     "base_uri": "https://localhost:8080/"
    },
    "id": "lAo9P2g0Vdh0",
    "outputId": "676cd093-69c4-477e-b021-9cbf410a7f03"
   },
   "outputs": [
    {
     "name": "stdout",
     "output_type": "stream",
     "text": [
      "Es menor que 10\n",
      "Sigo dentro de n<10 True\n",
      "Programa ppal\n",
      "Fin de programa\n"
     ]
    }
   ],
   "source": [
    "n = -12.56\n",
    "\n",
    "if n == 7:\n",
    "  print(\"n vale 7\")\n",
    "elif n == 10:\n",
    "  print(\"n vale 10\")\n",
    "  print(\"Sigo en elif\")\n",
    "elif n < 10:\n",
    "  print(\"Es menor que 10\")\n",
    "  print(\"Sigo dentro de n<10 True\")\n",
    "else:\n",
    "  print(\"No es menor que 10\")\n",
    "  print(\"Sigo dentro de n<10 False\")\n",
    "print(\"Programa ppal\")\n",
    "print(\"Fin de programa\")"
   ]
  },
  {
   "cell_type": "code",
   "execution_count": null,
   "metadata": {
    "colab": {
     "base_uri": "https://localhost:8080/"
    },
    "id": "dEbw-ciUWfKV",
    "outputId": "a2f6c802-cd26-44cf-e626-74c0a04b6e7f"
   },
   "outputs": [
    {
     "name": "stdout",
     "output_type": "stream",
     "text": [
      "Ingrese un nro entero 6\n",
      "6 es par\n"
     ]
    }
   ],
   "source": [
    "n1 = int(input(\"Ingrese un nro entero \"))\n",
    "\n",
    "if n1 < 1:\n",
    "  print(\"Ese nro es muy bajo\")\n",
    "elif n1 > 10:\n",
    "  print(\"Ese nro es muy alto\")\n",
    "else:\n",
    "  if n1 % 2 == 0:\n",
    "    print(n1,\"es par\")\n",
    "  else:\n",
    "    print(n1,\"es impar\")"
   ]
  },
  {
   "cell_type": "code",
   "execution_count": null,
   "metadata": {
    "colab": {
     "base_uri": "https://localhost:8080/"
    },
    "id": "dtDgSaIeX4-k",
    "outputId": "5ddf2ace-496f-4957-abac-bf7cb405c7ed"
   },
   "outputs": [
    {
     "data": {
      "text/plain": [
       "1"
      ]
     },
     "execution_count": 21,
     "metadata": {},
     "output_type": "execute_result"
    }
   ],
   "source": [
    "10 / 3 #division\n",
    "10 // 3 # división entera\n",
    "10 % 3 # resto de la division"
   ]
  },
  {
   "cell_type": "markdown",
   "metadata": {
    "id": "gIyb0XwrkWSJ"
   },
   "source": [
    "### **match... case**\n",
    "La expresión contiene varios posibles casos, que consideraremos en cada case\n",
    "\n",
    "```\n",
    "match expresion:\n",
    "    case valor_probable_1:\n",
    "    #el valor_probable_1 es uno de los valores que puede tomar la expresión\n",
    "    #si resulta igual al que trae la expresion entra en el bloque de sentencias 1\n",
    "        bloque_sentencias_1\n",
    "    case valor_probable_2:\n",
    "        bloque_sentencias_2\n",
    "    case _:\n",
    "    # es opcional pero es buena idea para capturar cualquier valor distinto. Si al evaluar los valores probables anteriores son todos falsos entra en este bloque de sentencias\n",
    "        bloque_sentencias_3\n",
    "```"
   ]
  },
  {
   "cell_type": "code",
   "execution_count": null,
   "metadata": {
    "colab": {
     "base_uri": "https://localhost:8080/"
    },
    "id": "kHCkybgukWiS",
    "outputId": "13a66345-097d-4b17-9589-c87a6cdd0826"
   },
   "outputs": [
    {
     "name": "stdout",
     "output_type": "stream",
     "text": [
      "Ingrese un nro [1-7]457\n",
      "No tengo nada\n"
     ]
    }
   ],
   "source": [
    "dia = int(input(\"Ingrese un nro [1-7]\"))\n",
    "\n",
    "match dia:\n",
    "  case 5:\n",
    "    print(\"Es lunes. Toca soportar.\")\n",
    "    print(\"Día de reuniones.\")\n",
    "  case 6:\n",
    "    print(\"Es martes.\")\n",
    "    print(\"Práctica de tiro al blanco.\")\n",
    "  case 7:\n",
    "    print(\"Es miércoles.\")\n",
    "    print(\"Clase de clarinete.\")\n",
    "  case _:\n",
    "    print(\"No tengo nada\")"
   ]
  },
  {
   "cell_type": "markdown",
   "metadata": {
    "id": "GztqkykiGVQ5"
   },
   "source": [
    "##**2) ITERATIVAS O BUCLES**\n",
    "\n",
    "\n"
   ]
  },
  {
   "cell_type": "markdown",
   "metadata": {
    "id": "oPyFswZ9YEMm"
   },
   "source": [
    "###**Introducción a listas en Python**\n",
    "Python tiene varios tipos de datos compuestos, utilizados para agrupar otros valores. El más versátil es la lista, la cual puede ser escrita como una lista de valores separados por coma (ítems) entre corchetes. Las listas pueden contener ítems de diferentes tipos, pero usualmente los ítems son del mismo tipo.<br>\n",
    "Las listas son objetos indexables, iterables, mutables y segmentables."
   ]
  },
  {
   "cell_type": "code",
   "execution_count": null,
   "metadata": {
    "colab": {
     "base_uri": "https://localhost:8080/"
    },
    "id": "rXxIxVYtZpOB",
    "outputId": "cd0b3e51-9820-4e0e-b59d-a63f4371d10a"
   },
   "outputs": [
    {
     "name": "stdout",
     "output_type": "stream",
     "text": [
      "Índice 4:  sandía\n"
     ]
    }
   ],
   "source": [
    "frutas = [\"ananá\", \"pera\", \"manzana\", \"banana\", \"sandía\", \"kiwi\", \"mandarina\"]\n",
    "\n",
    "3# INDEXABLE - > puedo acceder por medio del índice (=posición, empezando de 0)\n",
    "print(\"Índice 4: \", frutas[4])"
   ]
  },
  {
   "cell_type": "code",
   "execution_count": null,
   "metadata": {
    "colab": {
     "base_uri": "https://localhost:8080/"
    },
    "id": "5iG9GmPYczYM",
    "outputId": "a4889054-708b-44c4-a34a-3104ba568463"
   },
   "outputs": [
    {
     "name": "stdout",
     "output_type": "stream",
     "text": [
      "Índices del 2 al 5: ['manzana', 'banana', 'sandía', 'kiwi']\n"
     ]
    }
   ],
   "source": [
    "# SEGMENTABLES -> puedo obtener una parte de la lista\n",
    "print(\"Índices del 2 al 5:\", frutas[2:6] ) # el elemento del tope (fin) no entra ---> RANGE"
   ]
  },
  {
   "cell_type": "code",
   "execution_count": null,
   "metadata": {
    "colab": {
     "base_uri": "https://localhost:8080/"
    },
    "id": "zubaa8wXdwFB",
    "outputId": "768865cc-8a4f-4522-adf3-c7564b28bdb2"
   },
   "outputs": [
    {
     "name": "stdout",
     "output_type": "stream",
     "text": [
      "Índice 4:  uva\n",
      "Último elemento: naranja\n",
      "Nuevo primer elemento: pera\n"
     ]
    }
   ],
   "source": [
    "# MUTABLE -> puedo agregar, quitar o modificar los elementos de la lista\n",
    "frutas[4] = \"uva\"\n",
    "print(\"Índice 4: \", frutas[4])\n",
    "\n",
    "frutas.append(\"naranja\")\n",
    "print(\"Último elemento:\", frutas[-1])\n",
    "\n",
    "frutas.pop(0)\n",
    "print(\"Nuevo primer elemento:\", frutas[0])"
   ]
  },
  {
   "cell_type": "code",
   "execution_count": null,
   "metadata": {
    "colab": {
     "base_uri": "https://localhost:8080/",
     "height": 36
    },
    "id": "BUFXZ6lxeo2-",
    "outputId": "9e191dbc-57b9-4e92-90a7-ee4b456ad5cb"
   },
   "outputs": [
    {
     "data": {
      "application/vnd.google.colaboratory.intrinsic+json": {
       "type": "string"
      },
      "text/plain": [
       "'banana'"
      ]
     },
     "execution_count": 38,
     "metadata": {},
     "output_type": "execute_result"
    }
   ],
   "source": [
    "frutas\n",
    "frutas[3]"
   ]
  },
  {
   "cell_type": "markdown",
   "metadata": {
    "id": "MvlvTaoJlJ5V"
   },
   "source": [
    "### **while**\n",
    "\n",
    "Se ejecuta el mismo bloque de código reiteradas veces, mientras una condicón permanece verdadera\n",
    "\n",
    "**IMPORTANTE: ** me tengo que asegurar de crear las condiciones para que la expresión del while cambie su valor de verdad en algún momento para poder salir del bucle. (BUCLE INFINITO)"
   ]
  },
  {
   "cell_type": "code",
   "execution_count": null,
   "metadata": {
    "colab": {
     "base_uri": "https://localhost:8080/"
    },
    "id": "weoP3Qf6HL4k",
    "outputId": "359910b3-96db-44ca-e086-636bbb26d513"
   },
   "outputs": [
    {
     "name": "stdout",
     "output_type": "stream",
     "text": [
      "5 es menor o igual a 10\n",
      "6 es menor o igual a 10\n",
      "7 es menor o igual a 10\n",
      "8 es menor o igual a 10\n",
      "9 es menor o igual a 10\n",
      "10 es menor o igual a 10\n"
     ]
    }
   ],
   "source": [
    "n = 5\n",
    "\n",
    "while n <= 10:\n",
    "  print(n,\"es menor o igual a 10\")\n",
    "  n += 1\n",
    "\n"
   ]
  },
  {
   "cell_type": "markdown",
   "metadata": {
    "id": "JAoXIBJyIIym"
   },
   "source": [
    "###**for**\n",
    "Recorre un objeto iterable o repite un fragmento de código una determinada cantidad de veces (método range)"
   ]
  },
  {
   "cell_type": "code",
   "execution_count": null,
   "metadata": {
    "colab": {
     "base_uri": "https://localhost:8080/"
    },
    "id": "S5oZlxhxJhnl",
    "outputId": "967cf789-3e57-4c2d-9f14-3e2cdf0e88c8"
   },
   "outputs": [
    {
     "name": "stdout",
     "output_type": "stream",
     "text": [
      "pera\n",
      "manzana\n",
      "banana\n",
      "uva\n",
      "kiwi\n",
      "mandarina\n",
      "naranja\n",
      "naranja\n"
     ]
    }
   ],
   "source": [
    "for elemento in frutas:\n",
    "  print(elemento)"
   ]
  },
  {
   "cell_type": "code",
   "execution_count": null,
   "metadata": {
    "colab": {
     "base_uri": "https://localhost:8080/"
    },
    "id": "TtXwzg3cfyhC",
    "outputId": "8198384f-9b7b-4c36-99b3-662b591bd0c0"
   },
   "outputs": [
    {
     "name": "stdout",
     "output_type": "stream",
     "text": [
      "En el índice 0 hay 45\n",
      "En el índice 1 hay True\n",
      "En el índice 2 hay hola\n",
      "En el índice 3 hay 45.56\n",
      "En el índice 4 hay ['Juan', 'Pedro']\n"
     ]
    }
   ],
   "source": [
    "lista = [45, True, \"hola\", 45.56, [\"Juan\", \"Pedro\"]]\n",
    "c = 0\n",
    "for e in lista:\n",
    "  print(\"En el índice\",c,\"hay\", e)\n",
    "  c += 1"
   ]
  },
  {
   "cell_type": "markdown",
   "metadata": {
    "id": "rDoenVmZKqFn"
   },
   "source": [
    "El método que len() me indica la cantidad de elementos de mi objeto iterable (string, listas, tuplas o diccionarios)"
   ]
  },
  {
   "cell_type": "code",
   "execution_count": null,
   "metadata": {
    "colab": {
     "base_uri": "https://localhost:8080/"
    },
    "id": "_okEESXak1sa",
    "outputId": "b7568f1a-6edb-461b-9a25-a12aa59f1cf0"
   },
   "outputs": [
    {
     "name": "stdout",
     "output_type": "stream",
     "text": [
      "En posición 0 está 45\n",
      "En posición 1 está True\n",
      "En posición 2 está hola\n",
      "En posición 3 está 45.56\n",
      "En posición 4 está ['Juan', 'Pedro']\n"
     ]
    }
   ],
   "source": [
    "lista = [45, True, \"hola\", 45.56, [\"Juan\", \"Pedro\"]]\n",
    "\n",
    "# print(len(lista))\n",
    "'''\n",
    "for i in range(11): # imprime de 0 a 10\n",
    "  print(i)\n",
    "\n",
    "for i in range(2,11): # imprime de 2 a 10\n",
    "  print(i)\n",
    "\n",
    "for i in range(2,11,2): # imprime de 2 a 10, salteando 1 elemento\n",
    "  print(i)\n",
    "'''\n",
    "\n",
    "for i in range(len(lista)):\n",
    "  print(\"En posición\", i, \"está\", lista[i])"
   ]
  },
  {
   "cell_type": "markdown",
   "metadata": {
    "id": "mlt6195CMHF4"
   },
   "source": [
    "##**3) BREAKPOINTS**\n",
    "Rompen con el comportamiento de un bucle o función\n",
    "\n",
    "\n",
    "\n"
   ]
  },
  {
   "cell_type": "markdown",
   "metadata": {
    "id": "Ksbb5Mb6lP-S"
   },
   "source": [
    "###**pass**\n",
    "Devuelve NULL al leer el interior de un bucle. Se usa en for, while, condicionales, funciones, clases"
   ]
  },
  {
   "cell_type": "code",
   "execution_count": null,
   "metadata": {
    "colab": {
     "base_uri": "https://localhost:8080/"
    },
    "id": "Y5FjUWM-h8Tc",
    "outputId": "b09b43d9-0a78-45d9-c43a-2412fa5e72cb"
   },
   "outputs": [
    {
     "name": "stdout",
     "output_type": "stream",
     "text": [
      "0\n",
      "1\n",
      "2\n",
      "4\n",
      "5\n"
     ]
    }
   ],
   "source": [
    "for i in range(6):\n",
    "  if i == 3:\n",
    "    pass\n",
    "  else:\n",
    "    print(i)"
   ]
  },
  {
   "cell_type": "code",
   "execution_count": null,
   "metadata": {
    "colab": {
     "base_uri": "https://localhost:8080/"
    },
    "id": "qT2fVXmhHZpd",
    "outputId": "0c48476c-193b-4699-c15a-ffe6a5c6ca23"
   },
   "outputs": [
    {
     "name": "stdout",
     "output_type": "stream",
     "text": [
      "Artículo: pantalón - Precio: $ 1000\n",
      "Artículo: campera - Precio: $ 1200\n"
     ]
    }
   ],
   "source": [
    "arts = [['pantalón', 1000, 1500], ['camisa', 1500, 10], ['campera', 1200, 200]]\n",
    "\n",
    "#print(arts[2][0], arts[2][2])\n",
    "\n",
    "for i in range(len(arts)):\n",
    "  if arts[i][2] < 50:\n",
    "    pass\n",
    "  else:\n",
    "    print(\"Artículo:\", arts[i][0], \"- Precio: $\", arts[i][1])"
   ]
  },
  {
   "cell_type": "code",
   "execution_count": null,
   "metadata": {
    "colab": {
     "base_uri": "https://localhost:8080/"
    },
    "id": "ypOgPgl0I5v4",
    "outputId": "4574cb08-3561-4464-fa3a-c46f50b17429"
   },
   "outputs": [
    {
     "name": "stdout",
     "output_type": "stream",
     "text": [
      "Artículo: pantalón - Precio: $ 1000\n",
      "Artículo: campera - Precio: $ 1200\n"
     ]
    }
   ],
   "source": [
    "arts = [['pantalón', 1000, True], ['camisa', 1500, False], ['campera', 1200, True]]\n",
    "\n",
    "#print(arts[2][0], arts[2][2])\n",
    "\n",
    "for i in range(len(arts)):\n",
    "  if not arts[i][2]: # arts[i][2] == False\n",
    "    pass\n",
    "  else:\n",
    "    print(\"Artículo:\", arts[i][0], \"- Precio: $\", arts[i][1])"
   ]
  },
  {
   "cell_type": "code",
   "execution_count": null,
   "metadata": {
    "colab": {
     "base_uri": "https://localhost:8080/"
    },
    "id": "KlQpzKcfJbhJ",
    "outputId": "012db8b0-2f0b-4336-eb50-5b032c31719d"
   },
   "outputs": [
    {
     "name": "stdout",
     "output_type": "stream",
     "text": [
      "Artículo: pantalón - Precio: $ 1000\n",
      "Artículo: camisa - Precio: $ 1500\n"
     ]
    }
   ],
   "source": [
    "arts = [['pantalón', 1000, 4521], ['camisa', 1500, 4577], ['campera', 1200, 0]]\n",
    "\n",
    "#print(arts[2][0], arts[2][2])\n",
    "\n",
    "for i in range(len(arts)):\n",
    "  if not arts[i][2]: # cualquier valor != 0 es False\n",
    "    pass\n",
    "  else:\n",
    "    print(\"Artículo:\", arts[i][0], \"- Precio: $\", arts[i][1])"
   ]
  },
  {
   "cell_type": "markdown",
   "metadata": {
    "id": "B7cm8VrLNpvA"
   },
   "source": [
    "###**break**\n",
    "Termina el bucle actual y salta a la siguiente instrucción del programa\n"
   ]
  },
  {
   "cell_type": "code",
   "execution_count": null,
   "metadata": {
    "colab": {
     "base_uri": "https://localhost:8080/"
    },
    "id": "MYyU5W4JNyRE",
    "outputId": "162eaff8-62b0-4f37-9dbf-1b3b214e95e1"
   },
   "outputs": [
    {
     "name": "stdout",
     "output_type": "stream",
     "text": [
      "45\n",
      "True\n",
      "hola\n",
      "Me salí del for\n"
     ]
    }
   ],
   "source": [
    "lista = [45, True, \"hola\",0, 45.56, [\"Juan\", \"Pedro\"]]\n",
    "\n",
    "for i in lista:\n",
    "  if not i: # i == 0 / i == False\n",
    "    break\n",
    "  print(i)\n",
    "\n",
    "print(\"Me salí del for\")"
   ]
  },
  {
   "cell_type": "markdown",
   "metadata": {
    "id": "Pwq79oE-OJ3M"
   },
   "source": [
    "###**continue**\n",
    "Salta a la siguiente iteración del bucle, ignorando la actual\n"
   ]
  },
  {
   "cell_type": "code",
   "execution_count": null,
   "metadata": {
    "colab": {
     "base_uri": "https://localhost:8080/"
    },
    "id": "3yJItLb6OSB2",
    "outputId": "4c6fac4f-825d-48b2-8554-244385872f4a"
   },
   "outputs": [
    {
     "name": "stdout",
     "output_type": "stream",
     "text": [
      "45\n",
      "True\n",
      "hola\n",
      "45.56\n",
      "['Juan', 'Pedro']\n",
      "Me salí del for\n"
     ]
    }
   ],
   "source": [
    "lista = [45, True, \"hola\",0, 45.56, [\"Juan\", \"Pedro\"]]\n",
    "\n",
    "for i in lista:\n",
    "  if not i:\n",
    "    continue\n",
    "  print(i)\n",
    "\n",
    "print(\"Me salí del for\")"
   ]
  },
  {
   "cell_type": "markdown",
   "metadata": {
    "id": "nx3iMmMtQUvX"
   },
   "source": [
    "#**B) FUNCIONES**\n",
    "Una función es un bloque de código (subrutina) al que le ponemos un nombre para que podamos invocarlo (ejecución) desde otras partes del programa tantas veces como haga falta.\n",
    "Las funciones nos permiten ordenar nuestro programa en módulos.\n",
    "- Reutilizar el código\n",
    "- Ordena el código (módulos)\n",
    "- Reducimos la probabilidad de cometer errores"
   ]
  },
  {
   "cell_type": "code",
   "execution_count": null,
   "metadata": {
    "id": "h4u9rk6RQ7SS"
   },
   "outputs": [],
   "source": [
    "#definir una función\n",
    "# palabra reservada 'def'\n",
    "# def mi_funcion(parametros):\n",
    "#   bloque de instrucciones a ejecutar\n",
    "#   más instrucciones a ejecutar\n",
    "#   return resultado\n",
    "\n",
    "#mi_funcion(23)"
   ]
  },
  {
   "cell_type": "code",
   "execution_count": null,
   "metadata": {
    "colab": {
     "base_uri": "https://localhost:8080/"
    },
    "id": "hTCFggmeT4DI",
    "outputId": "502dc81e-0db1-44d3-b419-6007e72ae194"
   },
   "outputs": [
    {
     "name": "stdout",
     "output_type": "stream",
     "text": [
      "Andrés\n",
      "Analía\n",
      "51\n",
      "Analía tiene 51 años de edad.\n",
      "\n",
      "Feliz cumpleaños, Analía!\n",
      "SÓLO POR HOY, QUE CUMPLÍS 52 AÑOS:\n",
      "Podrás adquirir artículos de la sección farmacia con un 25% de descuento.\n",
      "\n"
     ]
    }
   ],
   "source": [
    "class Cliente:\n",
    "    nombre = \"\"\n",
    "    edad = 0\n",
    "\n",
    "    def __init__(self,n,e):\n",
    "        self.nombre = n\n",
    "        self.edad = e\n",
    "\n",
    "    def cumple(self):\n",
    "        print(\"Feliz cumpleaños,\", self.nombre+\"!\")\n",
    "        self.edad += 1\n",
    "        print(\"SÓLO POR HOY, QUE CUMPLÍS\",self.edad,\"AÑOS:\")\n",
    "        if self.edad > 50:\n",
    "            print(\"Podrás adquirir artículos de la sección farmacia con un 25% de descuento.\\n\")\n",
    "        else:\n",
    "            print(\"Recibirás un 10% de descuento por el total de tu compra.\\n\")\n",
    "\n",
    "    def describir(self):\n",
    "        print(self.nombre, \"tiene\", self.edad,\"años de edad.\\n\")\n",
    "\n",
    "c1 = Cliente(\"Andrés\", 26) # va a ejecutar el método __init__ para crear un objeto de la clase Cliente\n",
    "c2 = Cliente(\"Analía\", 51)\n",
    "\n",
    "print(c1.nombre)\n",
    "print(c2.nombre)\n",
    "print(c2.edad)\n",
    "\n",
    "c2.describir() # c1 se convierte en el self que entra en el método describir()\n",
    "\n",
    "c2.cumple()"
   ]
  },
  {
   "cell_type": "code",
   "execution_count": null,
   "metadata": {
    "colab": {
     "base_uri": "https://localhost:8080/"
    },
    "id": "3lD2xbogREGL",
    "outputId": "96c782d7-b9ef-4cae-983f-6f7545142f69"
   },
   "outputs": [
    {
     "name": "stdout",
     "output_type": "stream",
     "text": [
      "68\n",
      "None\n"
     ]
    }
   ],
   "source": [
    "def sumar(a,b):\n",
    "  print(a+b)\n",
    "\n",
    "a = sumar(45,23)\n",
    "print(a)"
   ]
  },
  {
   "cell_type": "code",
   "execution_count": null,
   "metadata": {
    "colab": {
     "base_uri": "https://localhost:8080/"
    },
    "id": "-zin473HRkjz",
    "outputId": "27b46232-a1c0-41cb-c445-5be6ba1a20b7"
   },
   "outputs": [
    {
     "name": "stdout",
     "output_type": "stream",
     "text": [
      "68\n"
     ]
    }
   ],
   "source": [
    "def sumar(a,b):\n",
    "  return a+b\n",
    "\n",
    "a = sumar(45,23)\n",
    "print(a)"
   ]
  },
  {
   "cell_type": "markdown",
   "metadata": {
    "id": "ieAg-ZK4UHDa"
   },
   "source": [
    "Los parámetros y el valor de retorno no son obligatorios.\n",
    "Si tiene parámetros, al llamar a la función, debe haber la misma cantidad que en la *definición*\n",
    "Si una función tiene valor de retorno, se puede guardar en una variable, manipularla, operar con ella.\n",
    "Si quiero saber el valor, lo tengo que imprimir."
   ]
  },
  {
   "cell_type": "code",
   "execution_count": null,
   "metadata": {
    "colab": {
     "base_uri": "https://localhost:8080/"
    },
    "id": "ZHM0KPj7VX-2",
    "outputId": "bc5bcdd8-a625-47c6-d650-be26f90e8c76"
   },
   "outputs": [
    {
     "name": "stdout",
     "output_type": "stream",
     "text": [
      "n1: 34\n",
      "n2: 23\n",
      "57\n"
     ]
    }
   ],
   "source": [
    "def sumar():\n",
    "  print(int(input(\"n1: \"))+ int(input(\"n2: \")))\n",
    "\n",
    "sumar()"
   ]
  },
  {
   "cell_type": "markdown",
   "metadata": {
    "id": "nOnIj-pIS9to"
   },
   "source": [
    "#**C) MATERIAL COMPLEMENTARIO**\n",
    "**Fuente: Python.org**\n",
    "* <a href=\"https://docs.python.org/es/3/tutorial/controlflow.html\">Herramientas de control de flujo</a>\n",
    "* <a href=\"https://docs.python.org/es/3.12/reference/compound_stmts.htmlhttps://docs.python.org/es/3.12/reference/compound_stmts.html\">Definiciones de funciones: punto 8.7</a>"
   ]
  },
  {
   "cell_type": "markdown",
   "metadata": {
    "id": "9snGsTdFWWrV"
   },
   "source": [
    "## **D) EJERCITACIÓN**\n",
    "*Ejercicios no obligatorios, no entregables.* <br><br>\n",
    "###1) Condicionales y operadores lógicos\n",
    "**Ejercicio #01-01**\n",
    "\n",
    "Mostrá por pantalla un número 0  si resulta que el número 4096 es múltiplo del número 16, y cualquier otro número si no es múltiplo."
   ]
  },
  {
   "cell_type": "code",
   "execution_count": null,
   "metadata": {
    "id": "JMPERxA5W3fO"
   },
   "outputs": [],
   "source": []
  },
  {
   "cell_type": "markdown",
   "metadata": {
    "id": "NiZhDEHxW38K"
   },
   "source": [
    "**Ejercicio #01-02**\n",
    "\n",
    "Solicita que el usuario ingrese su edad.<br>\n",
    "Según su edad,*italicized text* informarle si es menor de edad (menor de 18 años), si está en edad laboral (entre 18 y 64 años) o si está en edad de jubilación (65 años o más).<br>\n",
    "Intentá usar la menor cantidad de condicionales posibles."
   ]
  },
  {
   "cell_type": "code",
   "execution_count": null,
   "metadata": {
    "id": "4VjENdP1XEHt"
   },
   "outputs": [],
   "source": []
  },
  {
   "cell_type": "markdown",
   "metadata": {
    "id": "A1Azws0AXEjs"
   },
   "source": [
    "**Ejercicio #01-03**\n",
    "\n",
    "Para el acceso a un juego mecánico de un parque de diversiones, solicitá que el usuario ingrese su altura y su peso.<br>\n",
    "Usando un solo condicional, indicar al usuario si cumple con las condiciones para ingresar o no las cumple.<br>\n",
    "Las condiciones son medir 130 cm o más y pesar 100 kg o menos."
   ]
  },
  {
   "cell_type": "code",
   "execution_count": null,
   "metadata": {
    "id": "0YDv7nTQXUxu"
   },
   "outputs": [],
   "source": []
  },
  {
   "cell_type": "markdown",
   "metadata": {
    "id": "5ypMkZrwXVUW"
   },
   "source": [
    "**Ejercicio #01-04**\n",
    "\n",
    "Creá una lista de números pares desde 2 a 20.<br>\n",
    "Solicitá al usuario que ingrese un número entero, y luego indicale si el número se encuentra dentro de la lista.<br>"
   ]
  },
  {
   "cell_type": "code",
   "execution_count": null,
   "metadata": {
    "id": "Wyo1OjHZXWqW"
   },
   "outputs": [],
   "source": []
  },
  {
   "cell_type": "markdown",
   "metadata": {
    "id": "9OQHqLF3Xrso"
   },
   "source": [
    "**Desafío Especial #01**\n",
    "\n",
    "Un docente tiene dos listas de nombres de alumnos, una de aprobados y otra de reprobados.<br>\n",
    "Creá 2 listas de nombres de por lo menos 5 elementos cada una.<br>\n",
    "Solicitá que se ingrese por teclado un nombre, y de acuerdo al mismo informar alguna de las 3 posibles situaciones:<br>\n",
    "* El alumno está aprobado\n",
    "* El alumno está reprobado\n",
    "* El alumno no se encuentra en las listas."
   ]
  },
  {
   "cell_type": "code",
   "execution_count": null,
   "metadata": {
    "id": "qus_x0xSc8wj"
   },
   "outputs": [],
   "source": []
  },
  {
   "cell_type": "markdown",
   "metadata": {
    "id": "5f_iprh9c8Eq"
   },
   "source": [
    "###2) Listas y Bucles\n",
    "\n",
    "**Ejercicio #02-01**\n",
    "\n",
    "Solicitá el ingreso de nombres de personas por teclado en forma repetitiva.<br>\n",
    "A medida que van ingresando los datos, almacenalos en una lista.<br>\n",
    "El ingreso de datos debe detenerse cuando el usuario ingrese \"fin\"\n",
    "Al finalizar el ingreso, mostrar por pantalla la lista completa.<br>"
   ]
  },
  {
   "cell_type": "code",
   "execution_count": null,
   "metadata": {
    "id": "XLiJHfikdm_Y"
   },
   "outputs": [],
   "source": []
  },
  {
   "cell_type": "markdown",
   "metadata": {
    "id": "fJp_jVR0dnXR"
   },
   "source": [
    "**Ejercicio #02-02**\n",
    "\n",
    "Solicitá el ingreso por teclado de un número entre 2 y 10.<br>\n",
    "Mostrá por pantalla una lista de los números del 2 al 99 que sean múltiplos del número ingresado.<br>"
   ]
  },
  {
   "cell_type": "code",
   "execution_count": null,
   "metadata": {
    "id": "3njdr0T6d7Qc"
   },
   "outputs": [],
   "source": []
  },
  {
   "cell_type": "markdown",
   "metadata": {
    "id": "UP4_mV9Sd7oC"
   },
   "source": [
    "**Desafío Especial #02**\n",
    "\n",
    "Un conserje de un salón de fiestas tiene una lista de nombres de invitados a un festejo.<br>\n",
    "(Generá una lista de nombres de por lo menos 10 nombres)<br>\n",
    "A medida que van llegando los asistentes el conserje solicita sus nombres, y si el nombre está en la lista de invitados debe:<br>\n",
    "* Dejarlo ingresar al salón (simulado con un mensaje por pantalla)\n",
    "* Agregar el nombre a otra lista de asistentes\n",
    "* Borrar el nombre de la lista de invitados\n",
    "* Si el nombre no está en la lista de invitados, debe rechazar su ingreso (simulado con un mensaje por pantalla).\n",
    "* A un determinado horario pactado con los anfitriones, cierra la puerta y ya no permite los ingresos. Esto lo realiza ingresando el nombre clave 'FIN'.\n",
    "\n",
    "Luego de cerrar el ingreso, el conserje debe informar la cantidad de invitados, la cantidad de asistentes y la cantidad de ausentes."
   ]
  },
  {
   "cell_type": "code",
   "execution_count": null,
   "metadata": {
    "id": "Oj4mtEy0eTSe"
   },
   "outputs": [],
   "source": []
  },
  {
   "cell_type": "markdown",
   "metadata": {
    "id": "WglbQ4xPeZIr"
   },
   "source": [
    "###3) Funciones\n",
    "\n",
    "**Ejercicio #03-01**\n",
    "\n",
    "Creá una función que calcule y devuelva la superficie de un círculo cuyo valor de radio se recibe como argumento de entrada.\n",
    "\n",
    "$Sup.círculo = π.x^{2}$ <br>\n",
    "Usar el valor aproximado de $π = 3.14$\n",
    "\n",
    "Posteriormente efectúa 3 o más llamadas a la función, usando diferentes valores de radio y verificá con calculadora que los valores sean correctos."
   ]
  },
  {
   "cell_type": "code",
   "execution_count": null,
   "metadata": {
    "id": "b2zJRwhtgHWi"
   },
   "outputs": [],
   "source": []
  },
  {
   "cell_type": "markdown",
   "metadata": {
    "id": "Z9LGNaj8gHxR"
   },
   "source": [
    "**Ejercicio #03-02**\n",
    "\n",
    "Escribí una función que reciba un «momento del día» y un nombre, y muestre un saludo por pantalla.<br>\n",
    "Por ejemplo si se usa la llamada saludar(\"tardes\", \"Carlos\") , debe mostrar \"¡Buenas tardes Carlos !\"<br>\n",
    "Si se omite el parámetro del nombre se debe usar \"Sr./Sra.\" en su reemplazo.<br>\n",
    "Hacer varias llamadas a la función probando la posibilidad de omitir el nombre."
   ]
  },
  {
   "cell_type": "code",
   "execution_count": null,
   "metadata": {
    "id": "5uruCoVWgUoX"
   },
   "outputs": [],
   "source": []
  },
  {
   "cell_type": "markdown",
   "metadata": {
    "id": "67VWvEWxg8is"
   },
   "source": [
    "**Desafío Especial #03**\n",
    "\n",
    "De un triángulo rectángulo, conocemos el valor de los lados que forman el ángulo recto (catetos) y desconocemos el valor del 3er lado (hipotenusa).<br>\n",
    "Escribí una función que reciba el valor de ambos catetos y devuelva el perímetro del triángulo (la suma de su 3 lados)<br>\n",
    "Como ayuda podes escribir otra función que calcule la hipotenusa y llamarla desde esta función de perímetro.<br>\n",
    "Escribí una función que reciba el valor de ambos catetos y devuelva la superficie del triángulo.<br>\n",
    "Proba las funciones perimetroTrianguloRectangulo() y superficieTrianguloRectangulo() con 2 o más juegos de valores para observar su funcionamiento."
   ]
  },
  {
   "cell_type": "code",
   "execution_count": null,
   "metadata": {
    "id": "1SKl4oxqhb1T"
   },
   "outputs": [],
   "source": []
  },
  {
   "cell_type": "markdown",
   "metadata": {
    "id": "3l-tL2izhcX8"
   },
   "source": [
    "<hr>\n",
    "<img src=\"https://drive.google.com/uc?id=16Fy8ub2YrUHJnQ8W2p3DrVI42b20ncXz\" width=\"400\">\n",
    "\n",
    "**Todos los derechos son reservados por el Programa Codo a Codo perteneciente a la Dirección Agencia de Habilidades para el Futuro del Ministerio de Educación del Gobierno de la Ciudad Autónoma de Buenos Aires. Se encuentra prohibida su venta o comercialización.**"
   ]
  }
 ],
 "metadata": {
  "colab": {
   "provenance": []
  },
  "kernelspec": {
   "display_name": "Python 3",
   "language": "python",
   "name": "python3"
  },
  "language_info": {
   "codemirror_mode": {
    "name": "ipython",
    "version": 3
   },
   "file_extension": ".py",
   "mimetype": "text/x-python",
   "name": "python",
   "nbconvert_exporter": "python",
   "pygments_lexer": "ipython3",
   "version": "3.8.8"
  }
 },
 "nbformat": 4,
 "nbformat_minor": 1
}
