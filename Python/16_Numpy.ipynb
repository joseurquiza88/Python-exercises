{
  "nbformat": 4,
  "nbformat_minor": 0,
  "metadata": {
    "colab": {
      "provenance": []
    },
    "kernelspec": {
      "name": "python3",
      "display_name": "Python 3"
    },
    "language_info": {
      "name": "python"
    }
  },
  "cells": [
    {
      "cell_type": "markdown",
      "source": [
        "<center><img src=\"https://drive.google.com/uc?id=1JyBSeVdwey172waBwICufx0Iua67AEgP\" width=\"500\"></center>"
      ],
      "metadata": {
        "id": "pIomQEzWxLD5"
      }
    },
    {
      "cell_type": "markdown",
      "source": [
        "##Arreglos especiales en NumPy"
      ],
      "metadata": {
        "id": "-SU-mp8UxAaE"
      }
    },
    {
      "cell_type": "markdown",
      "source": [
        "##Inicializando arreglos\n",
        "En ocasiones se necesita crear arreglos que luego serán rellenados con datos.\n",
        "Se pueden inicializar con ceros, valores espaciados uniformemente, valores constantes o aleatorios.\n",
        "\n"
      ],
      "metadata": {
        "id": "ntjZW-JNxGLO"
      }
    },
    {
      "cell_type": "markdown",
      "source": [
        "### Arreglo lleno de unos\n",
        "El método numpy.ones() crea un arreglo lleno de unos. El tipo es float64.\n",
        "\n",
        "`a1 = np.ones(3) `\n",
        "\n",
        "`[1. 1. 1.]`\n",
        "<br><br>\n",
        "`# en arreglos de 2 dimensiones se utiliza doble paréntesis`\n",
        "\n",
        "`a2 = np.ones((3, 5)) `\n",
        "\n",
        "```\n",
        "[[1. 1. 1. 1. 1.]\n",
        " [1. 1. 1. 1. 1.]\n",
        " [1. 1. 1. 1. 1.]]\n",
        "```\n",
        "\n",
        "Puede convertirse en un matriz enteros:\n",
        "\n",
        "`a3 = np.ones((3,5),dtype=np.int64)`\n",
        "\n",
        "```\n",
        "[[1 1 1 1 1]\n",
        " [1 1 1 1 1]\n",
        " [1 1 1 1 1]]\n",
        "```\n",
        "\n",
        "\n",
        "\n"
      ],
      "metadata": {
        "id": "WJAK4KV519Aj"
      }
    },
    {
      "cell_type": "markdown",
      "source": [
        "### Arreglo lleno de ceros\n",
        "`a4 = np.zeros((3,5),dtype=np.int64)`\n",
        "\n",
        "\n",
        "```\n",
        "[[0 0 0 0 0]\n",
        " [0 0 0 0 0]\n",
        " [0 0 0 0 0]]\n",
        "```\n",
        "\n"
      ],
      "metadata": {
        "id": "VCUJvwFc2AH9"
      }
    },
    {
      "cell_type": "markdown",
      "source": [
        "### Arreglo lleno de un valor determinado\n",
        "\n",
        "\n",
        "```\n",
        "a5 = np.full((2,3),8) # SINTAXIS: numpy.full((filas,columnas), valor)\n",
        "```\n",
        "```\n",
        "[[8 8 8]\n",
        " [8 8 8]]\n",
        "```\n",
        "\n",
        "<br>\n",
        "\n",
        "`a6 = np.full((2,3),True)`\n",
        "```\n",
        "[[ True  True  True]\n",
        " [ True  True  True]]\n",
        "```\n"
      ],
      "metadata": {
        "id": "QdIn7XTr2C4G"
      }
    },
    {
      "cell_type": "markdown",
      "source": [
        "###Arreglo lleno con valores equiespaciados\n",
        "**numpy.arange()**\n",
        "\n",
        "Crea un rango de valores enteros. Respeta la sintaxis de range() de Python.\n",
        "\n",
        "Ejemplo: crear un arreglo con los valores comprendidos entre 0 y 50 a paso 5"
      ],
      "metadata": {
        "id": "UGd-zmh72SOu"
      }
    },
    {
      "cell_type": "code",
      "source": [
        "import numpy as np\n",
        "eq1 = np.arange(0,51,5)\n",
        "print(eq1)"
      ],
      "metadata": {
        "id": "_V6CbiIn3GeB",
        "colab": {
          "base_uri": "https://localhost:8080/"
        },
        "outputId": "50fb2dbc-c0df-4c4b-ad0b-8b44eaaaba6d"
      },
      "execution_count": null,
      "outputs": [
        {
          "output_type": "stream",
          "name": "stdout",
          "text": [
            "[ 0  5 10 15 20 25 30 35 40 45 50]\n"
          ]
        }
      ]
    },
    {
      "cell_type": "markdown",
      "source": [
        "**numpy.linspace()**\n",
        "Toma el rango especificado y lo divide en n partes iguales. Este arreglo contiene valores tipo float.\n",
        "\n",
        "Sintaxis: `numpy.linspace(min, max, n)`. A diferencia de arange(), linspace() toma el malor máximo y lo incluye en el arreglo.\n",
        "\n",
        "Ejemplo 1: crear un arreglo con 5 valores que se encuentren entre 0 y 2"
      ],
      "metadata": {
        "id": "dd5ETFqW3Yfa"
      }
    },
    {
      "cell_type": "code",
      "source": [
        "eq2 = np.linspace(0,2,5)\n",
        "print(eq2)"
      ],
      "metadata": {
        "id": "pcThLltZ33mJ",
        "colab": {
          "base_uri": "https://localhost:8080/"
        },
        "outputId": "394e6444-cde3-4754-9443-c7836fb22e4c"
      },
      "execution_count": null,
      "outputs": [
        {
          "output_type": "stream",
          "name": "stdout",
          "text": [
            "[0.  0.5 1.  1.5 2. ]\n"
          ]
        }
      ]
    },
    {
      "cell_type": "markdown",
      "source": [
        "Ejemplo 2: crear un arreglo con 5 valores que se encuentren entre 2 y 10"
      ],
      "metadata": {
        "id": "_KV0bSB24TcY"
      }
    },
    {
      "cell_type": "code",
      "source": [
        "eq3 = np.linspace(2,10,5)\n",
        "print(eq3)"
      ],
      "metadata": {
        "id": "SckvVjnS4cH9",
        "colab": {
          "base_uri": "https://localhost:8080/"
        },
        "outputId": "786da589-1700-485c-a714-1cc9a9adb9f0"
      },
      "execution_count": null,
      "outputs": [
        {
          "output_type": "stream",
          "name": "stdout",
          "text": [
            "[ 2.  4.  6.  8. 10.]\n"
          ]
        }
      ]
    },
    {
      "cell_type": "markdown",
      "source": [
        "###Arreglo llenos con valores aleatorios\n",
        "Numpy tiene un módulo que genera números aleatorios: random\n",
        "().\n",
        "\n"
      ],
      "metadata": {
        "id": "fDFfBhQB5b40"
      }
    },
    {
      "cell_type": "markdown",
      "source": [
        "**random.rand()**\n",
        "\n",
        "Crea un arreglo con valores aleatorios con distribución uniforme en el intervalo [0,1).\n",
        "\n",
        "Ejemplo 1: crear un arreglo de 200 valores aleatorios y explorar su distribución."
      ],
      "metadata": {
        "id": "muthoxDz85QU"
      }
    },
    {
      "cell_type": "code",
      "source": [
        "r1 = np.random.rand(200)\n",
        "print(r1)"
      ],
      "metadata": {
        "id": "X184Maqq6Uew",
        "colab": {
          "base_uri": "https://localhost:8080/"
        },
        "outputId": "27d17c19-c2d7-48d8-91d0-4481ff1150ad"
      },
      "execution_count": null,
      "outputs": [
        {
          "output_type": "stream",
          "name": "stdout",
          "text": [
            "[0.07819774 0.60430457 0.67332579 0.14469473 0.66006402 0.2113006\n",
            " 0.39036344 0.37265193 0.94535769 0.05999625 0.08569716 0.9623832\n",
            " 0.8894084  0.24830038 0.18156039 0.40509329 0.67649301 0.34382644\n",
            " 0.2937951  0.82795172 0.75658547 0.51191538 0.26556808 0.3876538\n",
            " 0.69463528 0.69508474 0.54532296 0.57639443 0.20693983 0.01830085\n",
            " 0.90926693 0.97248782 0.21262068 0.08205363 0.10955163 0.07071126\n",
            " 0.03838733 0.93062248 0.75226336 0.6057617  0.34274239 0.70738969\n",
            " 0.97504131 0.19702191 0.37253476 0.46236356 0.56858208 0.42609242\n",
            " 0.48506138 0.15340262 0.21712619 0.1668033  0.44454942 0.12488433\n",
            " 0.75537517 0.13364492 0.16607429 0.64098339 0.78970093 0.4679167\n",
            " 0.20695265 0.4972161  0.02254506 0.70909455 0.85385579 0.37158245\n",
            " 0.83047715 0.57037436 0.62959528 0.40848032 0.67798773 0.22339101\n",
            " 0.88947397 0.35847183 0.92776265 0.29924047 0.14751304 0.60275996\n",
            " 0.25235664 0.97547014 0.13347757 0.29161694 0.38293652 0.65843802\n",
            " 0.26674585 0.55869762 0.05777946 0.69847203 0.52753869 0.66829997\n",
            " 0.2976301  0.07638905 0.84345128 0.92624771 0.03013691 0.94806186\n",
            " 0.52618784 0.3228855  0.91372798 0.48144215 0.9425742  0.20102828\n",
            " 0.70833133 0.28276958 0.90471971 0.828478   0.90001539 0.33162807\n",
            " 0.36650344 0.18307916 0.07668185 0.45166324 0.05226062 0.08940748\n",
            " 0.35007015 0.39836984 0.69953643 0.55165902 0.39468499 0.60978084\n",
            " 0.75464742 0.09943478 0.75456401 0.76598366 0.9179508  0.8558635\n",
            " 0.6268147  0.83380434 0.17429153 0.40724707 0.45318754 0.60646136\n",
            " 0.03765702 0.30691642 0.63883289 0.0829495  0.99103905 0.02354814\n",
            " 0.63558301 0.94102074 0.11455305 0.33022297 0.91251789 0.32093829\n",
            " 0.31596705 0.82311437 0.36174904 0.88665001 0.91221905 0.10544802\n",
            " 0.86455914 0.61100494 0.50019456 0.08574904 0.31828112 0.86745881\n",
            " 0.94258382 0.99197526 0.95353585 0.36029092 0.31680127 0.14935114\n",
            " 0.72009576 0.93514078 0.45987988 0.08831513 0.51659198 0.53635487\n",
            " 0.57521704 0.68137021 0.0891932  0.32057474 0.09209906 0.62525137\n",
            " 0.1862667  0.05571141 0.46938892 0.38720239 0.7748838  0.2310718\n",
            " 0.50374413 0.48061481 0.8673774  0.28400885 0.14506357 0.85587858\n",
            " 0.23725866 0.82974059 0.38091377 0.9192979  0.27571009 0.17077575\n",
            " 0.41333737 0.15195863 0.24070948 0.78659246 0.42800253 0.678353\n",
            " 0.43313997 0.31888746]\n"
          ]
        }
      ]
    },
    {
      "cell_type": "markdown",
      "source": [
        "El método numpy.histogram() calcula los valores de un histograma, devolviendo dos arrays:\n",
        "* valores enteros, mostrando la frecuencia de los datos\n",
        "* los límites de los *bins* o barras.\n",
        "\n",
        "Si enviamos los datos generados por numpy.random.rand() como argumento, veremos que el primer array devuelto por numpy.histogram() tiene valores bastante cercanos uno del otro. Esto significa que la distribución de los datos es uniforme: al graficar el histograma, no habría grandes diferencias en las alturas de las barras."
      ],
      "metadata": {
        "id": "uJUtmKh98CaH"
      }
    },
    {
      "cell_type": "code",
      "source": [
        "np.histogram(r1, bins=10)"
      ],
      "metadata": {
        "id": "Ur51zkSi7BHX",
        "colab": {
          "base_uri": "https://localhost:8080/"
        },
        "outputId": "06e4831e-0928-468a-ca75-ffa193f9bc72"
      },
      "execution_count": null,
      "outputs": [
        {
          "output_type": "execute_result",
          "data": {
            "text/plain": [
              "(array([18, 21, 17, 19, 24, 20, 23, 18, 19, 21]),\n",
              " array([0.00137239, 0.10075904, 0.20014569, 0.29953234, 0.39891898,\n",
              "        0.49830563, 0.59769228, 0.69707893, 0.79646558, 0.89585223,\n",
              "        0.99523888]))"
            ]
          },
          "metadata": {},
          "execution_count": 12
        }
      ]
    },
    {
      "cell_type": "markdown",
      "source": [
        "Ejemplo 2: crear una matriz de 4 filas y 5 columnas de números aleatorios."
      ],
      "metadata": {
        "id": "dDwyWcnc6gM1"
      }
    },
    {
      "cell_type": "code",
      "source": [
        "np.random.rand(4,5)"
      ],
      "metadata": {
        "id": "1TcABFfR6o5a",
        "colab": {
          "base_uri": "https://localhost:8080/"
        },
        "outputId": "36f5db45-f07b-40ae-decb-ed0d90f16527"
      },
      "execution_count": null,
      "outputs": [
        {
          "output_type": "execute_result",
          "data": {
            "text/plain": [
              "array([[0.62156617, 0.10951127, 0.79493487, 0.70346084, 0.86612058],\n",
              "       [0.45368121, 0.72221528, 0.31038808, 0.22913933, 0.86771392],\n",
              "       [0.57369639, 0.77881412, 0.68176288, 0.32543717, 0.09714196],\n",
              "       [0.40835964, 0.65488522, 0.12593269, 0.58029294, 0.81192987]])"
            ]
          },
          "metadata": {},
          "execution_count": 15
        }
      ]
    },
    {
      "cell_type": "markdown",
      "source": [
        "**random.randn()**\n",
        "\n",
        "Crea un arreglo con valores aleatorios con distribución normal en el intervalo [0,1).\n",
        "\n",
        "Ejemplo 1: crear un arreglo de 200 valores aleatorios y explorar su distribución."
      ],
      "metadata": {
        "id": "ztCugQrJ89eu"
      }
    },
    {
      "cell_type": "code",
      "source": [
        "r3= np.random.randn(200)\n",
        "print(r3)"
      ],
      "metadata": {
        "id": "xEtqqAFK9YRb",
        "colab": {
          "base_uri": "https://localhost:8080/"
        },
        "outputId": "bd08e44e-628b-4ac4-b630-0783635e4315"
      },
      "execution_count": null,
      "outputs": [
        {
          "output_type": "stream",
          "name": "stdout",
          "text": [
            "[-1.05515161e+00 -9.68279647e-01 -3.62050705e-01 -1.37180183e+00\n",
            " -1.62880827e+00  8.88004753e-01  1.21286675e+00  2.69192887e+00\n",
            " -1.65209352e+00  1.88693290e+00  1.25967489e+00 -3.21160870e-01\n",
            "  9.95538244e-01 -2.73384356e-02  1.91237157e+00 -6.83158717e-02\n",
            "  2.73366830e-01  1.04375235e+00  2.96551596e+00 -5.54154427e-01\n",
            " -3.71459428e-01 -7.59807970e-01  2.28193666e-01  1.23099306e+00\n",
            "  4.53220110e-01  8.63696165e-01 -1.07448632e-01  1.81570502e+00\n",
            " -7.73274657e-01  3.75915979e-01  7.18284631e-01 -1.42533169e-01\n",
            "  7.61968977e-01  6.58059787e-02 -8.82702528e-01  7.80102453e-01\n",
            "  2.34777845e-01  1.05544104e+00 -1.24027040e+00  2.48334295e+00\n",
            "  1.94071982e+00  2.22288233e+00 -1.54523841e+00  5.90584220e-02\n",
            "  1.03485442e+00  6.06616258e-01  1.35637316e+00 -9.60070435e-01\n",
            " -7.95307539e-01 -4.21684246e-01  6.68094814e-02 -4.95706872e-01\n",
            "  7.82925466e-01 -2.61657482e-02 -2.52085929e+00  3.08654999e-01\n",
            "  4.04045719e-01 -1.32777153e+00  2.33932304e-01  1.25101343e-01\n",
            "  1.40745388e+00  9.72401464e-01 -1.48261202e+00  5.92852582e-01\n",
            " -3.76681816e-01  1.11535164e+00  8.69660521e-01 -1.93267397e+00\n",
            "  8.31611364e-03  2.27830967e+00 -3.09315452e-01  3.26836401e-01\n",
            "  1.25479322e+00 -6.48989649e-01  1.11017279e+00 -6.40840632e-01\n",
            "  7.98694394e-02 -3.53522813e-02  1.17263889e+00 -5.91224078e-02\n",
            " -1.67036800e+00  5.55881966e-01  8.36905282e-01 -1.20976483e-01\n",
            " -5.16480487e-01  4.94796709e-01 -9.54952846e-02  8.55960175e-03\n",
            " -1.68792322e+00  6.56104644e-01  1.13843581e-01  2.53504255e-01\n",
            " -2.23135802e-01 -1.79429340e+00  5.42308118e-01  7.34453220e-01\n",
            "  2.12891284e+00  4.75998140e-01 -5.87960493e-01 -7.02864557e-01\n",
            "  2.85019590e-01 -4.25361703e-01 -7.52743715e-02  1.32646475e+00\n",
            " -1.45947329e+00  2.53659152e-01  7.20478663e-01  7.94767657e-01\n",
            " -1.90785374e+00 -1.29862041e+00  1.82084100e+00  2.72516137e-01\n",
            "  9.55240423e-01 -3.54963691e-01 -3.99406991e-01  5.30908205e-01\n",
            "  1.45530864e+00 -1.57198180e+00 -1.13549382e+00 -2.11683752e-01\n",
            "  1.35178462e-01  7.39961504e-02 -3.58248997e-01 -1.38943962e-01\n",
            " -2.55889884e-01 -2.58937030e-02  3.51853012e-01  7.60790895e-01\n",
            "  3.42666144e-02 -1.74963876e+00  1.49870439e+00 -9.98308338e-02\n",
            "  1.13262022e+00 -2.40143539e-01  4.99170664e-01 -2.48894079e-01\n",
            " -7.14510304e-01  2.20102889e+00 -2.22189557e+00  1.97252920e-03\n",
            "  6.47381692e-02  1.59322297e+00  1.51964997e+00  2.84028568e-02\n",
            " -4.84424934e-01  2.09986752e+00  2.65070931e-02  5.71671619e-01\n",
            " -2.11883816e-01 -1.03946288e+00  2.87853357e-01 -5.71786091e-01\n",
            "  3.95911765e-01  1.35616104e-01 -8.18220829e-01 -2.19976560e-01\n",
            "  7.67645425e-01 -1.90695144e+00  1.11700949e-01 -6.09897632e-01\n",
            " -1.23032917e+00  4.39724189e-01 -1.69956252e+00 -4.28114871e-01\n",
            "  1.47441774e-01 -6.55091684e-01  5.27537365e-01  1.26959009e-01\n",
            "  1.29301398e+00  8.42043102e-01 -2.51987458e-01 -2.69399492e-01\n",
            "  7.50077962e-01 -3.90441502e-01 -5.80014584e-01 -4.21060072e-01\n",
            "  6.41367308e-01 -5.92338869e-01  1.25460029e-01 -1.45271751e+00\n",
            "  6.32510221e-01  1.43221249e+00  7.74580710e-01  1.17487145e+00\n",
            " -1.59521473e+00 -4.62103330e-02  2.31967334e-02  1.65341386e-01\n",
            " -4.91471494e-01 -3.37710018e-01 -3.71630812e-01 -6.43621198e-03\n",
            "  4.46620120e-01  5.13374221e-02  1.01015887e+00 -8.97610464e-01\n",
            " -7.57137245e-01  1.17044236e+00 -1.75282410e-01 -2.36584437e-01]\n"
          ]
        }
      ]
    },
    {
      "cell_type": "code",
      "source": [
        "np.histogram(r3, bins=5)"
      ],
      "metadata": {
        "id": "pAlSIYGHq0gg",
        "colab": {
          "base_uri": "https://localhost:8080/"
        },
        "outputId": "75826b72-a96e-44da-b4ee-310f04cb3806"
      },
      "execution_count": null,
      "outputs": [
        {
          "output_type": "execute_result",
          "data": {
            "text/plain": [
              "(array([18, 45, 89, 37, 11]),\n",
              " array([-2.52085929, -1.42358424, -0.32630919,  0.77096586,  1.86824091,\n",
              "         2.96551596]))"
            ]
          },
          "metadata": {},
          "execution_count": 29
        }
      ]
    },
    {
      "cell_type": "markdown",
      "source": [
        "En este ejemplo, podemos ver cómo el método random.randn() creó una muestra con distribución gaussiana o normal."
      ],
      "metadata": {
        "id": "Z0omQ9CuGEhn"
      }
    },
    {
      "cell_type": "markdown",
      "source": [
        "Ejmeplo 2: crear un arreglo de 7 x 4 valores aleatorios"
      ],
      "metadata": {
        "id": "MgmMcz8099O_"
      }
    },
    {
      "cell_type": "code",
      "source": [],
      "metadata": {
        "id": "UQ1zZJB2-EgR"
      },
      "execution_count": null,
      "outputs": []
    },
    {
      "cell_type": "code",
      "source": [
        "'''\n",
        "Matriz de dos por cuatro de muestras de la distribución normal con media 3 y desviación estándar 2,5:\n",
        "\n",
        "3 + 2.5 * np.random.randn(2, 4)\n",
        "array([[-4.49401501,  4.00950034, -1.81814867,  7.29718677],   # random\n",
        "       [ 0.39924804,  4.68456316,  4.99394529,  4.84057254]])  # random\n",
        "'''"
      ],
      "metadata": {
        "id": "JibyAX66iFFS"
      },
      "execution_count": null,
      "outputs": []
    },
    {
      "cell_type": "markdown",
      "source": [
        "**random.randint()**\n",
        "\n",
        "Devuelve un arreglo de números enteros aleatorios en el rango [inicio, final).\n",
        "\n",
        "Ejemplo 1: generar un número aleatorio entre 1 y 99."
      ],
      "metadata": {
        "id": "Dpa74EYd-P8o"
      }
    },
    {
      "cell_type": "code",
      "source": [
        "np.random.randint(1,100)"
      ],
      "metadata": {
        "id": "9vbtXr3v-zny",
        "colab": {
          "base_uri": "https://localhost:8080/"
        },
        "outputId": "b0620fa6-c9f5-4c51-f1ae-c4c935ef51fe"
      },
      "execution_count": null,
      "outputs": [
        {
          "output_type": "execute_result",
          "data": {
            "text/plain": [
              "68"
            ]
          },
          "metadata": {},
          "execution_count": 58
        }
      ]
    },
    {
      "cell_type": "markdown",
      "source": [
        "Ejemplo 2: generar un arreglo de 10 elementos entre 1 y 99 en 10 filas y 2 columnas."
      ],
      "metadata": {
        "id": "BYu3OL5u-6jU"
      }
    },
    {
      "cell_type": "code",
      "source": [
        "# SINTAXIS: (inicio, final, (filas, columnas))\n",
        "print(np.random.randint(1,100,(10,2)))"
      ],
      "metadata": {
        "id": "Ga70nZtj_BeX",
        "colab": {
          "base_uri": "https://localhost:8080/"
        },
        "outputId": "8997c4c6-0439-4ce4-e220-cd715b9d32a3"
      },
      "execution_count": null,
      "outputs": [
        {
          "output_type": "stream",
          "name": "stdout",
          "text": [
            "[[12 68]\n",
            " [74 17]\n",
            " [26 94]\n",
            " [78 11]\n",
            " [20 61]\n",
            " [78 10]\n",
            " [95 89]\n",
            " [41 17]\n",
            " [16 68]\n",
            " [43 27]]\n"
          ]
        }
      ]
    },
    {
      "cell_type": "markdown",
      "source": [
        "Cada vez que ejecutamos una celda que genera valores aleatorios, los elementos obtenidos serán diferentes. Podemos evitarlo con random.seed(0).\n",
        "Si te interesa saber más sobre cómo se generan los números aleatorios, podrás encontrar un link en material complementario."
      ],
      "metadata": {
        "id": "zPYus_yHBV50"
      }
    },
    {
      "cell_type": "code",
      "source": [
        "\n",
        "\n",
        "np.random.randint(1,100,(4,6))"
      ],
      "metadata": {
        "id": "bKqJSA_LtD5Y",
        "colab": {
          "base_uri": "https://localhost:8080/"
        },
        "outputId": "8f73c649-2702-4388-82b1-b8680fcaf05c"
      },
      "execution_count": null,
      "outputs": [
        {
          "output_type": "execute_result",
          "data": {
            "text/plain": [
              "array([[41, 16, 73, 23, 44, 83],\n",
              "       [76,  8, 35, 50, 96, 76],\n",
              "       [86, 48, 64, 32, 91, 21],\n",
              "       [38, 40, 68,  5, 43, 52]])"
            ]
          },
          "metadata": {},
          "execution_count": 70
        }
      ]
    },
    {
      "cell_type": "code",
      "source": [
        "np.random.randint(1,100,(4,6))"
      ],
      "metadata": {
        "colab": {
          "base_uri": "https://localhost:8080/"
        },
        "id": "9YtQV_XxnO1Q",
        "outputId": "cad37579-703a-44d0-e34c-91dda6c8babb"
      },
      "execution_count": null,
      "outputs": [
        {
          "output_type": "execute_result",
          "data": {
            "text/plain": [
              "array([[59, 24, 60,  3, 99, 63],\n",
              "       [36, 95, 68, 83, 47, 21],\n",
              "       [82, 51, 28, 15, 42, 59],\n",
              "       [66, 37, 11, 87, 44, 12]])"
            ]
          },
          "metadata": {},
          "execution_count": 66
        }
      ]
    },
    {
      "cell_type": "markdown",
      "source": [
        "###Matriz identidad\n",
        "La matriz identidad es la matriz cuadrada que contiene 1 en su diagonal principal y 0 en el resto de las posiciones.\n",
        "\n",
        "Exiten dos métodos en NumPy para generar estas matrices, con tipo float64: eye() e identity().\n",
        "\n",
        "```\n",
        "m1 = np.eye(4)\n",
        "```\n",
        "```\n",
        "[[1. 0. 0. 0.]\n",
        " [0. 1. 0. 0.]\n",
        " [0. 0. 1. 0.]\n",
        " [0. 0. 0. 1.]]\n",
        "```\n",
        "<br>\n",
        "\n",
        "```\n",
        "mt = np.identity(4, dtype=np.int64)\n",
        "```\n",
        "```\n",
        "[[1 0 0 0]\n",
        " [0 1 0 0]\n",
        " [0 0 1 0]\n",
        " [0 0 0 1]]\n",
        "```"
      ],
      "metadata": {
        "id": "CUmjM8ym0ezy"
      }
    },
    {
      "cell_type": "markdown",
      "source": [
        "##Operaciones matemáticas con arreglos\n",
        "Es posible realizar operaciones aritméticas entre arreglos o entre un arreglo y un número.\n",
        "\n",
        "Ejemplo 1:\n",
        "\n",
        "```\n",
        "arr1 = np.arange(10)\n",
        "[0 1 2 3 4 5 6 7 8 9]\n",
        "\n",
        "arr2 = np.arange(-5,5)\n",
        "[-5 -4 -3 -2 -1  0  1  2  3  4]\n",
        "\n",
        "arr1 + arr2\n",
        "[-5 -3 -1  1  3  5  7  9 11 13]\n",
        "```\n",
        "\n",
        "Ejemplo 2: Para operar entre arreglos, ambos deben tener el mismo tamaño y forma\n",
        "```\n",
        "aa = np.arange(5)\n",
        "[0 1 2 3 4]\n",
        "\n",
        "bb = np.arange(10)\n",
        "[0 1 2 3 4 5 6 7 8 9]\n",
        "\n",
        "aa + bb[:5]\n",
        "[0 2 4 6 8]\n",
        "```\n",
        "Ejemplo 3:\n",
        "```\n",
        "arr ** 3 # eleva al cubo\n",
        "[  0   1   8  27  64 125 216 343 512 729]\n",
        "```"
      ],
      "metadata": {
        "id": "yaiYQt0eijKn"
      }
    },
    {
      "cell_type": "markdown",
      "source": [
        "##Slicing\n",
        "Es posible crear nuevos arreglos a partir de la extracción de datos de un arreglo existente.\n",
        "Utilizamos lo mismos criterios de sintaxis de range() de Python: `(inicio:tope:paso)`.\n",
        "\n",
        "Ejemplo: Obtener los datos de las celdas:\n",
        "* naranja\n",
        "* turquesa\n",
        "* rojo\n",
        "* verde\n",
        "\n",
        "<center><img src=\"https://drive.google.com/uc?id=1KPO3x8FEkRGxfcY21xuQHsPGBh2CJI-j\">"
      ],
      "metadata": {
        "id": "lbUfrA0T_X_c"
      }
    },
    {
      "cell_type": "code",
      "source": [
        "# CREO LA MATRIZ\n",
        "matriz = np.array([[0,1,2,3,4,5],[10,11,12,13,14,15],[20,21,22,23,24,25],[30,31,32,33,34,35],[40,41,42,43,44,45],[50,51,52,53,54,55]])\n",
        "print(matriz)"
      ],
      "metadata": {
        "id": "cnvNLOc9Apre",
        "colab": {
          "base_uri": "https://localhost:8080/"
        },
        "outputId": "caf64a7c-c862-4a70-ef91-051e9aed31a2"
      },
      "execution_count": null,
      "outputs": [
        {
          "output_type": "stream",
          "name": "stdout",
          "text": [
            "[[ 0  1  2  3  4  5]\n",
            " [10 11 12 13 14 15]\n",
            " [20 21 22 23 24 25]\n",
            " [30 31 32 33 34 35]\n",
            " [40 41 42 43 44 45]\n",
            " [50 51 52 53 54 55]]\n"
          ]
        }
      ]
    },
    {
      "cell_type": "code",
      "source": [
        "# BUSCO EL RANGO EN NARANJA\n",
        "print(matriz[0,3:5])"
      ],
      "metadata": {
        "id": "gf0ZgGb9AuTw",
        "colab": {
          "base_uri": "https://localhost:8080/"
        },
        "outputId": "173bcb41-c883-4af2-8d3d-e2e03ff71766"
      },
      "execution_count": null,
      "outputs": [
        {
          "output_type": "stream",
          "name": "stdout",
          "text": [
            "[3 4]\n"
          ]
        }
      ]
    },
    {
      "cell_type": "code",
      "source": [
        "# BUSCO EL RANGO TURQUESA\n",
        "print(matriz[4:,4:])"
      ],
      "metadata": {
        "id": "lfvM0svgAxDa",
        "colab": {
          "base_uri": "https://localhost:8080/"
        },
        "outputId": "3e03d0db-e2d3-4ef4-e48b-a1ab74f64c94"
      },
      "execution_count": null,
      "outputs": [
        {
          "output_type": "stream",
          "name": "stdout",
          "text": [
            "[[44 45]\n",
            " [54 55]]\n"
          ]
        }
      ]
    },
    {
      "cell_type": "code",
      "source": [
        "# BUSCO EL RANGO ROJO\n",
        "print(matriz[:,2])"
      ],
      "metadata": {
        "id": "f86EyLHxAzHr",
        "colab": {
          "base_uri": "https://localhost:8080/"
        },
        "outputId": "80116f5f-066f-4c0c-f08c-3edc1cbf97a6"
      },
      "execution_count": null,
      "outputs": [
        {
          "output_type": "stream",
          "name": "stdout",
          "text": [
            "[ 2 12 22 32 42 52]\n"
          ]
        }
      ]
    },
    {
      "cell_type": "code",
      "source": [
        "# Si quiero que se imprima en columna, recuerdo que tengo el método reshape(filas,columnas)\n",
        "print(matriz[:,2].reshape(6,1))"
      ],
      "metadata": {
        "id": "T2dFXE7hA23F",
        "colab": {
          "base_uri": "https://localhost:8080/"
        },
        "outputId": "5667dbb3-5f5e-4ca7-c4ec-362c111743e2"
      },
      "execution_count": null,
      "outputs": [
        {
          "output_type": "stream",
          "name": "stdout",
          "text": [
            "[[ 2]\n",
            " [12]\n",
            " [22]\n",
            " [32]\n",
            " [42]\n",
            " [52]]\n"
          ]
        }
      ]
    },
    {
      "cell_type": "code",
      "source": [
        "# BUSCO EL RANGO VERDE\n",
        "print(matriz[2::2,::2])"
      ],
      "metadata": {
        "id": "H8VDBGxCA4kN",
        "colab": {
          "base_uri": "https://localhost:8080/"
        },
        "outputId": "1efcfc5f-dbe3-4722-9378-65b3af256216"
      },
      "execution_count": null,
      "outputs": [
        {
          "output_type": "stream",
          "name": "stdout",
          "text": [
            "[[20 22 24]\n",
            " [40 42 44]]\n"
          ]
        }
      ]
    },
    {
      "cell_type": "markdown",
      "source": [
        "##Actividad\n",
        "1. Crear arreglo1, de 1 fila y 6 columnas con los datos 5,10,15,20,25,30\n",
        "\n",
        "   Crear arreglo2, de 5 filas y 1 columna con los datos 100,200,300,400,500\n",
        "   \n",
        "   Crear arreglo3, a partir de arreglo2 - arreglo1\n",
        "\n",
        "2. Usando slicing, obtener de arreglo3 los siguientes datos y cargarlos en arreglo4, arreglo5, arreglo6:\n",
        "\n",
        "```\n",
        "a.\n",
        "[[ 285 280 275 ]\n",
        " [ 385 380 375 ]]\n",
        "\n",
        "b.\n",
        "[ 290 280 270 ]\n",
        "\n",
        "c.\n",
        "[[  75 ]\n",
        " [ 275 ]\n",
        " [ 475 ]]\n",
        "```"
      ],
      "metadata": {
        "id": "hTm15aFtgl6Q"
      }
    },
    {
      "cell_type": "code",
      "source": [],
      "metadata": {
        "id": "NEEXehJkgnvQ"
      },
      "execution_count": null,
      "outputs": []
    },
    {
      "cell_type": "code",
      "source": [
        "'''\n",
        "Convertir dataframe (PANDAS) en csv\n",
        "df.to_csv('/content/drive/My Drive/ejemplo.csv', index=False)\n",
        "'''"
      ],
      "metadata": {
        "id": "RJxoOhHYlunY"
      },
      "execution_count": null,
      "outputs": []
    },
    {
      "cell_type": "markdown",
      "source": [
        "##MATERIAL COMPLEMENTARIO\n",
        "* [numpy.random.seed() explained](https://www.sharpsightlabs.com/blog/numpy-random-seed/)"
      ],
      "metadata": {
        "id": "rWoMqFQwY6Tp"
      }
    },
    {
      "cell_type": "markdown",
      "source": [
        "<hr>\n",
        "<img src=\"https://drive.google.com/uc?id=16Fy8ub2YrUHJnQ8W2p3DrVI42b20ncXz\" width=\"400\">\n",
        "\n",
        "**Todos los derechos son reservados por el Programa Codo a Codo perteneciente a la Dirección Agencia de Habilidades para el Futuro del Ministerio de Educación del Gobierno de la Ciudad Autónoma de Buenos Aires. Se encuentra prohibida su venta o comercialización.**"
      ],
      "metadata": {
        "id": "AB4u00ELGMZk"
      }
    }
  ]
}