{
  "nbformat": 4,
  "nbformat_minor": 0,
  "metadata": {
    "colab": {
      "provenance": []
    },
    "kernelspec": {
      "name": "python3",
      "display_name": "Python 3"
    },
    "language_info": {
      "name": "python"
    }
  },
  "cells": [
    {
      "cell_type": "markdown",
      "source": [
        "<img src=\"https://drive.google.com/uc?id=1EoHCaOElelkQXPW8vqLLap6WtshpQu8J\" width = \"500\">\n",
        "\n",
        "#**PROGRAMACIÓN EN PYTHON 4**\n",
        "***Codo a Codo 4.0 - Big Data / Data Analytics***\n"
      ],
      "metadata": {
        "id": "rUOnOhzDpeDq"
      }
    },
    {
      "cell_type": "markdown",
      "source": [
        "#CADENAS LITERALES\n",
        "- f-strings, literal strings (cadenas literales)\n",
        "Es una manera diferente de darle formato a cadenas de texto.\n",
        "Para ello se agrega una f antes de las comillas del str.\n",
        "Los nombres de las variables se indican entre {} y dentro de las comillas"
      ],
      "metadata": {
        "id": "sC6tjgA0kDnP"
      }
    },
    {
      "cell_type": "code",
      "source": [
        "# f-strings\n",
        "nombre = \"Filomena\"\n",
        "apellido = \"Cardozo\"\n",
        "print(nombre + \" \" + apellido)\n",
        "print(f\"La nueva alumna se llama {nombre} {apellido}\")\n",
        "print(f\"Nombre:  {nombre} - \"\n",
        "      f\"Apellido: {apellido}\")\n",
        "print(f\"Nombre:  {nombre}\\n\"\n",
        "      f\"Apellido: {apellido}\")"
      ],
      "metadata": {
        "id": "kCwpQCnhkOFy",
        "colab": {
          "base_uri": "https://localhost:8080/"
        },
        "outputId": "e9762a98-c9b6-4fad-a26e-8bd2ee27d375"
      },
      "execution_count": null,
      "outputs": [
        {
          "output_type": "stream",
          "name": "stdout",
          "text": [
            "Filomena Cardozo\n",
            "La nueva alumna se llama Filomena Cardozo\n",
            "Nombre:  Filomena - Apellido: Cardozo\n",
            "Nombre:  Filomena\n",
            "Apellido: Cardozo\n"
          ]
        }
      ]
    },
    {
      "cell_type": "code",
      "source": [
        "# podemos evaluar expresiones y efectuar operaciones dentro de f-strings\n",
        "n1 = 10\n",
        "n2 = 5\n",
        "print(f\"{n1} es mayor que {n2} resulta {n1 > n2}\")\n",
        "print(f\"Al multiplicar {n1} y {n2}, obtengo {n1 * n2}\")"
      ],
      "metadata": {
        "id": "MtUfqJW2wv4E",
        "colab": {
          "base_uri": "https://localhost:8080/"
        },
        "outputId": "9c494047-1256-4a00-c1ab-0042ea77776f"
      },
      "execution_count": null,
      "outputs": [
        {
          "output_type": "stream",
          "name": "stdout",
          "text": [
            "10 es mayor que 5 resulta True\n",
            "Al multiplicar 10 y 5, obtengo 50\n"
          ]
        }
      ]
    },
    {
      "cell_type": "code",
      "source": [
        "# condicionales en f-strings\n",
        "# SINTAXIS: { <bloque True> if <condición> else <bloque False> }\n",
        "gente = [[\"Ana\", 33],[\"Juan\",9],[\"Sofía\",5],[\"Jorge\",25]]\n",
        "for persona in gente:\n",
        "  print(f\"¿{persona[0]} es mayor de edad? {True if persona[1] >= 18 else False}\")"
      ],
      "metadata": {
        "id": "OYtyphXZnD6d",
        "colab": {
          "base_uri": "https://localhost:8080/"
        },
        "outputId": "219a5260-98e4-495b-9618-a1f319329769"
      },
      "execution_count": null,
      "outputs": [
        {
          "output_type": "stream",
          "name": "stdout",
          "text": [
            "¿Ana es mayor de edad? True\n",
            "¿Juan es mayor de edad? False\n",
            "¿Sofía es mayor de edad? False\n",
            "¿Jorge es mayor de edad? True\n"
          ]
        }
      ]
    },
    {
      "cell_type": "code",
      "source": [
        "gente = [[\"Ana\", 33],[\"Juan\",9],[\"Sofía\",5],[\"Jorge\",25]]\n",
        "for persona in gente:\n",
        "  print(f\"¿{persona[0]} es mayor de edad? {'SI' if persona[1] >= 18 else 'NO'}\")"
      ],
      "metadata": {
        "colab": {
          "base_uri": "https://localhost:8080/"
        },
        "id": "EECaZspUhdA6",
        "outputId": "efd07de6-599e-47ea-cc7d-faf557f9387c"
      },
      "execution_count": null,
      "outputs": [
        {
          "output_type": "stream",
          "name": "stdout",
          "text": [
            "¿Ana es mayor de edad? SI\n",
            "¿Juan es mayor de edad? NO\n",
            "¿Sofía es mayor de edad? NO\n",
            "¿Jorge es mayor de edad? SI\n"
          ]
        }
      ]
    },
    {
      "cell_type": "markdown",
      "source": [],
      "metadata": {
        "id": "y0C-2I8ZhQXt"
      }
    },
    {
      "cell_type": "code",
      "source": [
        "# se pueden utilizar condicionales compuestos y\n",
        "# cadenas de texto (cuidando usar sets de comillas simples) en lugar de True y False\n",
        "# SINTAXIS: { <bloque True> if <condición> else <bloque False> }"
      ],
      "metadata": {
        "id": "8jJlEb2NzY-P"
      },
      "execution_count": null,
      "outputs": []
    },
    {
      "cell_type": "code",
      "source": [
        "a = 10\n",
        "b = 15\n",
        "# a == b or a < b\n",
        "\n",
        "print(f\"Las condiciones {'se cumplen' if a == b or a > b else 'no se cumplen'}\")"
      ],
      "metadata": {
        "colab": {
          "base_uri": "https://localhost:8080/"
        },
        "id": "kOsCFA6Rhn_x",
        "outputId": "e5619b0b-cef0-41bf-8696-5e4ae30ea916"
      },
      "execution_count": null,
      "outputs": [
        {
          "output_type": "stream",
          "name": "stdout",
          "text": [
            "Las condiciones no se cumplen\n"
          ]
        }
      ]
    },
    {
      "cell_type": "code",
      "source": [
        "# f-strings y funciones\n",
        "def opcion(a):\n",
        "  if a % 2 == 0:\n",
        "    rta = 'par'\n",
        "  else:\n",
        "    rta = 'impar' # BPP -> 1 solo return por cada función\n",
        "  return rta\n",
        "\n",
        "nro = int(input(\"Ingrese un nro: \"))\n",
        "print(f\"{nro} es un número {opcion(nro)}\")"
      ],
      "metadata": {
        "id": "BFxuqgFCb_Rp",
        "colab": {
          "base_uri": "https://localhost:8080/"
        },
        "outputId": "7c2d2ff9-c02b-41a6-95db-031b1a587d29"
      },
      "execution_count": null,
      "outputs": [
        {
          "output_type": "stream",
          "name": "stdout",
          "text": [
            "Ingrese un nro: 22\n",
            "22 es un número par\n"
          ]
        }
      ]
    },
    {
      "cell_type": "markdown",
      "source": [
        "<hr>\n",
        "<img src=\"https://drive.google.com/uc?id=16Fy8ub2YrUHJnQ8W2p3DrVI42b20ncXz\" width=\"400\">\n",
        "\n",
        "**Todos los derechos son reservados por el Programa Codo a Codo perteneciente a la Dirección Agencia de Habilidades para el Futuro del Ministerio de Educación del Gobierno de la Ciudad Autónoma de Buenos Aires. Se encuentra prohibida su venta o comercialización.**"
      ],
      "metadata": {
        "id": "lIf_gMH1pzUr"
      }
    }
  ]
}