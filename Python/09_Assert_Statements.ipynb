{
  "nbformat": 4,
  "nbformat_minor": 0,
  "metadata": {
    "colab": {
      "provenance": []
    },
    "kernelspec": {
      "name": "python3",
      "display_name": "Python 3"
    },
    "language_info": {
      "name": "python"
    }
  },
  "cells": [
    {
      "cell_type": "markdown",
      "source": [
        "<img src=\"https://drive.google.com/uc?id=1EoHCaOElelkQXPW8vqLLap6WtshpQu8J\" width = \"500\">\n",
        "\n",
        "#**PROGRAMACIÓN EN PYTHON 8 (EXTRA)**\n",
        "***Codo a Codo 4.0 - Big Data / Data Analytics***"
      ],
      "metadata": {
        "id": "kK1reEmJcrS0"
      }
    },
    {
      "cell_type": "markdown",
      "source": [
        "##A) ASSERT STATEMENTS\n",
        "Son una manera alternativa para el manejo de errores.\n",
        "Se trata en asegurarse de que cierta condición se cumple.\n",
        "<img src=\"https://drive.google.com/uc?id=1M2aB6z79NxF-FflZOSFoqyF2umL8K3pC\">\n",
        "\n",
        "En cierto punto del programa se inserta un assert statement que decidirá el flujo del programa.\n",
        "\n",
        "***Sintaxis:***\n",
        "\n",
        "`assert {condicion}, {mensaje de error}`\n",
        "\n",
        "<img src=\"https://drive.google.com/uc?id=1xGotQl0BOf-xjXji2mFSuHWu-IpjPaG3\">\n"
      ],
      "metadata": {
        "id": "Se3eJlDnEloY"
      }
    },
    {
      "cell_type": "code",
      "source": [
        "def palindromo(cadena):\n",
        "  return cadena == cadena[::-1]\n",
        "\n",
        "print(palindromo(\"r\"))"
      ],
      "metadata": {
        "id": "oJm-3q8jPASO",
        "colab": {
          "base_uri": "https://localhost:8080/"
        },
        "outputId": "23593819-2e5f-45b2-8921-82a63e20ae64"
      },
      "execution_count": null,
      "outputs": [
        {
          "output_type": "stream",
          "name": "stdout",
          "text": [
            "True\n"
          ]
        }
      ]
    },
    {
      "cell_type": "markdown",
      "source": [
        "Supongamos que queremos resolver evitar el ingreso de cadenas menores a 2 caracteres.\n",
        "\n",
        "El primer paso será \"generar\" un error con un *assert* (afirmación)."
      ],
      "metadata": {
        "id": "rw5cgLy1QnUu"
      }
    },
    {
      "cell_type": "code",
      "source": [],
      "metadata": {
        "id": "XJbTW7rcpo6m"
      },
      "execution_count": null,
      "outputs": []
    },
    {
      "cell_type": "markdown",
      "source": [
        "Cualquier entrada de menos de 2 caracteres, devuelve un *AssertionError*.\n",
        "\n",
        "El segundo paso es capturar el error.\n"
      ],
      "metadata": {
        "id": "XZ3u-MioqC1J"
      }
    },
    {
      "cell_type": "code",
      "source": [],
      "metadata": {
        "id": "tGDTs0cJqu9p"
      },
      "execution_count": null,
      "outputs": []
    },
    {
      "cell_type": "markdown",
      "source": [
        "<hr>\n",
        "<img src=\"https://drive.google.com/uc?id=16Fy8ub2YrUHJnQ8W2p3DrVI42b20ncXz\" width=\"400\">\n",
        "\n",
        "**Todos los derechos son reservados por el Programa Codo a Codo perteneciente a la Dirección Agencia de Habilidades para el Futuro del Ministerio de Educación del Gobierno de la Ciudad Autónoma de Buenos Aires. Se encuentra prohibida su venta o comercialización.**"
      ],
      "metadata": {
        "id": "lUYOBp8xc_9B"
      }
    }
  ]
}