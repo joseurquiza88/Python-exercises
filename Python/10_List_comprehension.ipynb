{
  "nbformat": 4,
  "nbformat_minor": 0,
  "metadata": {
    "colab": {
      "provenance": []
    },
    "kernelspec": {
      "name": "python3",
      "display_name": "Python 3"
    },
    "language_info": {
      "name": "python"
    }
  },
  "cells": [
    {
      "cell_type": "markdown",
      "source": [
        "<img src=\"https://drive.google.com/uc?id=1EoHCaOElelkQXPW8vqLLap6WtshpQu8J\" width = \"500\">\n",
        "\n",
        "#**PROGRAMACIÓN EN PYTHON 9 (EXTRA)**\n",
        "***Codo a Codo 4.0 - Big Data / Data Analytics***"
      ],
      "metadata": {
        "id": "kK1reEmJcrS0"
      }
    },
    {
      "cell_type": "markdown",
      "source": [
        "##A) LIST COMPREHENSION\n",
        "Es una sintaxis más corta que permite crear una lista a partir de una ya existente.\n",
        "\n",
        "Supongamos que deseamos crear una lista con los animales que contengan la letra z en el nombre.\n",
        "\n",
        "Sin list comprehension, el código sería el siguiente:"
      ],
      "metadata": {
        "id": "Se3eJlDnEloY"
      }
    },
    {
      "cell_type": "code",
      "source": [
        "animales = [\"oso\", \"avestruz\", \"zorro\", \"jirafa\", \"gorila\", \"zarigüeya\", \"rinoceronte\", \"zopilote\", \"cebra\", \"chimpancé\", \"zorzal\", \"lobo\", \"elefante\", \"zorrino\"]\n",
        "nueva_lista = []\n",
        "\n",
        "for elemento in animales:\n",
        "  if \"z\" in elemento:\n",
        "    nueva_lista.append(elemento)\n",
        "\n",
        "print(nueva_lista)"
      ],
      "metadata": {
        "id": "oJm-3q8jPASO",
        "colab": {
          "base_uri": "https://localhost:8080/"
        },
        "outputId": "0f78bdc5-26f9-442a-ed45-2e0d92768347"
      },
      "execution_count": null,
      "outputs": [
        {
          "output_type": "stream",
          "name": "stdout",
          "text": [
            "['avestruz', 'zorro', 'zarigüeya', 'zopilote', 'zorzal', 'zorrino']\n"
          ]
        }
      ]
    },
    {
      "cell_type": "markdown",
      "source": [
        "Con list comprehension, podemos resolverlo en una sola línea:"
      ],
      "metadata": {
        "id": "rw5cgLy1QnUu"
      }
    },
    {
      "cell_type": "code",
      "source": [
        "nueva_lista2 = [elemento for elemento in animales if \"z\" in elemento]\n",
        "print(nueva_lista2)"
      ],
      "metadata": {
        "id": "XJbTW7rcpo6m",
        "colab": {
          "base_uri": "https://localhost:8080/"
        },
        "outputId": "05084c82-feb0-42d0-822a-3b34ccfbd7fb"
      },
      "execution_count": null,
      "outputs": [
        {
          "output_type": "stream",
          "name": "stdout",
          "text": [
            "['avestruz', 'zorro', 'zarigüeya', 'zopilote', 'zorzal', 'zorrino']\n"
          ]
        }
      ]
    },
    {
      "cell_type": "markdown",
      "source": [
        "La interpretación de esta sintaxis sería: \"***crear un nuevo elemento en la lista `nueva_lista2` con cada elemento de la lista `animales` que contenga la letra z.***\"\n"
      ],
      "metadata": {
        "id": "XZ3u-MioqC1J"
      }
    },
    {
      "cell_type": "markdown",
      "source": [
        "***Sintaxis:***\n",
        "\n",
        "`newlist = [{expresión} for {item_en_un_iterable} if {condición} == True]`\n",
        "\n",
        "La condición, aplica un filtro que sólo toma los elementos valorados en True.\n",
        "\n"
      ],
      "metadata": {
        "id": "DTiRQIz4wk3P"
      }
    },
    {
      "cell_type": "markdown",
      "source": [
        "\n",
        "**ACTIVIDAD:**\n",
        "\n",
        "¿Qué obtendremos de la siguiente línea?"
      ],
      "metadata": {
        "id": "WeNTDBwKxb3s"
      }
    },
    {
      "cell_type": "code",
      "source": [
        "nueva_lista3 = [elemento for elemento in nueva_lista2 if elemento != \"zopilote\" and elemento != \"zorrino\"]\n",
        "\n",
        "print(nueva_lista3)"
      ],
      "metadata": {
        "id": "tGDTs0cJqu9p",
        "colab": {
          "base_uri": "https://localhost:8080/"
        },
        "outputId": "93852699-86c7-4b69-8719-52805f71cdea"
      },
      "execution_count": null,
      "outputs": [
        {
          "output_type": "stream",
          "name": "stdout",
          "text": [
            "['avestruz', 'zorro', 'zarigüeya', 'zorzal']\n"
          ]
        }
      ]
    },
    {
      "cell_type": "markdown",
      "source": [
        "No solamente podemos crear listas parciales a partir de la original. También podemos:\n",
        "- Crear una nueva lista, sólo modificando la original. Por ejemplo, poniendo los nombres de los animales en mayúsculas."
      ],
      "metadata": {
        "id": "GBeT3n2ByivO"
      }
    },
    {
      "cell_type": "code",
      "source": [
        "nueva_lista4 = [x.upper() for x in animales]\n",
        "print(nueva_lista4)"
      ],
      "metadata": {
        "id": "s8oSFkF-y0Q4",
        "colab": {
          "base_uri": "https://localhost:8080/"
        },
        "outputId": "6b734b64-e7b9-45bc-933a-667c0066a3c0"
      },
      "execution_count": null,
      "outputs": [
        {
          "output_type": "stream",
          "name": "stdout",
          "text": [
            "['OSO', 'AVESTRUZ', 'ZORRO', 'JIRAFA', 'GORILA', 'ZARIGÜEYA', 'RINOCERONTE', 'ZOPILOTE', 'CEBRA', 'CHIMPANCÉ', 'ZORZAL', 'LOBO', 'ELEFANTE', 'ZORRINO']\n"
          ]
        }
      ]
    },
    {
      "cell_type": "markdown",
      "source": [
        "- Establecer todos los valores en un único valor:"
      ],
      "metadata": {
        "id": "8OlywQ4mzFkx"
      }
    },
    {
      "cell_type": "code",
      "source": [
        "nueva_lista5 = [\"hipopótamo\" for x in animales]\n",
        "print(nueva_lista5)"
      ],
      "metadata": {
        "id": "p9YB_q1YzMD0",
        "colab": {
          "base_uri": "https://localhost:8080/"
        },
        "outputId": "41ab2ed7-2e79-45c4-f612-b161237f8865"
      },
      "execution_count": null,
      "outputs": [
        {
          "output_type": "stream",
          "name": "stdout",
          "text": [
            "['hipopótamo', 'hipopótamo', 'hipopótamo', 'hipopótamo', 'hipopótamo', 'hipopótamo', 'hipopótamo', 'hipopótamo', 'hipopótamo', 'hipopótamo', 'hipopótamo', 'hipopótamo', 'hipopótamo', 'hipopótamo']\n"
          ]
        }
      ]
    },
    {
      "cell_type": "markdown",
      "source": [
        "- Crear una nueva lista modificando algún elemento."
      ],
      "metadata": {
        "id": "22a3xhhgzdEs"
      }
    },
    {
      "cell_type": "code",
      "source": [
        "nueva_lista6 = [x if x != \"avestruz\" else \"hipopótamo\" for x in animales]\n",
        "print(nueva_lista6)"
      ],
      "metadata": {
        "id": "A4Il7D4hzcKM",
        "colab": {
          "base_uri": "https://localhost:8080/"
        },
        "outputId": "b470cddc-7314-4fd5-cf96-8fb0234ae08b"
      },
      "execution_count": null,
      "outputs": [
        {
          "output_type": "stream",
          "name": "stdout",
          "text": [
            "['oso', 'hipopótamo', 'zorro', 'jirafa', 'gorila', 'zarigüeya', 'rinoceronte', 'zopilote', 'cebra', 'chimpancé', 'zorzal', 'lobo', 'elefante', 'zorrino']\n"
          ]
        }
      ]
    },
    {
      "cell_type": "markdown",
      "source": [
        "Podemos interpretar la expresión anterior como \"***cargar el animal si no es avestruz, y si es avestruz, cargar hipopótamo.***\""
      ],
      "metadata": {
        "id": "aubP7P7NzyNG"
      }
    },
    {
      "cell_type": "markdown",
      "source": [
        "- Crear iterables con range (y opcionalmente una condición)."
      ],
      "metadata": {
        "id": "Dy54TX30yC0H"
      }
    },
    {
      "cell_type": "code",
      "source": [
        "l1 = [x for x in range(21)]\n",
        "print(l1)"
      ],
      "metadata": {
        "id": "0WP21pF2yK1F",
        "colab": {
          "base_uri": "https://localhost:8080/"
        },
        "outputId": "af0563b0-28d0-41a3-f3cf-d24767332b79"
      },
      "execution_count": null,
      "outputs": [
        {
          "output_type": "stream",
          "name": "stdout",
          "text": [
            "[0, 1, 2, 3, 4, 5, 6, 7, 8, 9, 10, 11, 12, 13, 14, 15, 16, 17, 18, 19, 20]\n"
          ]
        }
      ]
    },
    {
      "cell_type": "code",
      "source": [
        "l2 = [x for x in range(21) if x % 2 == 0] # range(:21:2)\n",
        "print(l2)"
      ],
      "metadata": {
        "id": "BpUOWLm0yXSp",
        "colab": {
          "base_uri": "https://localhost:8080/"
        },
        "outputId": "caff395a-238b-4aed-a098-e40d3764e2d9"
      },
      "execution_count": null,
      "outputs": [
        {
          "output_type": "stream",
          "name": "stdout",
          "text": [
            "[0, 2, 4, 6, 8, 10, 12, 14, 16, 18, 20]\n"
          ]
        }
      ]
    },
    {
      "cell_type": "markdown",
      "source": [
        "<hr>\n",
        "<img src=\"https://drive.google.com/uc?id=16Fy8ub2YrUHJnQ8W2p3DrVI42b20ncXz\" width=\"400\">\n",
        "\n",
        "**Todos los derechos son reservados por el Programa Codo a Codo perteneciente a la Dirección Agencia de Habilidades para el Futuro del Ministerio de Educación del Gobierno de la Ciudad Autónoma de Buenos Aires. Se encuentra prohibida su venta o comercialización.**"
      ],
      "metadata": {
        "id": "lUYOBp8xc_9B"
      }
    }
  ]
}