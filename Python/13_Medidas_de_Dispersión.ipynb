{
  "nbformat": 4,
  "nbformat_minor": 0,
  "metadata": {
    "colab": {
      "provenance": []
    },
    "kernelspec": {
      "name": "python3",
      "display_name": "Python 3"
    },
    "language_info": {
      "name": "python"
    }
  },
  "cells": [
    {
      "cell_type": "markdown",
      "source": [
        "<center><img src=\"https://drive.google.com/uc?id=1uDO4E0lab13rGc6vK1bPALwfghorjqkV\"></center>"
      ],
      "metadata": {
        "id": "pIomQEzWxLD5"
      }
    },
    {
      "cell_type": "markdown",
      "source": [
        "# Medidas de dispersión\n",
        "El grado de dispersión de los datos numéricos respecto a un valor promedio se llama dispersión o variación de los datos.\n",
        "Las más utilizadas son:\n",
        "* **Rango:** diferencia entre el mayor valor y el menor valor.\n",
        "* **Desviación media** o **desviación promedio:** distancia de cada uno de los datos a la media aritmética. La suma de todas las desviaciones es igual a cero.\n",
        "* **Rango intercuartil (IQR):** La diferencia entre el tercer y primer cuartil.\n",
        "  <center><img src=\"https://drive.google.com/uc?id=1xkq9cYGVO1VTqfQJQmUAvUZN0WDhNPGf\"> </center>\n",
        "\n",
        "  **Cuartiles:**  En un conjunto de datos ordenados de manera ascendente, el valor medio es la mediana. Continuando con esta idea se puede pensar en aquellos valores que dividen al conjunto de datos en cuatro partes iguales. Estos valores, se denominan $Q1, Q2~$y$~Q3$ son el primero, segundo y tercer cuartiles, respectivamente; el valor $Q2$ coincide con la mediana.\n",
        "  <center><img src=\"https://drive.google.com/uc?id=1n40H7NM7vUdhRgppJu7z_rHwNhFQKn1k\">  </center>\n",
        "\n",
        "* **Varianza:** indica qué tan alejados están los datos de la media. Cuanto mayor sea la varianza, más dispersos se encontrarán los datos respecto a su media aritmética. Para calcular la varianza, se toma la diferencia entre cada valor de la muestra y la media, se eleva al cuadrado y se promedia.\n",
        " <center><img src=\"https://drive.google.com/uc?id=1L0mQBv1EyWil8mEh8o0bWnBHPvQHf9Uh\">  </center>\n",
        "\n",
        "* **Desviación standard** o **típica:** raíz cuadrada de la varianza. Es un promedio de las distancias de cada dato a su media aritmética. Cuanto mayor sea la desviación standard, más dispersos se encontrarán los datos con respecto a su media aritmética. La desviación standard siempre es un número mayor o igual que cero.\n",
        "\n",
        "    **Propiedades de la desviación standard**\n",
        "\n",
        "    En las distribuciones normales se verifica que:\n",
        "    * 68,27% de los casos está comprendido a una desviación standard de la media.\n",
        "    * 95,45% de los casos está comprendido a dos desviaciones standard de la media.\n",
        "    * 99,73% de los casos está comprendido a dos desviaciones standard de la media.\n",
        "\n",
        "  En distribuciones moderadamente sesgadas, estos porcentajes se satisfacen de manera aproximada.\n",
        "\n",
        "  <center><img src=\"https://drive.google.com/uc?id=10SjpMaTNmoFSNHhnCg8plGgDjf9s8fVX\" width=\"600\">  </center>"
      ],
      "metadata": {
        "id": "Lv0B59MIsCNv"
      }
    },
    {
      "cell_type": "markdown",
      "source": [
        "###ACTIVIDAD\n",
        "Analizar las comisiones por ventas de los empleados de los meses de abril y compararlas con las obtenidas al siguiente mes, luego de una campaña de marketing.\n",
        "\n",
        "Datos: [comisiones.csv](https://drive.google.com/file/d/1U_WzA_BSIWI5G5W8DWzGT3aDXvdLKdNd/view?usp=sharing)\n",
        "\n",
        "Obtener los valores mínimos, máximos, rangos, promedios, desviación standard, varianza y cuartiles.\n",
        "\n",
        "Resolver en Google Sheets y Pandas: métodos min(), max(), mean(), quantile(), std().\n",
        "\n",
        "Responder:\n",
        "¿En qué mes hay mayor dispersión de datos?\n"
      ],
      "metadata": {
        "id": "bCWfeN6T2HbW"
      }
    },
    {
      "cell_type": "code",
      "source": [
        "import pandas as pd\n",
        "df = pd.read_csv(\"/content/drive/MyDrive/Big Data 202401 - Material del curso/General/8 - Estadística Descriptiva/comisiones.csv\")\n",
        "df.dtypes"
      ],
      "metadata": {
        "id": "8MJi-bMEuqni",
        "colab": {
          "base_uri": "https://localhost:8080/"
        },
        "outputId": "55f7f18d-37e2-49ca-a9c2-4bbc1ac644ed"
      },
      "execution_count": null,
      "outputs": [
        {
          "output_type": "execute_result",
          "data": {
            "text/plain": [
              "Nombre     object\n",
              "Abril     float64\n",
              "Mayo      float64\n",
              "dtype: object"
            ]
          },
          "metadata": {},
          "execution_count": 1
        }
      ]
    },
    {
      "cell_type": "code",
      "source": [
        "min_abril = df[\"Abril\"].min()\n",
        "max_abril = df[\"Abril\"].max()\n",
        "rango_abril = max_abril - min_abril\n",
        "prom_abril = df[\"Abril\"].mean()\n",
        "std_abril = df[\"Abril\"].std()\n",
        "q1_abril = df[\"Abril\"].quantile(q=0.25)\n",
        "q2_abril = df[\"Abril\"].median()\n",
        "q3_abril = df[\"Abril\"].quantile(q=0.75)\n",
        "iqr_abril = q3_abril - q1_abril\n",
        "cadenita = \"=====================================================================================\"\n",
        "\n",
        "print(f\"\\tMínimo\\tMáximo\\tRango\\tProm\\tSTD\\tVar\\tQ1\\tQ2\\tQ2\\tIQR\\n\"\n",
        "      f\"{cadenita}\\n\"\n",
        "      f\"ABRIL\\t{min_abril}\\t{max_abril}\\t{rango_abril}\\t{prom_abril:.2f}\\t{std_abril:.2f}\\t{std_abril ** 2:.2f}\\t{q1_abril}\\t{q2_abril}\\t{q3_abril}\\t{iqr_abril:.2f}\"\n",
        ")"
      ],
      "metadata": {
        "colab": {
          "base_uri": "https://localhost:8080/"
        },
        "id": "Nn4D5ZrBI-8t",
        "outputId": "48f7220e-a963-4fc5-cee4-9b49ef8de2b9"
      },
      "execution_count": null,
      "outputs": [
        {
          "output_type": "stream",
          "name": "stdout",
          "text": [
            "\tMínimo\tMáximo\tRango\tProm\tSTD\tVar\tQ1\tQ2\tQ2\tIQR\n",
            "=====================================================================================\n",
            "ABRIL\t327.0\t670.0\t343.0\t465.29\t66.01\t4357.17\t429.25\t451.75\t501.2\t71.95\n"
          ]
        }
      ]
    },
    {
      "cell_type": "markdown",
      "source": [
        "##Límites para la detección de valores anómalos\n",
        "En distribuciones normales, podemos establecer valores anómalos u **outliers** a partir del rango intercuartil.\n",
        "Se consideran outliers:\n",
        "* valores menores a $Q1 - 1.5$ x $IQR$\n",
        "* valores mayores a $Q3 + 1.5$ x $IQR$"
      ],
      "metadata": {
        "id": "JyFtLPh8AUZp"
      }
    },
    {
      "cell_type": "markdown",
      "source": [
        "###ACTIVIDAD\n",
        "Detectar valores anómalos en el set de datos de la actividad anterior.\n"
      ],
      "metadata": {
        "id": "CdAKYM6kCBgw"
      }
    },
    {
      "cell_type": "code",
      "source": [
        "lim_min_abril = q1_abril - iqr_abril * 1.5\n",
        "lim_max_abril = q3_abril + iqr_abril * 1.5\n",
        "print(\"Se consideran valores anómalos:\")\n",
        "print(\"- Menores a\", lim_min_abril)\n",
        "print(\"- Mayores a\", lim_max_abril)"
      ],
      "metadata": {
        "colab": {
          "base_uri": "https://localhost:8080/"
        },
        "id": "L7kHwjITNMST",
        "outputId": "9902cd14-59c2-4f5b-bb48-bcf7816f1446"
      },
      "execution_count": null,
      "outputs": [
        {
          "output_type": "stream",
          "name": "stdout",
          "text": [
            "Se consideran valores anómalos:\n",
            "- Menores a 321.32500000000005\n",
            "- Mayores a 609.125\n"
          ]
        }
      ]
    },
    {
      "cell_type": "code",
      "source": [
        "df[\"Abril\"].plot.hist(bins=10)"
      ],
      "metadata": {
        "colab": {
          "base_uri": "https://localhost:8080/",
          "height": 447
        },
        "id": "3hv-wNDzN5fL",
        "outputId": "203b25e4-bb96-43b5-d5f8-3a1c8066a0f3"
      },
      "execution_count": null,
      "outputs": [
        {
          "output_type": "execute_result",
          "data": {
            "text/plain": [
              "<Axes: ylabel='Frequency'>"
            ]
          },
          "metadata": {},
          "execution_count": 10
        },
        {
          "output_type": "display_data",
          "data": {
            "text/plain": [
              "<Figure size 640x480 with 1 Axes>"
            ],
            "image/png": "[encoded data removed]"
          },
          "metadata": {}
        }
      ]
    },
    {
      "cell_type": "code",
      "source": [
        "df[\"Abril\"].plot.box(vert=False)"
      ],
      "metadata": {
        "colab": {
          "base_uri": "https://localhost:8080/",
          "height": 447
        },
        "id": "cZ-TfwmdOETo",
        "outputId": "a20b4059-9654-4afd-fcf0-a8c873aab6d0"
      },
      "execution_count": null,
      "outputs": [
        {
          "output_type": "execute_result",
          "data": {
            "text/plain": [
              "<Axes: >"
            ]
          },
          "metadata": {},
          "execution_count": 12
        },
        {
          "output_type": "display_data",
          "data": {
            "text/plain": [
              "<Figure size 640x480 with 1 Axes>"
            ],
            "image/png": "[encoded data removed]"
          },
          "metadata": {}
        }
      ]
    },
    {
      "cell_type": "markdown",
      "source": [
        "<hr>\n",
        "<img src=\"https://drive.google.com/uc?id=16Fy8ub2YrUHJnQ8W2p3DrVI42b20ncXz\" width=\"400\">\n",
        "\n",
        "**Todos los derechos son reservados por el Programa Codo a Codo perteneciente a la Dirección Agencia de Habilidades para el Futuro del Ministerio de Educación del Gobierno de la Ciudad Autónoma de Buenos Aires. Se encuentra prohibida su venta o comercialización.**"
      ],
      "metadata": {
        "id": "AB4u00ELGMZk"
      }
    }
  ]
}