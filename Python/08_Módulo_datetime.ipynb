{
  "nbformat": 4,
  "nbformat_minor": 0,
  "metadata": {
    "colab": {
      "provenance": []
    },
    "kernelspec": {
      "name": "python3",
      "display_name": "Python 3"
    },
    "language_info": {
      "name": "python"
    }
  },
  "cells": [
    {
      "cell_type": "markdown",
      "source": [
        "<img src=\"https://drive.google.com/uc?id=1EoHCaOElelkQXPW8vqLLap6WtshpQu8J\" width = \"500\">\n",
        "\n",
        "#**PROGRAMACIÓN EN PYTHON 7**\n",
        "***Codo a Codo 4.0 - Big Data / Data Analytics***"
      ],
      "metadata": {
        "id": "kK1reEmJcrS0"
      }
    },
    {
      "cell_type": "markdown",
      "source": [
        "##A) DATETIME\n",
        "\n",
        "En Python, la fecha y la hora no son un tipo de datos en sí mismos, pero se puede importar un módulo llamado `datetime` para trabajar con la fecha y la hora. El módulo Python Datetime viene integrado, por lo que no es necesario instalarlo.\n",
        "\n",
        "Este módulo incluye funciones y clases para hacer análisis, formateo y aritmética de fecha y hora."
      ],
      "metadata": {
        "id": "Se3eJlDnEloY"
      }
    },
    {
      "cell_type": "markdown",
      "source": [
        "##B) HORAS\n",
        "Los valores de tiempo se representan con la clase time. Una instancia time tiene atributos para hour, minute, second, y microsecond."
      ],
      "metadata": {
        "id": "Lk-pTZVkRXRx"
      }
    },
    {
      "cell_type": "code",
      "source": [
        "import datetime\n",
        "t = datetime.time(10,12,30,12)\n",
        "print(type(t))\n",
        "print(t)\n",
        "\n",
        "print(\"Hora: \", t.hour)\n",
        "print(\"Minutos: \", t.minute)\n",
        "print(\"Segundos: \", t.second)\n",
        "print(\"Microsegundos: \", t.microsecond)\n",
        "\n",
        "'''\n",
        "class time():\n",
        "  hour = 0\n",
        "  minute = 0\n",
        "  second = 0\n",
        "  microsecond = 0\n",
        "  min = 00:00:00\n",
        "  max = 23:59:59.999999\n",
        "  resolution = 0:00:00.000001\n",
        "\n",
        "  def __init__(self, ho, min, sec, micr):\n",
        "    self.hour = ho\n",
        "    self.minute = min\n",
        "    self.second = sec\n",
        "    self.microsecond = micr\n",
        "'''"
      ],
      "metadata": {
        "id": "oJm-3q8jPASO",
        "colab": {
          "base_uri": "https://localhost:8080/"
        },
        "outputId": "86be4c1d-0830-4b16-bd9a-a45990b82678"
      },
      "execution_count": null,
      "outputs": [
        {
          "output_type": "stream",
          "name": "stdout",
          "text": [
            "<class 'datetime.time'>\n",
            "10:12:30.000012\n",
            "Hora:  10\n",
            "Minutos:  12\n",
            "Segundos:  30\n",
            "Microsegundos:  12\n"
          ]
        }
      ]
    },
    {
      "cell_type": "markdown",
      "source": [
        "Los atributos de clase min y max reflejan el rango válido de de horas en un solo día.\n",
        "La resolución para time está limitada a micro segundos completos."
      ],
      "metadata": {
        "id": "rw5cgLy1QnUu"
      }
    },
    {
      "cell_type": "code",
      "source": [
        "print(datetime.time.min)\n",
        "print(datetime.time.max)\n",
        "print(datetime.time.resolution)\n"
      ],
      "metadata": {
        "id": "otU0zKVgQmcm",
        "colab": {
          "base_uri": "https://localhost:8080/"
        },
        "outputId": "83388262-e020-46e8-d00f-9d5a61d847fc"
      },
      "execution_count": null,
      "outputs": [
        {
          "output_type": "stream",
          "name": "stdout",
          "text": [
            "00:00:00\n",
            "23:59:59.999999\n",
            "0:00:00.000001\n"
          ]
        }
      ]
    },
    {
      "cell_type": "markdown",
      "source": [
        "##C) FECHAS\n",
        "Los valores de la fecha del calendario se representan con la clase date. Las instancias tienen atributos para year, month, y day. Es fácil crear una fecha que represente la fecha actual usando el método de clase today()."
      ],
      "metadata": {
        "id": "9qfdm2HXRPkK"
      }
    },
    {
      "cell_type": "code",
      "source": [
        "hoy = datetime.date.today()\n",
        "print(hoy)\n",
        "print(type(hoy))\n",
        "print(hoy.year)\n",
        "print(hoy.month)\n",
        "print(hoy.day)\n",
        "print(hoy.toordinal()) # cantidad de días transcurridos desde 1/1/0001\n",
        "# --------------------------\n",
        "\n",
        "# ctime() --> devuelve un str\n",
        "print(hoy.ctime())\n",
        "# tupla de tiempo\n",
        "tt = hoy.timetuple()\n",
        "print(tt)\n",
        "print(\"Año: \", tt.tm_year)\n",
        "print(\"Mes: \", tt.tm_mon)"
      ],
      "metadata": {
        "id": "1DoEwfLVSmFW",
        "colab": {
          "base_uri": "https://localhost:8080/"
        },
        "outputId": "561aba6b-590d-4318-a0e8-c44bc856f67e"
      },
      "execution_count": null,
      "outputs": [
        {
          "output_type": "stream",
          "name": "stdout",
          "text": [
            "2024-05-30\n",
            "<class 'datetime.date'>\n",
            "2024\n",
            "5\n",
            "30\n",
            "739036\n",
            "Thu May 30 00:00:00 2024\n",
            "time.struct_time(tm_year=2024, tm_mon=5, tm_mday=30, tm_hour=0, tm_min=0, tm_sec=0, tm_wday=3, tm_yday=151, tm_isdst=-1)\n",
            "Año:  2024\n",
            "Mes:  5\n"
          ]
        }
      ]
    },
    {
      "cell_type": "code",
      "source": [
        "from datetime import date, datetime, timedelta\n",
        "mi_hora = datetime.now() # muestra hora local (OJO si estamos trabajando en entorno online. Puede cambiar el huso horario)\n",
        "print(mi_hora)"
      ],
      "metadata": {
        "colab": {
          "base_uri": "https://localhost:8080/"
        },
        "id": "1w9xJlNriXuN",
        "outputId": "5e772049-1fa0-41a1-b797-fb6ee2d4efb9"
      },
      "execution_count": null,
      "outputs": [
        {
          "output_type": "stream",
          "name": "stdout",
          "text": [
            "2024-05-30 22:13:00.984687\n"
          ]
        }
      ]
    },
    {
      "cell_type": "markdown",
      "source": [
        "##D) OPERANDO CON FECHAS:\n",
        "Para calcular diferencias entre fechas, utilizamos timedelta()"
      ],
      "metadata": {
        "id": "MD_R0FrDGT-2"
      }
    },
    {
      "cell_type": "code",
      "source": [
        "print(hoy)\n",
        "prox_semana = hoy + timedelta(weeks=1)\n",
        "print(prox_semana)"
      ],
      "metadata": {
        "id": "mJdOWW_1Gak5",
        "colab": {
          "base_uri": "https://localhost:8080/"
        },
        "outputId": "683bc61e-963c-438f-a92e-be5977c4926b"
      },
      "execution_count": null,
      "outputs": [
        {
          "output_type": "stream",
          "name": "stdout",
          "text": [
            "2024-05-30\n",
            "2024-06-06\n"
          ]
        }
      ]
    },
    {
      "cell_type": "markdown",
      "source": [
        "##E) COMPARANDO VALORES\n",
        "Utilizamos los operadores de comparación standard para determinar cuál es anterior o posterior."
      ],
      "metadata": {
        "id": "qL-JVhAnY8HW"
      }
    },
    {
      "cell_type": "code",
      "source": [
        "import datetime\n",
        "t1=datetime.time(12,12,0)\n",
        "t2=datetime.time(15,45,2)\n",
        "t1 < t2\n",
        "\n",
        "d1 = datetime.date.today()\n",
        "d2 = d1 + datetime.timedelta(days=-4)\n",
        "\n",
        "d1 > d2"
      ],
      "metadata": {
        "id": "bSA6-cBpZFCM",
        "colab": {
          "base_uri": "https://localhost:8080/"
        },
        "outputId": "92ea501d-a883-4f1c-de44-6fbd4b73b6e0"
      },
      "execution_count": null,
      "outputs": [
        {
          "output_type": "execute_result",
          "data": {
            "text/plain": [
              "True"
            ]
          },
          "metadata": {},
          "execution_count": 25
        }
      ]
    },
    {
      "cell_type": "markdown",
      "source": [
        "##F) COMBINANDO FECHAS Y HORAS\n",
        "Usamos la clase datetime para mantener los valores que consisten en componentes fechas y componentes de tiempo. Al igual que con date, hay varios métodos de clase convenientes para crear instancias datetime de otros valores comunes."
      ],
      "metadata": {
        "id": "BbQo4qvgZjP8"
      }
    },
    {
      "cell_type": "code",
      "source": [
        "# utcnow() --> hora universal\n",
        "\n",
        "campos = [\"year\",\"month\",\"day\",\"hour\",\"minute\",\"second\",\"microsecond\"]\n",
        "d = datetime.datetime.now()\n",
        "print(d)\n",
        "\n",
        "for atributo in campos:\n",
        "  print(atributo, getattr(d,atributo))"
      ],
      "metadata": {
        "id": "_iFDcslkZwFq",
        "colab": {
          "base_uri": "https://localhost:8080/"
        },
        "outputId": "c499a67e-1485-42d8-b855-1d94b3a1e3fc"
      },
      "execution_count": null,
      "outputs": [
        {
          "output_type": "stream",
          "name": "stdout",
          "text": [
            "2024-05-30 22:26:48.586946\n",
            "year 2024\n",
            "month 5\n",
            "day 30\n",
            "hour 22\n",
            "minute 26\n",
            "second 48\n",
            "microsecond 586946\n"
          ]
        }
      ]
    },
    {
      "cell_type": "markdown",
      "source": [
        "combine() crea instancias datetime de una instancia date y una instancia time."
      ],
      "metadata": {
        "id": "wIIVLsVDbY59"
      }
    },
    {
      "cell_type": "code",
      "source": [
        "t = datetime.time(10,23,45)\n",
        "d = datetime.date.today()\n",
        "print(t, d)\n",
        "\n",
        "dt = datetime.datetime.combine(d,t)\n",
        "print(dt)"
      ],
      "metadata": {
        "id": "sk9kc09SbT2S",
        "colab": {
          "base_uri": "https://localhost:8080/"
        },
        "outputId": "12340cc1-6864-4342-9902-338d9dd9e8a7"
      },
      "execution_count": null,
      "outputs": [
        {
          "output_type": "stream",
          "name": "stdout",
          "text": [
            "10:23:45 2024-05-30\n",
            "2024-05-30 10:23:45\n"
          ]
        }
      ]
    },
    {
      "cell_type": "markdown",
      "source": [
        "##G) CAMBIO DE FORMATO DE FECHA\n",
        "La forma predeterminada de un objeto datetime usa el formato ISO-8601 (YYYY-MM-DDTHH:MM:SS.mmmmmm). Se puede generar formatos alternativos usando strftime().(por string format time)\n",
        "\n",
        "Usamos datetime.strptime() para convertir cadenas formateadas en instancias de datetime.\n",
        "\n",
        "###TABLA DE CÓDIGOS DE FORMATO (versión resumida -> hay un pdf en el aula virtual):\n",
        "\n",
        "Cada código de formato de fecha y hora debe tener el prefijo % y los dos puntos siguientes se tratan como caracteres literales para incluir en la salida.\n",
        "\n",
        "%Y -> year\n",
        "\n",
        "%m -> month\n",
        "\n",
        "%d -> day\n",
        "\n",
        "%H -> hour\n",
        "\n",
        "%M -> minute\n",
        "\n",
        "%S -> second\n",
        "\n",
        "%a -> día de la semana abreviado\n",
        "\n",
        "%b -> nombre del mes abreviado"
      ],
      "metadata": {
        "id": "ydm6_w1wFh0q"
      }
    },
    {
      "cell_type": "code",
      "source": [
        "print(hoy) # formato por defecto - ISO\n",
        "\n",
        "latam = hoy.strftime(\"%d/%m/%Y\")\n",
        "print(latam)"
      ],
      "metadata": {
        "id": "wzK6YCJuFoSh",
        "colab": {
          "base_uri": "https://localhost:8080/"
        },
        "outputId": "d8b3f816-3b22-4b87-a086-47126aeae243"
      },
      "execution_count": null,
      "outputs": [
        {
          "output_type": "stream",
          "name": "stdout",
          "text": [
            "2024-05-30\n",
            "30/05/2024\n"
          ]
        }
      ]
    },
    {
      "cell_type": "code",
      "source": [
        "# agregar hora\n",
        "d = datetime.datetime.strptime(latam,\"%d/%m/%Y\")\n",
        "print(d)"
      ],
      "metadata": {
        "colab": {
          "base_uri": "https://localhost:8080/"
        },
        "id": "Gx7CeaqjopmV",
        "outputId": "8e098a29-4ab1-425b-cf71-bd208b6df6d4"
      },
      "execution_count": null,
      "outputs": [
        {
          "output_type": "stream",
          "name": "stdout",
          "text": [
            "2024-05-30 00:00:00\n"
          ]
        }
      ]
    },
    {
      "cell_type": "code",
      "source": [
        "ahora = datetime.datetime.today()\n",
        "print(\"Formato ISO: \", ahora)\n",
        "print(\"fomat(): {:%a %b %d %H:%M:%S %Y}\".format(ahora))"
      ],
      "metadata": {
        "colab": {
          "base_uri": "https://localhost:8080/"
        },
        "id": "b3PsNU80pFt8",
        "outputId": "399c6bb3-0ff7-4931-f6a4-20a9527b966b"
      },
      "execution_count": null,
      "outputs": [
        {
          "output_type": "stream",
          "name": "stdout",
          "text": [
            "Formato ISO:  2024-05-30 22:37:52.758593\n",
            "fomat(): Thu May 30 22:37:52 2024\n"
          ]
        }
      ]
    },
    {
      "cell_type": "markdown",
      "source": [
        "##H) MATERIAL COMPLEMENTARIO\n",
        "Fuente: PyMOTW-3, por Doug Hellmann\n",
        "\n",
        "- <a href=\"https://rico-schmidt.name/pymotw-3/datetime/index.html\">datetime — Manipulación de valores de fecha y hora</a>"
      ],
      "metadata": {
        "id": "HYuLK9c0dtmI"
      }
    },
    {
      "cell_type": "markdown",
      "source": [
        "<hr>\n",
        "<img src=\"https://drive.google.com/uc?id=16Fy8ub2YrUHJnQ8W2p3DrVI42b20ncXz\" width=\"400\">\n",
        "\n",
        "**Todos los derechos son reservados por el Programa Codo a Codo perteneciente a la Dirección Agencia de Habilidades para el Futuro del Ministerio de Educación del Gobierno de la Ciudad Autónoma de Buenos Aires. Se encuentra prohibida su venta o comercialización.**"
      ],
      "metadata": {
        "id": "lUYOBp8xc_9B"
      }
    }
  ]
}