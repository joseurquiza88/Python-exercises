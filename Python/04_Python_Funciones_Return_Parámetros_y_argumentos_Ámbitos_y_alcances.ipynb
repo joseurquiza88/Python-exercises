{
  "nbformat": 4,
  "nbformat_minor": 0,
  "metadata": {
    "colab": {
      "provenance": []
    },
    "kernelspec": {
      "name": "python3",
      "display_name": "Python 3"
    },
    "language_info": {
      "name": "python"
    }
  },
  "cells": [
    {
      "cell_type": "markdown",
      "source": [
        "<img src=\"https://drive.google.com/uc?id=1EoHCaOElelkQXPW8vqLLap6WtshpQu8J\" width = \"500\">\n",
        "\n",
        "#**PROGRAMACIÓN EN PYTHON 3**\n",
        "***Codo a Codo 4.0 - Big Data / Data Analytics***\n",
        "\n",
        "\n"
      ],
      "metadata": {
        "id": "rL3w-uq7ACCj"
      }
    },
    {
      "cell_type": "markdown",
      "source": [
        "##A) Funciones: parámetros y variables de retorno"
      ],
      "metadata": {
        "id": "OmUdxczqAW9D"
      }
    },
    {
      "cell_type": "markdown",
      "metadata": {
        "id": "H8nEtuF57vkD"
      },
      "source": [
        "###1) Parámetros vs argumentos\n",
        "\n",
        "\n",
        "```\n",
        "def sumar(a,b): # parámetros (valores todavía desconocidos)\n",
        "  pass\n",
        "\n",
        "sumar(34,56) #argumentos\n",
        "```\n",
        "\n"
      ]
    },
    {
      "cell_type": "code",
      "metadata": {
        "id": "3Wb0Nhaxw1en",
        "colab": {
          "base_uri": "https://localhost:8080/"
        },
        "outputId": "c2fe4599-d146-42b3-9e28-049366ad8c6b"
      },
      "source": [
        "# el valor de retorno y los parámetros no son obligatorios.\n",
        "# el uso lo va imponer el contexto\n",
        "def sumar1():\n",
        "  print(int(input(\"nro1: \"))+int(input(\"nro2: \")))\n",
        "\n",
        "sumar1()"
      ],
      "execution_count": null,
      "outputs": [
        {
          "output_type": "stream",
          "name": "stdout",
          "text": [
            "nro1: 12\n",
            "nro2: 45\n",
            "57\n"
          ]
        }
      ]
    },
    {
      "cell_type": "code",
      "source": [
        "def sumar2():\n",
        "  return int(input(\"nro1: \"))+int(input(\"nro2: \"))\n",
        "\n",
        "print(sumar2()+sumar2()+sumar2())\n"
      ],
      "metadata": {
        "colab": {
          "base_uri": "https://localhost:8080/"
        },
        "id": "vW_M-g3qVPQI",
        "outputId": "6b971115-6b5d-49c4-ac56-365e0056b658"
      },
      "execution_count": null,
      "outputs": [
        {
          "output_type": "stream",
          "name": "stdout",
          "text": [
            "nro1: 45\n",
            "nro2: 23\n",
            "nro1: 45\n",
            "nro2: 56\n",
            "nro1: 23\n",
            "nro2: 45\n",
            "237\n"
          ]
        }
      ]
    },
    {
      "cell_type": "code",
      "source": [
        "def sumar3(a,b):\n",
        "  print(a+b)\n",
        "\n",
        "sumar3(int(input(\"nro1: \")), int(input(\"nro2: \")))"
      ],
      "metadata": {
        "colab": {
          "base_uri": "https://localhost:8080/"
        },
        "id": "e3ZLcAoOWIHt",
        "outputId": "d71278bd-4cf5-48e6-fac8-993877a4a872"
      },
      "execution_count": null,
      "outputs": [
        {
          "output_type": "stream",
          "name": "stdout",
          "text": [
            "nro1: 45\n",
            "nro2: 33\n",
            "78\n"
          ]
        }
      ]
    },
    {
      "cell_type": "code",
      "source": [
        "def sumar4(a,b):\n",
        "  return a+b\n",
        "\n",
        "print(sumar4(int(input(\"nro1: \")), int(input(\"nro2: \"))))"
      ],
      "metadata": {
        "colab": {
          "base_uri": "https://localhost:8080/"
        },
        "id": "iXMsLtr0WZfz",
        "outputId": "8c11cb96-214d-4187-99c8-c7b38e43382d"
      },
      "execution_count": null,
      "outputs": [
        {
          "output_type": "stream",
          "name": "stdout",
          "text": [
            "nro1: 45\n",
            "nro2: 11\n",
            "56\n"
          ]
        }
      ]
    },
    {
      "cell_type": "markdown",
      "source": [
        "###Valores por defecto"
      ],
      "metadata": {
        "id": "KhoYfXtuW-43"
      }
    },
    {
      "cell_type": "code",
      "source": [
        "def sumar3(a=0,b=0):\n",
        "  print(a+b)\n",
        "\n",
        "sumar3()\n",
        "\n",
        "# Necesito enviar tantos argumentos como parámetros espera la función\n",
        "# Tienen que ir en el mismo orden que espera la funcion\n",
        "# Con valores por defecto prevengo la falta de argumentos"
      ],
      "metadata": {
        "colab": {
          "base_uri": "https://localhost:8080/"
        },
        "id": "_xF8JtgrXCnm",
        "outputId": "1a69b2ad-1099-485d-9eff-94d4ce105b6d"
      },
      "execution_count": null,
      "outputs": [
        {
          "output_type": "stream",
          "name": "stdout",
          "text": [
            "0\n"
          ]
        }
      ]
    },
    {
      "cell_type": "code",
      "source": [
        "def divi(b, a=0):\n",
        "  print(a/b)\n",
        "\n",
        "divisor = 3\n",
        "divi(divisor)\n",
        "\n",
        "# los parámetros por defecto van siempre al final"
      ],
      "metadata": {
        "colab": {
          "base_uri": "https://localhost:8080/"
        },
        "id": "iL9mS3jnX8u-",
        "outputId": "7c593047-e6e0-4325-c8b4-69f9052afeb4"
      },
      "execution_count": null,
      "outputs": [
        {
          "output_type": "stream",
          "name": "stdout",
          "text": [
            "4.0\n"
          ]
        }
      ]
    },
    {
      "cell_type": "markdown",
      "metadata": {
        "id": "oXTjz8-N3ijU"
      },
      "source": [
        "###2) Parámetros indefinidos\n",
        "Cuando no se sabe cuántos parámetros se van a necesitar cuando llamamos la función.\n",
        "le asignamos los parámetros así:\n",
        "\n"
      ]
    },
    {
      "cell_type": "code",
      "metadata": {
        "id": "je_AtJuK42Xv",
        "colab": {
          "base_uri": "https://localhost:8080/"
        },
        "outputId": "0de57df6-d4bf-4845-ba4f-d69a6e4f189b"
      },
      "source": [
        "def sumar(*args): # *args crea una tupla con todos los argumentos que llegan desde la llamada a la fx\n",
        "  sumatoria = 0\n",
        "  for e in args:\n",
        "    sumatoria += e\n",
        "  print(sumatoria)\n",
        "\n",
        "sumar()\n",
        "sumar(23,56,100)\n",
        "sumar(23,34,34,56,78,90,122,34)"
      ],
      "execution_count": null,
      "outputs": [
        {
          "output_type": "stream",
          "name": "stdout",
          "text": [
            "471\n"
          ]
        }
      ]
    },
    {
      "cell_type": "code",
      "source": [
        "def promediar(*args):\n",
        "  sumatoria = 0\n",
        "  for e in args:\n",
        "    sumatoria += e\n",
        "  print(sumatoria/len(args))\n",
        "\n",
        "promediar(45,23)\n",
        "promediar(34,12,67,89)\n",
        "promediar()"
      ],
      "metadata": {
        "colab": {
          "base_uri": "https://localhost:8080/",
          "height": 332
        },
        "id": "mFIwRvzJaK3G",
        "outputId": "49b2283a-b24a-43a4-8218-cc2c3ac259ad"
      },
      "execution_count": null,
      "outputs": [
        {
          "output_type": "stream",
          "name": "stdout",
          "text": [
            "34.0\n",
            "50.5\n"
          ]
        },
        {
          "output_type": "error",
          "ename": "ZeroDivisionError",
          "evalue": "division by zero",
          "traceback": [
            "\u001b[0;31m---------------------------------------------------------------------------\u001b[0m",
            "\u001b[0;31mZeroDivisionError\u001b[0m                         Traceback (most recent call last)",
            "\u001b[0;32m<ipython-input-18-29ba1a6e6f24>\u001b[0m in \u001b[0;36m<cell line: 9>\u001b[0;34m()\u001b[0m\n\u001b[1;32m      7\u001b[0m \u001b[0mpromediar\u001b[0m\u001b[0;34m(\u001b[0m\u001b[0;36m45\u001b[0m\u001b[0;34m,\u001b[0m\u001b[0;36m23\u001b[0m\u001b[0;34m)\u001b[0m\u001b[0;34m\u001b[0m\u001b[0;34m\u001b[0m\u001b[0m\n\u001b[1;32m      8\u001b[0m \u001b[0mpromediar\u001b[0m\u001b[0;34m(\u001b[0m\u001b[0;36m34\u001b[0m\u001b[0;34m,\u001b[0m\u001b[0;36m12\u001b[0m\u001b[0;34m,\u001b[0m\u001b[0;36m67\u001b[0m\u001b[0;34m,\u001b[0m\u001b[0;36m89\u001b[0m\u001b[0;34m)\u001b[0m\u001b[0;34m\u001b[0m\u001b[0;34m\u001b[0m\u001b[0m\n\u001b[0;32m----> 9\u001b[0;31m \u001b[0mpromediar\u001b[0m\u001b[0;34m(\u001b[0m\u001b[0;34m)\u001b[0m\u001b[0;34m\u001b[0m\u001b[0;34m\u001b[0m\u001b[0m\n\u001b[0m",
            "\u001b[0;32m<ipython-input-18-29ba1a6e6f24>\u001b[0m in \u001b[0;36mpromediar\u001b[0;34m(*args)\u001b[0m\n\u001b[1;32m      3\u001b[0m   \u001b[0;32mfor\u001b[0m \u001b[0me\u001b[0m \u001b[0;32min\u001b[0m \u001b[0margs\u001b[0m\u001b[0;34m:\u001b[0m\u001b[0;34m\u001b[0m\u001b[0;34m\u001b[0m\u001b[0m\n\u001b[1;32m      4\u001b[0m     \u001b[0msumatoria\u001b[0m \u001b[0;34m+=\u001b[0m \u001b[0me\u001b[0m\u001b[0;34m\u001b[0m\u001b[0;34m\u001b[0m\u001b[0m\n\u001b[0;32m----> 5\u001b[0;31m   \u001b[0mprint\u001b[0m\u001b[0;34m(\u001b[0m\u001b[0msumatoria\u001b[0m\u001b[0;34m/\u001b[0m\u001b[0mlen\u001b[0m\u001b[0;34m(\u001b[0m\u001b[0margs\u001b[0m\u001b[0;34m)\u001b[0m\u001b[0;34m)\u001b[0m\u001b[0;34m\u001b[0m\u001b[0;34m\u001b[0m\u001b[0m\n\u001b[0m\u001b[1;32m      6\u001b[0m \u001b[0;34m\u001b[0m\u001b[0m\n\u001b[1;32m      7\u001b[0m \u001b[0mpromediar\u001b[0m\u001b[0;34m(\u001b[0m\u001b[0;36m45\u001b[0m\u001b[0;34m,\u001b[0m\u001b[0;36m23\u001b[0m\u001b[0;34m)\u001b[0m\u001b[0;34m\u001b[0m\u001b[0;34m\u001b[0m\u001b[0m\n",
            "\u001b[0;31mZeroDivisionError\u001b[0m: division by zero"
          ]
        }
      ]
    },
    {
      "cell_type": "code",
      "source": [
        "def promediar(*args):\n",
        "  if len(args) != 0:\n",
        "    sumatoria = 0\n",
        "    for e in args:\n",
        "      sumatoria += e\n",
        "    print(sumatoria/len(args))\n",
        "  else:\n",
        "    print(\"No hay datos que promediar\")\n",
        "\n",
        "promediar(45,23)\n",
        "promediar(34,12,67,89)\n",
        "promediar()"
      ],
      "metadata": {
        "colab": {
          "base_uri": "https://localhost:8080/"
        },
        "id": "8Se7kduTa1L7",
        "outputId": "5c191002-26e5-4300-85eb-c87a48973b02"
      },
      "execution_count": null,
      "outputs": [
        {
          "output_type": "stream",
          "name": "stdout",
          "text": [
            "34.0\n",
            "50.5\n",
            "No hay datos que promediar\n"
          ]
        }
      ]
    },
    {
      "cell_type": "markdown",
      "metadata": {
        "id": "IuJaNaiN6Fxp"
      },
      "source": [
        "##B) Variables: Ámbitos y alcances\n",
        "En py las variables que se utilizan pertenecen a un ámbito en particular, por lo que decimos que tienen un alcance (scope) que puede ser local o global"
      ]
    },
    {
      "cell_type": "code",
      "metadata": {
        "id": "KqCvIzAn6eRz",
        "colab": {
          "base_uri": "https://localhost:8080/"
        },
        "outputId": "eae53f69-dd2d-45e9-84dd-203b92199bf5"
      },
      "source": [
        "nro = 50 # ámbito global\n",
        "\n",
        "def local():\n",
        "  nro = 25 # ámbito local\n",
        "  print(nro)\n",
        "\n",
        "print(nro)\n",
        "local()\n",
        "print(nro)\n"
      ],
      "execution_count": null,
      "outputs": [
        {
          "output_type": "stream",
          "name": "stdout",
          "text": [
            "50\n",
            "25\n",
            "50\n"
          ]
        }
      ]
    },
    {
      "cell_type": "markdown",
      "metadata": {
        "id": "wV4AFkuY609d"
      },
      "source": [
        "Para poder crear una variable global dentro de una función, hay 2 maneras:\n",
        "- sacarla x return\n",
        "- usar la palabra reservada **global** al declarar la variable"
      ]
    },
    {
      "cell_type": "code",
      "source": [
        "nro = 50 # ámbito global\n",
        "\n",
        "def local():\n",
        "  nro = 25 # ámbito local\n",
        "  return nro\n",
        "\n",
        "print(nro)\n",
        "nro = local()\n",
        "print(nro)"
      ],
      "metadata": {
        "colab": {
          "base_uri": "https://localhost:8080/"
        },
        "id": "dK5fX8OHbyD-",
        "outputId": "26e4f9d6-40b5-482d-ace4-e867a813bf63"
      },
      "execution_count": null,
      "outputs": [
        {
          "output_type": "stream",
          "name": "stdout",
          "text": [
            "50\n",
            "25\n"
          ]
        }
      ]
    },
    {
      "cell_type": "code",
      "metadata": {
        "id": "NjY4uIJj7L8P",
        "colab": {
          "base_uri": "https://localhost:8080/"
        },
        "outputId": "2e47d97c-63cb-43a8-9be4-339e695b0263"
      },
      "source": [
        "nro = 50 # ámbito global\n",
        "\n",
        "\n",
        "def local():\n",
        "  global nro\n",
        "  nro = 25 # ámbito local\n",
        "  global pepe\n",
        "  pepe = \"conejo\"\n",
        "  print(nro)\n",
        "\n",
        "print(nro)\n",
        "local()\n",
        "print(nro)\n",
        "print(pepe)\n",
        "pepe = \"arroz\"\n",
        "print(pepe)"
      ],
      "execution_count": null,
      "outputs": [
        {
          "output_type": "stream",
          "name": "stdout",
          "text": [
            "50\n",
            "25\n",
            "25\n",
            "conejo\n",
            "arroz\n"
          ]
        }
      ]
    },
    {
      "cell_type": "markdown",
      "source": [
        "##C) EJERCITACIÓN"
      ],
      "metadata": {
        "id": "9JE4wW1PDzft"
      }
    },
    {
      "cell_type": "markdown",
      "source": [
        "**Ejercicio #01-01**\n",
        "\n",
        "Escribí una función `sumar()` que reciba una cantidad variable de números como argumentos, y que devuelva la suma total de los mismos.\n",
        "\n",
        "Posteriormente efectúa 3 o más llamadas a la función usando diferentes juegos de valores para probar su funcionamiento.\n",
        "\n",
        "\n"
      ],
      "metadata": {
        "id": "_0jN5CbMD291"
      }
    },
    {
      "cell_type": "code",
      "source": [],
      "metadata": {
        "id": "O6f30z-0EKPX"
      },
      "execution_count": null,
      "outputs": []
    },
    {
      "cell_type": "markdown",
      "source": [
        "**Ejercicio #01-02**\n",
        "\n",
        "Escribir una función que reciba un número entero positivo y devuelva su factorial."
      ],
      "metadata": {
        "id": "uHBNITYzMJYe"
      }
    },
    {
      "cell_type": "code",
      "source": [],
      "metadata": {
        "id": "cYHuEZ9bMRPA"
      },
      "execution_count": null,
      "outputs": []
    },
    {
      "cell_type": "markdown",
      "source": [
        "**Ejercicio #01-03**\n",
        "\n",
        "Escribir una función que reciba una muestra de números en una lista y devuelva su promedio."
      ],
      "metadata": {
        "id": "03T68YY9M3OU"
      }
    },
    {
      "cell_type": "code",
      "source": [],
      "metadata": {
        "id": "ejT6hmpFNA0B"
      },
      "execution_count": null,
      "outputs": []
    },
    {
      "cell_type": "markdown",
      "source": [
        "**Ejercicio #01-04**\n",
        "\n",
        "Escribir una función que calcule el total de una factura tras aplicarle el 21% de IVA.\n",
        "\n",
        "La función debe recibir una lista con los precios, y devolver el total de la factura."
      ],
      "metadata": {
        "id": "-TxOztROMRso"
      }
    },
    {
      "cell_type": "code",
      "source": [],
      "metadata": {
        "id": "ORAfX4vlNBbR"
      },
      "execution_count": null,
      "outputs": []
    },
    {
      "cell_type": "markdown",
      "source": [
        "**Desafío Especial #01**\n",
        "\n",
        "Conocemos el valor de los lados que forman el ángulo recto (catetos a y b) y desconocemos el valor del 3er lado (hipotenusa c) de un triángulo rectángulo.\n",
        "\n",
        "Escribí una función `perimetroTrianguloRectangulo()`, que reciba el valor de ambos catetos y devuelva el perímetro del triángulo (la suma de su 3 lados)\n",
        "\n",
        "Como ayuda podes escribir otra función que calcule la hipotenusa y llamarla desde esta función de perímetro.\n",
        "\n",
        "Escribí una función, `superficieTrianguloRectangulo()`, que reciba el valor de ambos catetos y devuelva la superficie del triángulo.\n",
        "\n",
        "Probá las funciones `perimetroTrianguloRectangulo()` y `superficieTrianguloRectangulo()` con 2 o más juegos de valores para observar su funcionamiento.\n",
        "\n",
        "<center>\n",
        "<img src=\"https://drive.google.com/uc?id=1Es8Xr-tLRAiS1xribIJf4f8tiRQ7o67b\" width=\"400\"></center>\n",
        "\n",
        "***TIP:***  Para calcular la raíz cuadrada, usa el operador de potencia <b>`**0.5`.</b>"
      ],
      "metadata": {
        "id": "J3smBjiVEK8Y"
      }
    },
    {
      "cell_type": "code",
      "source": [],
      "metadata": {
        "id": "VfBURaoRLRwh"
      },
      "execution_count": null,
      "outputs": []
    },
    {
      "cell_type": "markdown",
      "source": [
        "<hr>\n",
        "<img src=\"https://drive.google.com/uc?id=16Fy8ub2YrUHJnQ8W2p3DrVI42b20ncXz\" width=\"400\">\n",
        "\n",
        "**Todos los derechos son reservados por el Programa Codo a Codo perteneciente a la Dirección Agencia de Habilidades para el Futuro del Ministerio de Educación del Gobierno de la Ciudad Autónoma de Buenos Aires. Se encuentra prohibida su venta o comercialización.**"
      ],
      "metadata": {
        "id": "elRbiFBCBFxk"
      }
    }
  ]
}