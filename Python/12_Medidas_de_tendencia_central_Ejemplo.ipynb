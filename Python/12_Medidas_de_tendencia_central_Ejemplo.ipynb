{
  "nbformat": 4,
  "nbformat_minor": 0,
  "metadata": {
    "colab": {
      "provenance": [],
      "toc_visible": true
    },
    "kernelspec": {
      "name": "python3",
      "display_name": "Python 3"
    },
    "language_info": {
      "name": "python"
    }
  },
  "cells": [
    {
      "cell_type": "markdown",
      "source": [
        "<center><img src=\"https://drive.google.com/uc?id=1uDO4E0lab13rGc6vK1bPALwfghorjqkV\"></center>"
      ],
      "metadata": {
        "id": "pIomQEzWxLD5"
      }
    },
    {
      "cell_type": "markdown",
      "source": [
        "#Medidas de tendencia central - Ejemplo\n",
        "Nos interesa analizar el comportamiento de precios de autos usados en Bielorrusia a fines de 2019.\n",
        "\n",
        "Fuente de datos: [cars_depurado.csv](https://drive.google.com/file/d/1YYEctfCdXsWRPKz1oUIVMZ1cjTGGMepy/view?usp=drive_link)\n",
        "\n",
        "<small>Fuente de los datos original: [Kaggle](https://www.kaggle.com/datasets/lepchenkov/usedcarscatalog)</small>"
      ],
      "metadata": {
        "id": "51H3dan8-ADM"
      }
    },
    {
      "cell_type": "markdown",
      "source": [
        "##Preparación\n",
        "* Primer paso: obtener los datos y ubicarlos en una carpeta de Drive.\n",
        "* Segundo paso: Montar la unidad de Google Drive en Google Colab\n",
        "Algunas de las operaciones más frecuentes que vamos a realizar son\n",
        "  * carga de datos\n",
        "  * guardar resultados.\n",
        "\n",
        "  Para ello, necesitamos poder montar la unidad de Drive en Colab para poder tener acceso."
      ],
      "metadata": {
        "id": "_4VTyGeR12JL"
      }
    },
    {
      "cell_type": "code",
      "source": [],
      "metadata": {
        "id": "VPqCevuA4eCc"
      },
      "execution_count": null,
      "outputs": []
    },
    {
      "cell_type": "markdown",
      "source": [
        "  Para facilitar las tareas, podemos cambiar la ruta de trabajo con el método chdir() de la librería os de python."
      ],
      "metadata": {
        "id": "XZ1wQFqZ4--l"
      }
    },
    {
      "cell_type": "code",
      "source": [],
      "metadata": {
        "id": "Ca_OitS849xE"
      },
      "execution_count": null,
      "outputs": []
    },
    {
      "cell_type": "markdown",
      "source": [
        "* Tercer paso: Importar las librerías, crear y explorar el dataframe."
      ],
      "metadata": {
        "id": "CDTlps9MB-tw"
      }
    },
    {
      "cell_type": "code",
      "execution_count": null,
      "metadata": {
        "id": "QAa1lOkCxChq"
      },
      "outputs": [],
      "source": [
        "\n"
      ]
    },
    {
      "cell_type": "code",
      "source": [
        "\n"
      ],
      "metadata": {
        "id": "umCcHit39r1B"
      },
      "execution_count": null,
      "outputs": []
    },
    {
      "cell_type": "code",
      "source": [],
      "metadata": {
        "id": "hANRpPBe98Ep"
      },
      "execution_count": null,
      "outputs": []
    },
    {
      "cell_type": "markdown",
      "source": [
        "##Análisis"
      ],
      "metadata": {
        "id": "l1VJfpR1C8Y_"
      }
    },
    {
      "cell_type": "markdown",
      "source": [
        "###Promedio de precios"
      ],
      "metadata": {
        "id": "Awjd0lAxC-qB"
      }
    },
    {
      "cell_type": "code",
      "source": [],
      "metadata": {
        "id": "DZY8OvXbDTjk"
      },
      "execution_count": null,
      "outputs": []
    },
    {
      "cell_type": "markdown",
      "source": [
        "###Mediana de precios"
      ],
      "metadata": {
        "id": "jpcX9Zh1DUoE"
      }
    },
    {
      "cell_type": "code",
      "source": [],
      "metadata": {
        "id": "GDOmTiAsDO4i"
      },
      "execution_count": null,
      "outputs": []
    },
    {
      "cell_type": "markdown",
      "source": [],
      "metadata": {
        "id": "548YSp_zDyYk"
      }
    },
    {
      "cell_type": "markdown",
      "source": [
        "###Frecuencia de precios"
      ],
      "metadata": {
        "id": "1clTL1YGDiUk"
      }
    },
    {
      "cell_type": "code",
      "source": [],
      "metadata": {
        "id": "tSmnLtAbDlH-"
      },
      "execution_count": null,
      "outputs": []
    },
    {
      "cell_type": "markdown",
      "source": [],
      "metadata": {
        "id": "tSXZBc2jEXeY"
      }
    },
    {
      "cell_type": "markdown",
      "source": [
        "###Otros datos útiles\n"
      ],
      "metadata": {
        "id": "DL06Rbq_Evs8"
      }
    },
    {
      "cell_type": "code",
      "source": [],
      "metadata": {
        "id": "AX3F_rXUFH7f"
      },
      "execution_count": null,
      "outputs": []
    },
    {
      "cell_type": "markdown",
      "source": [
        "##ACTIVIDAD\n",
        "Las compañías de electricidad requieren información sobre el consumo de los clientes para obtener pronósticos precisos de la demanda. Se determinó el consumo de energía durante un período particular con una muestra de 90 hogares que cuentan con conexión a gas como fuente alternativa.\n",
        "\n",
        "Los datos obtenidos se encuentran en [BTU.csv](https://drive.google.com/file/d/1SCxhcmEmmuep7QKZvE5BDjA-JU20GwEg/view?usp=drive_link).\n",
        "\n",
        "Obtener los consumos mínimos, máximos, promedio, mediana y gráfico de frecuencia.\n",
        "\n",
        "Resolver en Google Sheets, Looker Studio y Pandas."
      ],
      "metadata": {
        "id": "x4XdN0DmFrST"
      }
    },
    {
      "cell_type": "markdown",
      "source": [
        "<hr>\n",
        "<img src=\"https://drive.google.com/uc?id=16Fy8ub2YrUHJnQ8W2p3DrVI42b20ncXz\" width=\"400\">\n",
        "\n",
        "**Todos los derechos son reservados por el Programa Codo a Codo perteneciente a la Dirección Agencia de Habilidades para el Futuro del Ministerio de Educación del Gobierno de la Ciudad Autónoma de Buenos Aires. Se encuentra prohibida su venta o comercialización.**"
      ],
      "metadata": {
        "id": "AB4u00ELGMZk"
      }
    }
  ]
}