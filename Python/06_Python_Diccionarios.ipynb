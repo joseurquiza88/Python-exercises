{
  "nbformat": 4,
  "nbformat_minor": 0,
  "metadata": {
    "colab": {
      "provenance": []
    },
    "kernelspec": {
      "name": "python3",
      "display_name": "Python 3"
    },
    "language_info": {
      "name": "python"
    }
  },
  "cells": [
    {
      "cell_type": "markdown",
      "source": [
        "<img src=\"https://drive.google.com/uc?id=1EoHCaOElelkQXPW8vqLLap6WtshpQu8J\" width = \"500\">\n",
        "\n",
        "#**PROGRAMACIÓN EN PYTHON 5**\n",
        "***Codo a Codo 4.0 - Big Data / Data Analytics***"
      ],
      "metadata": {
        "id": "OjcguP5AaXuO"
      }
    },
    {
      "cell_type": "code",
      "source": [],
      "metadata": {
        "id": "n5tuVegC0TX4"
      },
      "execution_count": null,
      "outputs": []
    },
    {
      "cell_type": "markdown",
      "source": [
        "##1) Diccionarios\n",
        "Diccionario (dict) conjunto no ordenado y mutable de elementos clave-valor (también llamado matriz asociativa) a los cuales se accede mediante las claves. Con mutable se refiere a que los valores pueden cambiar, e incluso repetirse, pero las claves permanecen iguales (sólo pueden eliminarse). No pueden repetirse: es como un ID o un DNI. Constructor -> {}"
      ],
      "metadata": {
        "id": "FsNi04iYDsqt"
      }
    },
    {
      "cell_type": "code",
      "execution_count": null,
      "metadata": {
        "id": "lCC1kV0oDaEU",
        "colab": {
          "base_uri": "https://localhost:8080/"
        },
        "outputId": "d87abb3f-eac6-4c6b-8ea5-2e697afcbf5b"
      },
      "outputs": [
        {
          "output_type": "execute_result",
          "data": {
            "text/plain": [
              "True"
            ]
          },
          "metadata": {},
          "execution_count": 2
        }
      ],
      "source": [
        "mi_dic = {\"nombre\":\"Lucrecia\", \"apellido\":\"Gómez\", \"edad\":30}\n",
        "mi_dic2 = {\"apellido\":\"Gómez\", \"nombre\":\"Lucrecia\", \"edad\":30}\n",
        "\n",
        "# conj ordenados\n",
        "l1 = [1,2,3]\n",
        "l2 = [1,3,2]\n",
        "l1==l2\n",
        "\n",
        "# conj no ordenado\n",
        "mi_dic == mi_dic2"
      ]
    },
    {
      "cell_type": "code",
      "source": [
        "print(mi_dic[\"nombre\"])\n",
        "mi_dic[\"edad\"] += 1\n",
        "print(mi_dic[\"edad\"])\n",
        "\n",
        "#Las claves pueden ser nros o string. Los valores pueden ser cualquier tipo de datos.\n",
        "#\tacceso por claves: [\"nombre\"][\"apellido\"][\"edad\"]\n"
      ],
      "metadata": {
        "id": "YCqqiRH8IYOu",
        "colab": {
          "base_uri": "https://localhost:8080/"
        },
        "outputId": "cd2fb9c6-1a05-4854-9a43-726ea8eec790"
      },
      "execution_count": null,
      "outputs": [
        {
          "output_type": "stream",
          "name": "stdout",
          "text": [
            "Lucrecia\n",
            "31\n"
          ]
        }
      ]
    },
    {
      "cell_type": "code",
      "source": [
        "# CREAR DICCIONARIO A PARTIR DE 2 TUPLAS\n",
        "t_claves = \"nombre\", \"apellido\", \"edad\"\n",
        "t_claves = (\"nombre\", \"apellido\", \"edad\")\n",
        "# l2 = [34,23,12,(34,34)]\n",
        "# print(type(t_claves))\n",
        "t_valores = (\"Juana\", \"Álvarez\", 72)\n",
        "\n",
        "mi_dicc = dict(zip(t_claves,t_valores))\n",
        "print(mi_dicc)"
      ],
      "metadata": {
        "colab": {
          "base_uri": "https://localhost:8080/"
        },
        "id": "5bfzuBCFEV1y",
        "outputId": "9762888c-9499-42eb-8a05-05977b9c9dbb"
      },
      "execution_count": null,
      "outputs": [
        {
          "output_type": "stream",
          "name": "stdout",
          "text": [
            "{'nombre': 'Juana', 'apellido': 'Álvarez', 'edad': 72}\n",
            "<zip object at 0x788f2146bd40>\n"
          ]
        }
      ]
    },
    {
      "cell_type": "code",
      "metadata": {
        "colab": {
          "base_uri": "https://localhost:8080/",
          "height": 71
        },
        "id": "jVsLeIPVMc1W",
        "outputId": "da340c53-a39b-4777-b190-f591e2d666aa"
      },
      "source": [
        "#MÉTODOS DE dict\n",
        "\n",
        "'''\n",
        "dict() --> convierte en diccionario\n",
        "keys() --> devuelve una lista con las clave\n",
        "values() --> devuelve una lista con los valores\n",
        "len() --> devuelve la cantidad de pares clave-valor\n",
        "items() --> crea una lista con los pares clave-valor en tuplas\n",
        "pop(clave) --> elimina el conjunto clave-valor\n",
        "setdefault(clave,valor) --> le da un valor por defecto a una clave\n",
        "clear() --> limpia el diccionario\n",
        "'''\n",
        "\n",
        "\n"
      ],
      "execution_count": null,
      "outputs": [
        {
          "output_type": "execute_result",
          "data": {
            "text/plain": [
              "'\\ndict() --> convierte en diccionario\\nkeys() --> devuelve una lista con las clave\\nvalues() --> devuelve una lista con los valores\\nlen() --> devuelve la cantidad de pares clave-valor\\nitems() --> crea una lista con los pares clave-valor en tuplas\\npop(clave) --> elimina el conjunto clave-valor\\nsetdefault(clave,valor) --> le da un valor por defecto a una clave\\nclear() --> limpia el diccionario\\n'"
            ],
            "application/vnd.google.colaboratory.intrinsic+json": {
              "type": "string"
            }
          },
          "metadata": {},
          "execution_count": 1
        }
      ]
    },
    {
      "cell_type": "code",
      "source": [
        "fut = dict()\n",
        "fut = {1 : \"Casillas\", 15 : \"Ramos\", 3 : \"Pique\", 5 : \"Puyol\", 11 : \"Capdevila\", 14 : \"Xabi Alonso\", 16 : \"Busquets\", 8 : \"Xavi Hernandez\", 18 : \"Pedrito\", 6 : \"Iniesta\", 7 : \"Villa\"}\n",
        "print(fut.keys())\n",
        "print(fut.values())\n",
        "print(fut.items())\n",
        "print(len(fut))\n",
        "fut.pop(15)\n",
        "fut.setdefault(15,\"Ramos\")\n",
        "fut.clear()\n",
        "print(fut)"
      ],
      "metadata": {
        "colab": {
          "base_uri": "https://localhost:8080/"
        },
        "id": "BaOfX8z9FizI",
        "outputId": "87f6c527-ae2a-48e7-fcd9-14565505cb53"
      },
      "execution_count": null,
      "outputs": [
        {
          "output_type": "stream",
          "name": "stdout",
          "text": [
            "dict_keys([1, 15, 3, 5, 11, 14, 16, 8, 18, 6, 7])\n",
            "dict_values(['Casillas', 'Ramos', 'Pique', 'Puyol', 'Capdevila', 'Xabi Alonso', 'Busquets', 'Xavi Hernandez', 'Pedrito', 'Iniesta', 'Villa'])\n",
            "dict_items([(1, 'Casillas'), (15, 'Ramos'), (3, 'Pique'), (5, 'Puyol'), (11, 'Capdevila'), (14, 'Xabi Alonso'), (16, 'Busquets'), (8, 'Xavi Hernandez'), (18, 'Pedrito'), (6, 'Iniesta'), (7, 'Villa')])\n",
            "11\n",
            "{}\n"
          ]
        }
      ]
    },
    {
      "cell_type": "code",
      "source": [
        "# Para ir cargando datos en un diccionario\n",
        "l1_k = [\"clave1\", \"clave2\"]\n",
        "l2_v = [\"val1\", \"val2\", \"val3\"]\n",
        "fut = dict()\n",
        "\n",
        "for i in range(len(l2_v)):\n",
        "  fut.setdefault(l1_k[i],l2_v[i])\n"
      ],
      "metadata": {
        "colab": {
          "base_uri": "https://localhost:8080/",
          "height": 193
        },
        "id": "ErJbutuFH48t",
        "outputId": "513c5cae-bcd8-46f9-b97f-e07ea5441287"
      },
      "execution_count": null,
      "outputs": [
        {
          "output_type": "error",
          "ename": "IndexError",
          "evalue": "list index out of range",
          "traceback": [
            "\u001b[0;31m---------------------------------------------------------------------------\u001b[0m",
            "\u001b[0;31mIndexError\u001b[0m                                Traceback (most recent call last)",
            "\u001b[0;32m<ipython-input-19-64cd65399d35>\u001b[0m in \u001b[0;36m<cell line: 6>\u001b[0;34m()\u001b[0m\n\u001b[1;32m      5\u001b[0m \u001b[0;34m\u001b[0m\u001b[0m\n\u001b[1;32m      6\u001b[0m \u001b[0;32mfor\u001b[0m \u001b[0mi\u001b[0m \u001b[0;32min\u001b[0m \u001b[0mrange\u001b[0m\u001b[0;34m(\u001b[0m\u001b[0mlen\u001b[0m\u001b[0;34m(\u001b[0m\u001b[0ml2_v\u001b[0m\u001b[0;34m)\u001b[0m\u001b[0;34m)\u001b[0m\u001b[0;34m:\u001b[0m\u001b[0;34m\u001b[0m\u001b[0;34m\u001b[0m\u001b[0m\n\u001b[0;32m----> 7\u001b[0;31m   \u001b[0mfut\u001b[0m\u001b[0;34m.\u001b[0m\u001b[0msetdefault\u001b[0m\u001b[0;34m(\u001b[0m\u001b[0ml1_k\u001b[0m\u001b[0;34m[\u001b[0m\u001b[0mi\u001b[0m\u001b[0;34m]\u001b[0m\u001b[0;34m,\u001b[0m\u001b[0ml2_v\u001b[0m\u001b[0;34m[\u001b[0m\u001b[0mi\u001b[0m\u001b[0;34m]\u001b[0m\u001b[0;34m)\u001b[0m\u001b[0;34m\u001b[0m\u001b[0;34m\u001b[0m\u001b[0m\n\u001b[0m\u001b[1;32m      8\u001b[0m \u001b[0;34m\u001b[0m\u001b[0m\n",
            "\u001b[0;31mIndexError\u001b[0m: list index out of range"
          ]
        }
      ]
    },
    {
      "cell_type": "markdown",
      "source": [
        "###Parámetros indeﬁnidos y diccionarios\n",
        "Cuando no se sabe cuántos parámetros se van a necesitar cuando la función sea llamada, se le puede asignar un número indeterminado de parámetros.\n",
        "\n",
        "*args: es una lista de argumentos, como argumentos posicionales.\n",
        "\n",
        "**kwargs: es un diccionario cuyas claves se convierten en parámetros y sus valores en los argumentos de los parámetros."
      ],
      "metadata": {
        "id": "sEW8zlECGLL8"
      }
    },
    {
      "cell_type": "code",
      "source": [
        "def mifunc(**kwargs): # convierte los argumentos a un diccionario\n",
        "  print(type(kwargs))\n",
        "  print(kwargs)\n",
        "\n",
        "mifunc(x=7, y=5, z=3)"
      ],
      "metadata": {
        "id": "agb1CJVTGhaC",
        "colab": {
          "base_uri": "https://localhost:8080/"
        },
        "outputId": "d0c386b8-0629-4dc3-b47c-430c8b5e57e6"
      },
      "execution_count": null,
      "outputs": [
        {
          "output_type": "stream",
          "name": "stdout",
          "text": [
            "<class 'dict'>\n",
            "{'x': 7, 'y': 5, 'z': 3}\n"
          ]
        }
      ]
    },
    {
      "cell_type": "markdown",
      "source": [
        "A diferencia de *args, los **kwargs  nos permiten dar un nombre a cada argumento de entrada, pudiendo acceder a ellos dentro de la función a través de un diccionario."
      ],
      "metadata": {
        "id": "_sF9xqv3GtZV"
      }
    },
    {
      "cell_type": "code",
      "source": [
        "def suma(**kwargs):\n",
        "  s = 0\n",
        "  for key, value in kwargs.items(): # [(k,v),(k,v)]\n",
        "    print(key,\"=\", value)\n",
        "    s += value\n",
        "  print(s)\n",
        "\n",
        "suma(a=4, b=6, c=7)"
      ],
      "metadata": {
        "id": "pE0eAVOhG5Iz",
        "colab": {
          "base_uri": "https://localhost:8080/"
        },
        "outputId": "d2c4be4f-1bad-41b0-9d5a-4cf636067d73"
      },
      "execution_count": null,
      "outputs": [
        {
          "output_type": "stream",
          "name": "stdout",
          "text": [
            "a = 4\n",
            "b = 6\n",
            "c = 7\n",
            "17\n"
          ]
        }
      ]
    },
    {
      "cell_type": "markdown",
      "source": [
        "Entonces podemos iterar los argumentos de entrada con items(), y podemos acceder a la clave key (o nombre) y el valor o value de cada argumento.\n",
        "\n",
        "El uso de los **kwargs es muy útil si además de querer acceder al valor de las variables dentro de la función, quieres darles un nombre que de una información extra."
      ],
      "metadata": {
        "id": "UKBw9hl-HK6s"
      }
    },
    {
      "cell_type": "markdown",
      "source": [
        "###Mezclando *args y **kwargs\n",
        "Una vez entendemos el uso de *args y **kwargs, podemos complicar las cosas un poco más. Es posible mezclar argumentos normales con *args y **kwargs dentro de la misma función. Lo único que necesitas saber es que debes definir la función en el siguiente orden:\n",
        "\n",
        "    • Primero argumentos normales.\n",
        "    • Después los *args.\n",
        "    • Y por último los **kwargs.\n",
        "    \n",
        "Veamos un ejemplo.\n"
      ],
      "metadata": {
        "id": "1HX2NxvwRjqv"
      }
    },
    {
      "cell_type": "code",
      "source": [
        "def fx(a,b, *args, **kwargs):\n",
        "  print(\"a =\", a) # % ganancia\n",
        "  print(\"b =\", b) # cotiz dólar\n",
        "  for arg in args:\n",
        "    print(\"args =\", arg) # arts vendidos\n",
        "  for k,v in kwargs.items():\n",
        "    print(k,\"=\",v)\n",
        "\n",
        "fx(3,6,4,True,45,67.12,[45,23],34,\"Hola\", x=5, y=True, z=(45,7))"
      ],
      "metadata": {
        "id": "sS24rjn0RcQo",
        "colab": {
          "base_uri": "https://localhost:8080/"
        },
        "outputId": "e25f99f8-3c2b-4675-e34a-0830162bf050"
      },
      "execution_count": null,
      "outputs": [
        {
          "output_type": "stream",
          "name": "stdout",
          "text": [
            "a = 3\n",
            "b = 6\n",
            "args = 4\n",
            "args = True\n",
            "args = 45\n",
            "args = 67.12\n",
            "args = [45, 23]\n",
            "args = 34\n",
            "args = Hola\n",
            "x = 5\n",
            "y = True\n",
            "z = (45, 7)\n"
          ]
        }
      ]
    },
    {
      "cell_type": "markdown",
      "source": [
        "Y por último un truco que no podemos dejar sin mencionar es lo que se conoce como **tuple unpacking**. Haciendo uso de *, podemos extraer los valores de una lista o tupla, y que sean pasados como argumentos a la función."
      ],
      "metadata": {
        "id": "2qgU2OjsRzHe"
      }
    },
    {
      "cell_type": "code",
      "source": [
        "def fx(a,b, *args, **kwargs):\n",
        "  print(\"a =\", a) # % ganancia\n",
        "  print(\"b =\", b) # cotiz dólar\n",
        "  for arg in args:\n",
        "    print(\"args =\", arg) # arts vendidos\n",
        "  for k,v in kwargs.items():\n",
        "    print(k,\"=\",v)\n",
        "\n",
        "gan = 3\n",
        "cotiz = 6\n",
        "arts = [4,True,45,67.12,[45,23],34,\"Hola\"]\n",
        "imp = {\"IVA\":0.21, \"cheque\":10, \"bondiola\":45}\n",
        "\n",
        "# fx(gan,cotiz,arts,imp) # envía arts e imp como elementos unicos a *args\n",
        "fx(gan,cotiz,*arts,**imp)"
      ],
      "metadata": {
        "id": "k8afKK2MR6HH",
        "colab": {
          "base_uri": "https://localhost:8080/"
        },
        "outputId": "d2cd4c03-abf9-4089-b247-303d8681ef22"
      },
      "execution_count": null,
      "outputs": [
        {
          "output_type": "stream",
          "name": "stdout",
          "text": [
            "a = 3\n",
            "b = 6\n",
            "args = 4\n",
            "args = True\n",
            "args = 45\n",
            "args = 67.12\n",
            "args = [45, 23]\n",
            "args = 34\n",
            "args = Hola\n",
            "IVA = 0.21\n",
            "cheque = 10\n",
            "bondiola = 45\n"
          ]
        }
      ]
    },
    {
      "cell_type": "markdown",
      "source": [
        "##2) SETS\n",
        "###SET\n",
        "Es la clase utilizada por el lenguaje para representar los conjuntos. Un conjunto es una colección desordenada de elementos únicos, es decir, que no se repiten.\n",
        "Estas características hacen que los principales usos de esta clase sean conocer si un elemento pertenece o no a una colección y eliminar duplicados de un tipo secuencial (list, tuple o str).\n",
        "\n",
        "Además, esta clase también implementa las típicas operaciones matemáticas sobre conjuntos: unión, intersección, diferencia, …\n",
        "\n",
        "Para crear un conjunto, basta con encerrar una serie de elementos entre llaves {}, o bien usar el constructor de la clase set() y pasarle como argumento un objeto iterable (como una lista, una tupla, una cadena …)."
      ],
      "metadata": {
        "id": "LmEvqK5lEmxd"
      }
    },
    {
      "cell_type": "code",
      "source": [
        "# SET (conjunto no ordenado de datos)\n",
        "c = [1,1,1,1,2,2,2,23,4,5,6,7,8,8,8,1]\n",
        "c_limpio = list(set(c)) # limpiando una lista de sus repetidos\n",
        "print(c_limpio)"
      ],
      "metadata": {
        "id": "WWh4_ozLEwlE",
        "colab": {
          "base_uri": "https://localhost:8080/"
        },
        "outputId": "636d3f99-6af6-42ab-f284-247d89cfffbc"
      },
      "execution_count": null,
      "outputs": [
        {
          "output_type": "stream",
          "name": "stdout",
          "text": [
            "[1, 2, 4, 5, 6, 7, 8, 23]\n"
          ]
        }
      ]
    },
    {
      "cell_type": "markdown",
      "source": [
        "Para crear un conjunto vacío, simplemente llama al constructor set() sin parámetros.\n",
        "\n",
        "❗️ IMPORTANTE: {} NO crea un conjunto vacío, sino un diccionario vacío. Usa set() si quieres crear un conjunto sin elementos."
      ],
      "metadata": {
        "id": "hisCFtkKFQR2"
      }
    },
    {
      "cell_type": "markdown",
      "source": [
        "###set vs frozenset\n",
        "En Python existen dos clases para representar conjuntos: set y frozenset. La principal diferencia es que set es mutable, por lo que después de ser creado, se pueden añadir y/o eliminar elementos del conjunto. Frozenset es inmutable y su contenido no puede ser modificado una vez que ha sido inicializado.\n",
        "\n",
        "Para crear un conjunto de tipo frozenset, se usa el constructor de la clase frozenset():"
      ],
      "metadata": {
        "id": "7h9X6WgiFbCl"
      }
    },
    {
      "cell_type": "code",
      "source": [
        "fr = frozenset([3,3,3,3,3,2,3,4,5,6])\n",
        "print(fr)"
      ],
      "metadata": {
        "id": "vif4NcYhFuxt",
        "colab": {
          "base_uri": "https://localhost:8080/"
        },
        "outputId": "8f0e9491-6f24-4ad1-b461-248f7722efef"
      },
      "execution_count": null,
      "outputs": [
        {
          "output_type": "stream",
          "name": "stdout",
          "text": [
            "frozenset({2, 3, 4, 5, 6})\n"
          ]
        }
      ]
    },
    {
      "cell_type": "markdown",
      "source": [
        "**Cómo acceder a los elementos de un conjunto en Python**\n",
        "\n",
        "Como los conjuntos son colecciones desordenadas, no se guarda la posición en la que se insertan los elementos (como en list o tuple). Por eso no se puede acceder a los elementos a través de un índice.\n",
        "\n",
        "Pero podemos acceder o recorrer todos los elementos de un conjunto con un bucle for:"
      ],
      "metadata": {
        "id": "43sKAMHZF2sl"
      }
    },
    {
      "cell_type": "code",
      "source": [
        "set_d = set(c)\n",
        "for elemento in set_d:\n",
        "  print(elemento)"
      ],
      "metadata": {
        "colab": {
          "base_uri": "https://localhost:8080/"
        },
        "id": "wEg36badP6SF",
        "outputId": "b1dfbe01-813e-4d92-e006-5a11eb9da149"
      },
      "execution_count": null,
      "outputs": [
        {
          "output_type": "stream",
          "name": "stdout",
          "text": [
            "1\n",
            "2\n",
            "4\n",
            "5\n",
            "6\n",
            "7\n",
            "8\n",
            "23\n"
          ]
        }
      ]
    },
    {
      "cell_type": "markdown",
      "source": [
        "##3) MATERIAL COMPLEMENTARIO\n",
        "Fuente: Python.org\n",
        "- <a href=\"https://docs.python.org/es/3/tutorial/datastructures.html#dictionaries\">Estructuras de datos en Python</a>\n",
        "\n",
        "Fuente: W3Schools.com\n",
        "- <a href= \"https://www.w3schools.com/python/python_dictionaries.asp\">Python Dictionaries</a>\n",
        "- <a href= \"https://www.w3schools.com/python/python_tuples.asp\">Python Tuples</a>\n",
        "- <a href= \"https://www.w3schools.com/python/python_sets.asp\">Python Sets</a>\n",
        "- <a href= \"https://www.w3schools.com/python/ref_func_frozenset.asp\">Python frozenset() Function</a>"
      ],
      "metadata": {
        "id": "uuy7zFKsu69r"
      }
    },
    {
      "cell_type": "markdown",
      "source": [
        "<hr>\n",
        "<img src=\"https://drive.google.com/uc?id=16Fy8ub2YrUHJnQ8W2p3DrVI42b20ncXz\" width=\"400\">\n",
        "\n",
        "**Todos los derechos son reservados por el Programa Codo a Codo perteneciente a la Dirección Agencia de Habilidades para el Futuro del Ministerio de Educación del Gobierno de la Ciudad Autónoma de Buenos Aires. Se encuentra prohibida su venta o comercialización.**"
      ],
      "metadata": {
        "id": "90pL7dPwaQ6q"
      }
    }
  ]
}