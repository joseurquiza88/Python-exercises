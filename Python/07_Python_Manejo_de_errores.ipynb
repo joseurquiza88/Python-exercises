{
  "nbformat": 4,
  "nbformat_minor": 0,
  "metadata": {
    "colab": {
      "provenance": []
    },
    "kernelspec": {
      "name": "python3",
      "display_name": "Python 3"
    },
    "language_info": {
      "name": "python"
    }
  },
  "cells": [
    {
      "cell_type": "markdown",
      "source": [
        "<img src=\"https://drive.google.com/uc?id=1EoHCaOElelkQXPW8vqLLap6WtshpQu8J\" width = \"500\">\n",
        "\n",
        "#**PROGRAMACIÓN EN PYTHON 6**\n",
        "***Codo a Codo 4.0 - Big Data / Data Analytics***"
      ],
      "metadata": {
        "id": "OjcguP5AaXuO"
      }
    },
    {
      "cell_type": "markdown",
      "source": [
        "##1) ERRORES Y EXCEPCIONES\n",
        "\n",
        "<img src=\"https://drive.google.com/uc?id=1k7H-o-juct4dMqrSHN3VklPac-_Dtqah\" width = \"500\">\n"
      ],
      "metadata": {
        "id": "lig3GWr8zPDW"
      }
    },
    {
      "cell_type": "markdown",
      "source": [
        "### a) Tipos de errores\n",
        "- De sintaxis: Mal uso de las reglas de lenguaje. Fallas de tipeo.\n",
        "- Lógicos: El resultado que devuelve el programa está fuera del rango esperado.\n",
        "- De ejecución: Cuando la computadora entiende la instrucción, pero no puede ejecutarla."
      ],
      "metadata": {
        "id": "orOLnK0wzcR2"
      }
    },
    {
      "cell_type": "markdown",
      "source": [
        "### i. SyntaxError\n",
        "- Python avisa que se cometió un error\n",
        "- Se detiene el programa y no se ejecuta"
      ],
      "metadata": {
        "id": "k7zDNx4T1BMS"
      }
    },
    {
      "cell_type": "markdown",
      "source": [
        "###ii. Errores de lógica\n",
        "- Python no arroja mensaje de error.\n",
        "- El programa no se detiene.\n",
        "- El programa no devuelve los resultados previstos o tiene comportamientos inesperados.\n",
        "- Se eliminan por medio de la técnica de ***debugging*** (depuración)."
      ],
      "metadata": {
        "id": "-S4JdwMc1QNB"
      }
    },
    {
      "cell_type": "markdown",
      "source": [
        "###iii. Exceptions: Traceback\n",
        "- El programa se interrumpe en el punto en que aparece el error.\n",
        "- El mensaje de error llega en modo de Traceback.\n",
        "- Hay de varios tipos. Algunos de ellas:\n",
        "  * Keyboard Interrupt: el usuario detuvo la ejecución del programa.\n",
        "  * KeyError: se intentó acceder a una llave de diccionario que no existe.\n",
        "  * IndexError: se intentó acceder al índice de una lista que no existe.\n",
        "  * TypeError: el programa recibió un tipo de dato inadecuado para la operación que intenta realizar.\n",
        "  * FileNotFoundError: se intentó abrir un archivo que no existe.\n",
        "  * ZeroDivisionError: división por cero.\n",
        "  * Import Error: se intentó importar un módulo con un error."
      ],
      "metadata": {
        "id": "wWTvpvD61tKG"
      }
    },
    {
      "cell_type": "markdown",
      "source": [
        "El Traceback (traza del error) se lee desde el final hasta el principio.\n",
        "\n",
        "La última línea nos dice que tipo de excepción recibimos, con un resumen de lo que significa.\n",
        "\n",
        "La penúltima línea nos informa en qué archivo, línea y módulo ocurrió la excepción (<stdin> es la consola interactiva)."
      ],
      "metadata": {
        "id": "WyrdrRtN5eDr"
      }
    },
    {
      "cell_type": "code",
      "source": [
        "def main(): # función externa\n",
        "  def division(a,b):\n",
        "    print(a/b)\n",
        "    '''\n",
        "    en caso de error (división por 0, se devuelve el error a la función\n",
        "    main, y si en la función main no se resuelve, se eleva al programa principal)\n",
        "    '''\n",
        "  pass #otros bloques de código\n",
        "  a = 12\n",
        "  b = 0\n",
        "  division(a,b)\n",
        "\n",
        "main()"
      ],
      "metadata": {
        "id": "K6xp8MOw2tO5",
        "colab": {
          "base_uri": "https://localhost:8080/",
          "height": 321
        },
        "outputId": "7faeb04b-e9d6-49e9-a55f-7d8355005024"
      },
      "execution_count": null,
      "outputs": [
        {
          "output_type": "error",
          "ename": "ZeroDivisionError",
          "evalue": "division by zero",
          "traceback": [
            "\u001b[0;31m---------------------------------------------------------------------------\u001b[0m",
            "\u001b[0;31mZeroDivisionError\u001b[0m                         Traceback (most recent call last)",
            "\u001b[0;32m<ipython-input-1-02e6305f120e>\u001b[0m in \u001b[0;36m<cell line: 13>\u001b[0;34m()\u001b[0m\n\u001b[1;32m     11\u001b[0m   \u001b[0mdivision\u001b[0m\u001b[0;34m(\u001b[0m\u001b[0ma\u001b[0m\u001b[0;34m,\u001b[0m\u001b[0mb\u001b[0m\u001b[0;34m)\u001b[0m\u001b[0;34m\u001b[0m\u001b[0;34m\u001b[0m\u001b[0m\n\u001b[1;32m     12\u001b[0m \u001b[0;34m\u001b[0m\u001b[0m\n\u001b[0;32m---> 13\u001b[0;31m \u001b[0mmain\u001b[0m\u001b[0;34m(\u001b[0m\u001b[0;34m)\u001b[0m\u001b[0;34m\u001b[0m\u001b[0;34m\u001b[0m\u001b[0m\n\u001b[0m",
            "\u001b[0;32m<ipython-input-1-02e6305f120e>\u001b[0m in \u001b[0;36mmain\u001b[0;34m()\u001b[0m\n\u001b[1;32m      9\u001b[0m   \u001b[0ma\u001b[0m \u001b[0;34m=\u001b[0m \u001b[0;36m12\u001b[0m\u001b[0;34m\u001b[0m\u001b[0;34m\u001b[0m\u001b[0m\n\u001b[1;32m     10\u001b[0m   \u001b[0mb\u001b[0m \u001b[0;34m=\u001b[0m \u001b[0;36m0\u001b[0m\u001b[0;34m\u001b[0m\u001b[0;34m\u001b[0m\u001b[0m\n\u001b[0;32m---> 11\u001b[0;31m   \u001b[0mdivision\u001b[0m\u001b[0;34m(\u001b[0m\u001b[0ma\u001b[0m\u001b[0;34m,\u001b[0m\u001b[0mb\u001b[0m\u001b[0;34m)\u001b[0m\u001b[0;34m\u001b[0m\u001b[0;34m\u001b[0m\u001b[0m\n\u001b[0m\u001b[1;32m     12\u001b[0m \u001b[0;34m\u001b[0m\u001b[0m\n\u001b[1;32m     13\u001b[0m \u001b[0mmain\u001b[0m\u001b[0;34m(\u001b[0m\u001b[0;34m)\u001b[0m\u001b[0;34m\u001b[0m\u001b[0;34m\u001b[0m\u001b[0m\n",
            "\u001b[0;32m<ipython-input-1-02e6305f120e>\u001b[0m in \u001b[0;36mdivision\u001b[0;34m(a, b)\u001b[0m\n\u001b[1;32m      1\u001b[0m \u001b[0;32mdef\u001b[0m \u001b[0mmain\u001b[0m\u001b[0;34m(\u001b[0m\u001b[0;34m)\u001b[0m\u001b[0;34m:\u001b[0m \u001b[0;31m# función externa\u001b[0m\u001b[0;34m\u001b[0m\u001b[0;34m\u001b[0m\u001b[0m\n\u001b[1;32m      2\u001b[0m   \u001b[0;32mdef\u001b[0m \u001b[0mdivision\u001b[0m\u001b[0;34m(\u001b[0m\u001b[0ma\u001b[0m\u001b[0;34m,\u001b[0m\u001b[0mb\u001b[0m\u001b[0;34m)\u001b[0m\u001b[0;34m:\u001b[0m\u001b[0;34m\u001b[0m\u001b[0;34m\u001b[0m\u001b[0m\n\u001b[0;32m----> 3\u001b[0;31m     \u001b[0mprint\u001b[0m\u001b[0;34m(\u001b[0m\u001b[0ma\u001b[0m\u001b[0;34m/\u001b[0m\u001b[0mb\u001b[0m\u001b[0;34m)\u001b[0m\u001b[0;34m\u001b[0m\u001b[0;34m\u001b[0m\u001b[0m\n\u001b[0m\u001b[1;32m      4\u001b[0m     '''\n\u001b[1;32m      5\u001b[0m     en caso de error (división por 0, se devuelve el error a la función\n",
            "\u001b[0;31mZeroDivisionError\u001b[0m: division by zero"
          ]
        }
      ]
    },
    {
      "cell_type": "markdown",
      "source": [
        "La primera línea dice que la última llamada está al final (línea 13): Cuando ocurre una excepción, es dentro de un lugar específico (por ejemplo, dentro de una función).\n",
        "\n",
        "Si el error no fue previsto, lo eleva a una función de orden superior.\n",
        "Por ejemplo, si no se capturó/manejó o trabajó el error dentro de la función interna, python eleva el error a la función main.\n",
        "\n",
        "Si en la función main no se captura el error, Python corta el error en esa línea y lanza el traceback."
      ],
      "metadata": {
        "id": "3fokaI1R2rhv"
      }
    },
    {
      "cell_type": "markdown",
      "source": [
        "##2) MANEJO DE ERRORES\n",
        "Los errores se manejan con bloques try... except.\n",
        "Su estructura básica es:\n",
        "\n",
        "<img src=\"https://drive.google.com/uc?id=1PESV4t6d9ZSb1o4iCSqovTjLvHqeEA-e\">"
      ],
      "metadata": {
        "id": "NbQLX_gG6Cjd"
      }
    },
    {
      "cell_type": "markdown",
      "source": [
        "Retomando el ejemplo anterior, podemos prevenir el error de ZeroDivision capturándolo dentro de la función interna `division`.\n"
      ],
      "metadata": {
        "id": "eg_sGpoL6--0"
      }
    },
    {
      "cell_type": "code",
      "source": [
        "def main(): # función externa\n",
        "  def division(a,b):\n",
        "    try: #intenta ejecutar la division\n",
        "      print(a/b)\n",
        "    except ZeroDivisionError: #utilizamos la información del Traceback\n",
        "      print(\"Se intenta dividir por cero\")\n",
        "\n",
        "  pass #otros bloques de código\n",
        "  a = 12\n",
        "  b = 0\n",
        "  division(a,b)\n",
        "\n",
        "main()"
      ],
      "metadata": {
        "id": "3DGjP3yu6UGl",
        "colab": {
          "base_uri": "https://localhost:8080/"
        },
        "outputId": "057fc184-fb01-4698-fe33-fbfdb7cd85a6"
      },
      "execution_count": null,
      "outputs": [
        {
          "output_type": "stream",
          "name": "stdout",
          "text": [
            "Se intenta dividir por cero\n"
          ]
        }
      ]
    },
    {
      "cell_type": "markdown",
      "source": [
        "Ahora el programa llega a término, sin interrupciones.\n",
        "\n",
        "Vamos a darles unos minutos para pensar el siguiente ejemplo.\n",
        "- ¿Qué sucede al ingresar un número entero a la función `palindromos`?\n",
        "- ¿Dónde ocurre la excepción?\n",
        "- ¿Cómo lo capturamos?\n",
        "\n"
      ],
      "metadata": {
        "id": "KlNol__Z7pyR"
      }
    },
    {
      "cell_type": "code",
      "source": [
        "# FUNCIÓN QUE VERIFICA SI UNA CADENA ES PALÍNDROMO\n",
        "def palindromos(cadena):\n",
        "  return cadena == cadena[::-1]\n",
        "\n",
        "print(palindromos(1))"
      ],
      "metadata": {
        "id": "BErW9oe88HhQ",
        "colab": {
          "base_uri": "https://localhost:8080/",
          "height": 297
        },
        "outputId": "1e82bfe7-4d83-48d0-abee-e8d422168ba7"
      },
      "execution_count": null,
      "outputs": [
        {
          "output_type": "error",
          "ename": "TypeError",
          "evalue": "'int' object is not subscriptable",
          "traceback": [
            "\u001b[0;31m---------------------------------------------------------------------------\u001b[0m",
            "\u001b[0;31mTypeError\u001b[0m                                 Traceback (most recent call last)",
            "\u001b[0;32m<ipython-input-5-990279c1bbab>\u001b[0m in \u001b[0;36m<cell line: 5>\u001b[0;34m()\u001b[0m\n\u001b[1;32m      3\u001b[0m   \u001b[0;32mreturn\u001b[0m \u001b[0mcadena\u001b[0m \u001b[0;34m==\u001b[0m \u001b[0mcadena\u001b[0m\u001b[0;34m[\u001b[0m\u001b[0;34m:\u001b[0m\u001b[0;34m:\u001b[0m\u001b[0;34m-\u001b[0m\u001b[0;36m1\u001b[0m\u001b[0;34m]\u001b[0m\u001b[0;34m\u001b[0m\u001b[0;34m\u001b[0m\u001b[0m\n\u001b[1;32m      4\u001b[0m \u001b[0;34m\u001b[0m\u001b[0m\n\u001b[0;32m----> 5\u001b[0;31m \u001b[0mprint\u001b[0m\u001b[0;34m(\u001b[0m\u001b[0mpalindromos\u001b[0m\u001b[0;34m(\u001b[0m\u001b[0;36m1\u001b[0m\u001b[0;34m)\u001b[0m\u001b[0;34m)\u001b[0m\u001b[0;34m\u001b[0m\u001b[0;34m\u001b[0m\u001b[0m\n\u001b[0m",
            "\u001b[0;32m<ipython-input-5-990279c1bbab>\u001b[0m in \u001b[0;36mpalindromos\u001b[0;34m(cadena)\u001b[0m\n\u001b[1;32m      1\u001b[0m \u001b[0;31m# FUNCIÓN QUE VERIFICA SI UNA CADENA ES PALÍNDROMO\u001b[0m\u001b[0;34m\u001b[0m\u001b[0;34m\u001b[0m\u001b[0m\n\u001b[1;32m      2\u001b[0m \u001b[0;32mdef\u001b[0m \u001b[0mpalindromos\u001b[0m\u001b[0;34m(\u001b[0m\u001b[0mcadena\u001b[0m\u001b[0;34m)\u001b[0m\u001b[0;34m:\u001b[0m\u001b[0;34m\u001b[0m\u001b[0;34m\u001b[0m\u001b[0m\n\u001b[0;32m----> 3\u001b[0;31m   \u001b[0;32mreturn\u001b[0m \u001b[0mcadena\u001b[0m \u001b[0;34m==\u001b[0m \u001b[0mcadena\u001b[0m\u001b[0;34m[\u001b[0m\u001b[0;34m:\u001b[0m\u001b[0;34m:\u001b[0m\u001b[0;34m-\u001b[0m\u001b[0;36m1\u001b[0m\u001b[0;34m]\u001b[0m\u001b[0;34m\u001b[0m\u001b[0;34m\u001b[0m\u001b[0m\n\u001b[0m\u001b[1;32m      4\u001b[0m \u001b[0;34m\u001b[0m\u001b[0m\n\u001b[1;32m      5\u001b[0m \u001b[0mprint\u001b[0m\u001b[0;34m(\u001b[0m\u001b[0mpalindromos\u001b[0m\u001b[0;34m(\u001b[0m\u001b[0;36m1\u001b[0m\u001b[0;34m)\u001b[0m\u001b[0;34m)\u001b[0m\u001b[0;34m\u001b[0m\u001b[0;34m\u001b[0m\u001b[0m\n",
            "\u001b[0;31mTypeError\u001b[0m: 'int' object is not subscriptable"
          ]
        }
      ]
    },
    {
      "cell_type": "code",
      "source": [
        "def palindromos(cadena):\n",
        "  return cadena == cadena[::-1]\n",
        "\n",
        "try:\n",
        "  print(palindromos(5))\n",
        "except TypeError:\n",
        "  print(\"Sólo se pueden ingresar strings\")"
      ],
      "metadata": {
        "id": "7dAHiGiG9iZm",
        "colab": {
          "base_uri": "https://localhost:8080/"
        },
        "outputId": "d757102c-1c6c-40e1-86e2-3809b4ca809c"
      },
      "execution_count": null,
      "outputs": [
        {
          "output_type": "stream",
          "name": "stdout",
          "text": [
            "Sólo se pueden ingresar strings\n"
          ]
        }
      ]
    },
    {
      "cell_type": "markdown",
      "source": [
        "Esta vez, no había espacio en la función interna para capturar el error, por lo que \"elevó\" la excepción al programa principal.\n",
        "Allí se pudo capturar y resolver la excepción.\n",
        "\n",
        "\n",
        "En ocasiones, puede que necesitemos \"forzar\" una excepción (que normalmente no detendría el programa), para evitar que ingresen datos no deseados. Por ejemplo, no tendría sentido enviar una cadena de un solo caracter o una cadena vacía a la función palíndromo, porque siempre devolvería `True`.\n",
        "\n",
        "Para forzar esta excepción, se utiliza `raise`.\n",
        "\n",
        "<img src=\"https://drive.google.com/uc?id=106abFwda1FXbzWjbdIdkBjitAzF6kbPP\">"
      ],
      "metadata": {
        "id": "sD2uBszf-QC-"
      }
    },
    {
      "cell_type": "code",
      "source": [
        "def palindromos(cadena):\n",
        "  try:\n",
        "    if len(cadena) < 2:\n",
        "      raise ValueError(\"Ingrese una cadena de al menos 2 caracteres.\")\n",
        "    return cadena == cadena[::-1]\n",
        "  except ValueError as ve:\n",
        "    print(ve)\n",
        "    return \"No se pudo ejecutar.\"\n",
        "\n",
        "\n",
        "a = \"s\"\n",
        "try:\n",
        "  print(palindromos(a))\n",
        "except TypeError:\n",
        "   print(\"Sólo se pueden ingresar strings\")"
      ],
      "metadata": {
        "id": "crzOQS4O_429",
        "colab": {
          "base_uri": "https://localhost:8080/"
        },
        "outputId": "da84e3bb-1785-4475-a651-fe9483c0bb3b"
      },
      "execution_count": null,
      "outputs": [
        {
          "output_type": "stream",
          "name": "stdout",
          "text": [
            "Ingrese una cadena de al menos 2 caracteres.\n",
            "No se pudo ejecutar.\n"
          ]
        }
      ]
    },
    {
      "cell_type": "markdown",
      "source": [
        "Si es necesario, podemos agregar una cláusula extra a la estructura del `try... except`, para ejecutar código adicional en caso de que no se encuentren excepciones: `else`.\n",
        "<img src=\"https://drive.google.com/uc?id=1Zw47x2nH67G_5Pgck1nIRDceo7rr_cyy\">"
      ],
      "metadata": {
        "id": "66Lo9aPyBZH_"
      }
    },
    {
      "cell_type": "code",
      "source": [
        "def palindromos(cadena):\n",
        "  try:\n",
        "    if len(cadena) < 2:\n",
        "      raise ValueError(\"Ingrese una cadena de al menos 2 caracteres.\")\n",
        "    retorno = cadena == cadena[::-1]\n",
        "  except ValueError as ve:\n",
        "    print(ve)\n",
        "    retorno = \"No se pudo ejecutar.\"\n",
        "  else:\n",
        "    print(\"Este programa se ejecuta sin errores.\")\n",
        "  return retorno\n",
        "\n",
        "\n",
        "a = \"45\"\n",
        "try:\n",
        "  print(palindromos(a))\n",
        "except TypeError:\n",
        "  print(\"Sólo se pueden ingresar strings\")\n"
      ],
      "metadata": {
        "id": "e4bSoKq_B7z_",
        "colab": {
          "base_uri": "https://localhost:8080/"
        },
        "outputId": "3740dc42-908c-468f-8118-8f0a86292814"
      },
      "execution_count": null,
      "outputs": [
        {
          "output_type": "stream",
          "name": "stdout",
          "text": [
            "Este programa se ejecuta sin errores.\n",
            "False\n"
          ]
        }
      ]
    },
    {
      "cell_type": "markdown",
      "source": [
        "En ocasiones, es necesario que cierto bloque de código se ejecute en todos los casos, tanto si ocurren o no excepciones en el transcurso del programa.\n",
        "\n",
        "En esos casos, agregamos una última cláusula: `finally`.\n",
        "<img src=\"https://drive.google.com/uc?id=1kWbr_fWLWm_dwNkLEj-DEswAVlebjIdw\">"
      ],
      "metadata": {
        "id": "WG1EWTzWC4nd"
      }
    },
    {
      "cell_type": "markdown",
      "source": [
        "Un ejemplo cásico, es el de los programas en los que abrimos y modificamos archivos. En esos casos, siempre vamos a solicitar que al final, los archivos abiertos se cierren.\n",
        "Por ejemplo:\n",
        "\n",
        "```\n",
        "try:\n",
        "  f = open(\"archivo.txt\")\n",
        "  # se ejecutan operaciones sobre el archivo\n",
        "finally:\n",
        "  f.close()\n",
        "```\n",
        "\n",
        "Otros casos en los que no debemos olvidar la cláusula finally:\n",
        "- cerrar la conexión a una base de datos\n",
        "- liberar recursos\n"
      ],
      "metadata": {
        "id": "BPVLcZr7D5Mp"
      }
    },
    {
      "cell_type": "markdown",
      "source": [
        "##3) MATERIAL COMPLEMENTARIO\n",
        "Fuente: Python.org\n",
        "- <a href=\"https://docs.python.org/es/3/tutorial/errors.html\">Errores y excepciones</a>\n",
        "\n",
        "Fuente: W3Schools\n",
        "- <a href=\"https://www.w3schools.com/python/python_try_except.asp\">Python Try Except</a>"
      ],
      "metadata": {
        "id": "uuy7zFKsu69r"
      }
    },
    {
      "cell_type": "markdown",
      "source": [
        "<hr>\n",
        "<img src=\"https://drive.google.com/uc?id=16Fy8ub2YrUHJnQ8W2p3DrVI42b20ncXz\" width=\"400\">\n",
        "\n",
        "**Todos los derechos son reservados por el Programa Codo a Codo perteneciente a la Dirección Agencia de Habilidades para el Futuro del Ministerio de Educación del Gobierno de la Ciudad Autónoma de Buenos Aires. Se encuentra prohibida su venta o comercialización.**"
      ],
      "metadata": {
        "id": "90pL7dPwaQ6q"
      }
    }
  ]
}