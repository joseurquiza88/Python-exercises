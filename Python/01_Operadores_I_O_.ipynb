{
 "cells": [
  {
   "cell_type": "markdown",
   "metadata": {
    "id": "jUgOErJkn2DB"
   },
   "source": [
    "# **PROGRAMACIÓN EN PYTHON 1**\n",
    "***Codo a Codo 4.0 - Big Data / Data Analytics***\n"
   ]
  },
  {
   "cell_type": "markdown",
   "metadata": {
    "id": "kJTRrXuu_skK"
   },
   "source": [
    "# A) OPERADORES\n",
    "Son símbolos que se aplican a uno o varios operandos en una expresión o instrucción con el fin de obtener cierto resultado\n",
    "\n",
    "**Tipos de operadores**"
   ]
  },
  {
   "cell_type": "markdown",
   "metadata": {
    "id": "mHxvXjIJz-LI"
   },
   "source": [
    "# 1) OPERADORES ARITMÉTICOS\n",
    "- suma +\n",
    "- resta -\n",
    "- multiplicación *\n",
    "- potencia **\n",
    "- división /\n",
    "- división entera //\n",
    "- módulo (resto de la división) %\n",
    "\n",
    "\n"
   ]
  },
  {
   "cell_type": "code",
   "execution_count": 2,
   "metadata": {
    "colab": {
     "base_uri": "https://localhost:8080/"
    },
    "id": "DsmWhdJ3GKc3",
    "outputId": "5f4e63e8-597e-4f0e-88f2-85802db5914e"
   },
   "outputs": [
    {
     "name": "stdout",
     "output_type": "stream",
     "text": [
      "15\n",
      "5\n",
      "20\n",
      "-10\n",
      "100\n",
      "<class 'int'>\n",
      "3.3333333333333335\n",
      "<class 'float'>\n",
      "3\n",
      "1\n"
     ]
    }
   ],
   "source": [
    "numero = 10\n",
    "print(numero + 5)\n",
    "print(numero - 5)\n",
    "print(numero * 2)\n",
    "print(-numero)\n",
    "print(numero ** 2)\n",
    "\n",
    "# tipado dinámico --> int float\n",
    "print(type(numero))\n",
    "numero = numero / 3\n",
    "print(numero)\n",
    "print(type(numero))\n",
    "\n",
    "numero = 10\n",
    "print(numero // 3)\n",
    "print(numero % 3)"
   ]
  },
  {
   "cell_type": "code",
   "execution_count": 4,
   "metadata": {
    "colab": {
     "base_uri": "https://localhost:8080/"
    },
    "id": "Lafa1pxz1fMK",
    "outputId": "f4d10668-9a4d-48c8-d1c6-c79ddcad4453"
   },
   "outputs": [
    {
     "name": "stdout",
     "output_type": "stream",
     "text": [
      "Ana López\n",
      "Ana López tiene 32 años.\n",
      "Ana LópezAna LópezAna LópezAna LópezAna López\n"
     ]
    }
   ],
   "source": [
    "#También puedo usar * para strings (cadenas de texto)\n",
    "nom = \"Ana\"\n",
    "ape = \"López\"\n",
    "edad = 32\n",
    "nomape = nom + \" \" + ape\n",
    "print(nomape)\n",
    "\n",
    "# tipado fuerte\n",
    "# print(nomape + \" tiene \" + edad + \" años.\") # DA ERROR\n",
    "print(nomape + \" tiene\", edad , \"años.\")\n",
    "print(nomape * 5)"
   ]
  },
  {
   "cell_type": "markdown",
   "metadata": {
    "id": "jonq0jC616wM"
   },
   "source": [
    "# 2) OPERADORES DE ASIGNACIÓN\n",
    "Dada una variable, puedo asignarle un valor, escribiendo\n",
    "\n",
    "\n",
    "a = 5 # el operador **igual a**\n",
    "\n",
    "\n",
    "a += 4 # toma el valor actual de a y le suma 4 -> ahora vale 9  \n",
    "\n",
    "\n",
    "a -= 3 # toma el valor actual de a y le resta 3 -> ahora vale 6\n",
    "\n",
    "\n",
    "a *= 2 # toma el valor actual de a y lo multiplica por 2 -> 12\n",
    "\n",
    "\n",
    "a /= 3\n",
    "\n",
    "\n",
    "a //=3\n",
    "\n",
    "\n",
    "a %= 3"
   ]
  },
  {
   "cell_type": "code",
   "execution_count": null,
   "metadata": {
    "id": "DBl7BPVJ16bF"
   },
   "outputs": [],
   "source": [
    "nro = 5\n",
    "nro = nro + 7\n",
    "nro += 3\n",
    "nro -= 4\n",
    "nro *= 2\n",
    "nro **= 2\n",
    "nro /= 3\n",
    "nro //= 2\n",
    "nro %= 3"
   ]
  },
  {
   "cell_type": "markdown",
   "metadata": {
    "id": "jbk5FVll4QpA"
   },
   "source": [
    "# 3) OPERADORES RELACIONALES\n",
    "Devuelven un valor booleano. Se usan para crear los condicionales y poder alterar el flujo de nuestro programa\n",
    "Dados a y b\n",
    "\n",
    "a == b # si son iguales -> Devuelve True o False\n",
    "\n",
    "a != b # a no es igual a b\n",
    "\n",
    "a < b # a es menor que b\n",
    "\n",
    "a > b # a es mayor que b\n",
    "\n",
    "a <= b # a es menor o igual que b\n",
    "\n",
    "a >= b # a es mayor o igual que b\n",
    "\n",
    "\n",
    "\n",
    "\n"
   ]
  },
  {
   "cell_type": "code",
   "execution_count": null,
   "metadata": {
    "colab": {
     "base_uri": "https://localhost:8080/"
    },
    "id": "vy0iOpdV5IRt",
    "outputId": "1c00397a-69f6-4718-eaf4-eb471b97c368"
   },
   "outputs": [
    {
     "name": "stdout",
     "output_type": "stream",
     "text": [
      "False\n",
      "True\n"
     ]
    }
   ],
   "source": [
    "a = 10\n",
    "b = 23\n",
    "print(a == b)\n",
    "print(a != b)\n",
    "print(a < b)\n",
    "print(a > b)\n",
    "print(a <= b)\n",
    "print(a >= b)"
   ]
  },
  {
   "cell_type": "markdown",
   "metadata": {
    "id": "9XELs8o55mr6"
   },
   "source": [
    "# 4) OPERADORES LÓGICOS o BOOLEANOS\n",
    "\n",
    "and # evalúa si ambos operandos son True\n",
    "\n",
    "or # evalúa si al menos uno de los operandos es True\n",
    "\n",
    "not # cambia el valor del operando"
   ]
  },
  {
   "cell_type": "code",
   "execution_count": null,
   "metadata": {
    "colab": {
     "base_uri": "https://localhost:8080/"
    },
    "id": "GM_69VMZ54iO",
    "outputId": "f979e306-0881-4c1f-d4dc-7e8507d83aec"
   },
   "outputs": [
    {
     "name": "stdout",
     "output_type": "stream",
     "text": [
      "False\n",
      "True\n",
      "True\n"
     ]
    }
   ],
   "source": [
    "a = 10\n",
    "b = 23\n",
    "e1 = a == b\n",
    "e2 = a != b\n",
    "print(e1 and e2)  # False\n",
    "print(e1 or e2) # True\n",
    "print(not e1)"
   ]
  },
  {
   "cell_type": "markdown",
   "metadata": {
    "id": "tgx2iKtOMx3I"
   },
   "source": [
    "# 5) OPERADORES DE PERTENENCIA\n",
    "\n",
    "Devuelve True o False dependiendo de si un elemento pertenece o no a una secuencia de datos\n",
    "\n",
    "IN\n",
    "\n",
    "NOT IN"
   ]
  },
  {
   "cell_type": "code",
   "execution_count": null,
   "metadata": {
    "colab": {
     "base_uri": "https://localhost:8080/"
    },
    "id": "9geEFIzfMyc0",
    "outputId": "aaa17a7f-a87e-4a63-f7f1-93ea89b9643f"
   },
   "outputs": [
    {
     "name": "stdout",
     "output_type": "stream",
     "text": [
      "True\n",
      "False\n",
      "False\n"
     ]
    }
   ],
   "source": [
    "lista = [4,5,6,7,8,9,99]\n",
    "print(7 in lista)\n",
    "print(7 not in lista)\n",
    "print(1000 in lista)"
   ]
  },
  {
   "cell_type": "markdown",
   "metadata": {
    "id": "9peKMzH_7PnG"
   },
   "source": [
    "## B) ENTRADA Y SALIDA DE DATOS"
   ]
  },
  {
   "cell_type": "markdown",
   "metadata": {
    "id": "WaUwkx3z_d90"
   },
   "source": [
    "# 1) SALIDA DE DATOS: print() - SECUENCIAS DE ESCAPE\n",
    "print() imprime por pantalla lo que le pasamos como parámetro (un dato, una variable, una expresión o una función)<br>\n",
    "Las secuencias de escape permiten enviar caracteres de control a la pantalla."
   ]
  },
  {
   "cell_type": "code",
   "execution_count": null,
   "metadata": {
    "colab": {
     "base_uri": "https://localhost:8080/"
    },
    "collapsed": true,
    "id": "FdcwAMy37yEQ",
    "outputId": "b82f90fa-d107-4789-f8c9-82cc70f1a1b2"
   },
   "outputs": [
    {
     "name": "stdout",
     "output_type": "stream",
     "text": [
      "23.23\n",
      "False\n",
      "Juana\n",
      "[4, 5, 6, 7, 8, 9, 99]\n",
      "<class 'list'>\n"
     ]
    }
   ],
   "source": [
    "print(23.23)\n",
    "print(False)\n",
    "nom = \"Juana\"\n",
    "print(nom)\n",
    "print(lista)\n",
    "print(type(lista))"
   ]
  },
  {
   "cell_type": "code",
   "execution_count": 5,
   "metadata": {
    "colab": {
     "base_uri": "https://localhost:8080/"
    },
    "id": "GdWsSqqENI0s",
    "outputId": "cca4b18d-09d7-46db-94e3-210e084e0ef8"
   },
   "outputs": [
    {
     "name": "stdout",
     "output_type": "stream",
     "text": [
      "Nombre: Ana - Apellido: López - Edad: 23  - Trabaja: True\n",
      "\n",
      "Nombre: Ana\n",
      "Apellido: López\n",
      "Edad: 23 \n",
      "Trabaja: True\n",
      "\n",
      "NOMBRE\tAPELLIDO\tEDAD\tTRABAJA\n",
      "=======================================\n",
      "Ana \t López \t\t 23 \t True\n"
     ]
    }
   ],
   "source": [
    "trabaja = True\n",
    "edad = 23\n",
    "print(\"Nombre: \" + nom + \" - Apellido: \" + ape + \" - Edad:\", edad, \" - Trabaja:\", trabaja)\n",
    "\n",
    "# SECUENCIAS DE ESCAPE\n",
    "# salto de línea \\n\n",
    "print(\"\\nNombre: \" + nom + \"\\nApellido: \" + ape + \"\\nEdad:\", edad, \"\\nTrabaja:\", trabaja)\n",
    "\n",
    "# tabulador \\t\n",
    "print(\"\\nNOMBRE\\tAPELLIDO\\tEDAD\\tTRABAJA\")\n",
    "print(\"=======================================\")\n",
    "print(nom,\"\\t\",ape,\"\\t\\t\",edad,\"\\t\",trabaja)"
   ]
  },
  {
   "cell_type": "markdown",
   "metadata": {
    "id": "FfxrcgfU-WhO"
   },
   "source": [
    "# 2) ENTRADA DE DATOS: input()\n",
    "\n",
    "Pide un dato al usuario.Dentro de los paréntesis se puede poner un texto que le indique al usuario qué es lo que se espera que ingrese.\n",
    "\n",
    "IMPORTANTE!!!!!!!! todo dato ingresado, ingresa como cadena de texto (aunque sea un número).\n",
    "Para poder operar con números ingresados por input, hay que convertirlos."
   ]
  },
  {
   "cell_type": "code",
   "execution_count": null,
   "metadata": {
    "colab": {
     "base_uri": "https://localhost:8080/"
    },
    "id": "RXBsThQdAn7N",
    "outputId": "1e8d9c41-cd1d-48ab-8a61-426e320cee0b"
   },
   "outputs": [
    {
     "name": "stdout",
     "output_type": "stream",
     "text": [
      "Por favor ingrese su nombre: Cosme Fulanito\n",
      "Hola, Cosme Fulanito\n"
     ]
    }
   ],
   "source": [
    "nom = input(\"Por favor ingrese su nombre: \")\n",
    "print(\"Hola,\", nom)"
   ]
  },
  {
   "cell_type": "code",
   "execution_count": null,
   "metadata": {
    "colab": {
     "base_uri": "https://localhost:8080/"
    },
    "id": "sc6irD8lQhFu",
    "outputId": "c6e9c42c-fd2f-4e6f-f6b3-0ebfa68c8c26"
   },
   "outputs": [
    {
     "name": "stdout",
     "output_type": "stream",
     "text": [
      "Ingrese un nro10\n",
      "Ingrese otro nro15\n",
      "La suma da 1015\n"
     ]
    }
   ],
   "source": [
    "n1 = input(\"Ingrese un nro \")\n",
    "n2 = input(\"Ingrese otro nro \")\n",
    "print(\"La suma da\", n1 + n2)\n"
   ]
  },
  {
   "cell_type": "code",
   "execution_count": 6,
   "metadata": {
    "colab": {
     "base_uri": "https://localhost:8080/",
     "height": 228
    },
    "id": "XLwZXkajRNIa",
    "outputId": "77011d8a-1d86-45ef-a279-018939bb4872"
   },
   "outputs": [
    {
     "name": "stdout",
     "output_type": "stream",
     "text": [
      "Ingrese un nro 1\n",
      "Ingrese otro nro 2\n",
      "La suma de 1 y 2 da 3\n",
      "1 + 2 = 3\n"
     ]
    }
   ],
   "source": [
    "n1 = int(input(\"Ingrese un nro \"))\n",
    "n2 = int(input(\"Ingrese otro nro \"))\n",
    "print(\"La suma de\", n1, \"y\", n2, \"da\", n1 + n2)\n",
    "print(n1, \"+\", n2, \"=\", n1 + n2)"
   ]
  },
  {
   "cell_type": "code",
   "execution_count": null,
   "metadata": {
    "colab": {
     "base_uri": "https://localhost:8080/"
    },
    "id": "dtzhmrnXSOWb",
    "outputId": "480701bb-dfc7-493e-b87d-8725b2770bea"
   },
   "outputs": [
    {
     "name": "stdout",
     "output_type": "stream",
     "text": [
      "Ingrese un nro 10\n",
      "Ingrese otro nro 12.5\n",
      "La suma de 10.0 y 12.5 da 22.5\n",
      "10.0 + 12.5 = 22.5\n"
     ]
    }
   ],
   "source": [
    "n1 = float(input(\"Ingrese un nro \"))\n",
    "n2 = float(input(\"Ingrese otro nro \"))\n",
    "print(\"La suma de\", n1, \"y\", n2, \"da\", n1 + n2)\n",
    "print(n1, \"+\", n2, \"=\", n1 + n2)\n",
    "\n",
    "'''\n",
    "Si no sé qué tipo de nro me va a ingresar el usuario, es necesario ponerlo en float porque:\n",
    "- si ingresa un nro int y lo paso a float no pasa nada\n",
    "- si ingresa un float y espero un int da error.\n",
    "'''\n"
   ]
  },
  {
   "cell_type": "markdown",
   "metadata": {
    "id": "SxD9E6iO5u0p"
   },
   "source": [
    "# **C) MATERIAL COMPLEMENTARIO**\n",
    "\n",
    "**Fuente: Python.org**\n",
    "*   <a href= \"https://docs.python.org/es/3/reference/lexical_analysis.html#escape-sequences\">Lista de secuencias de escape</a><br>\n",
    "*   <a href=\"Lista de secuencias de escape\">Palabras clave en Python</a><br>\n",
    "*<a href=\"Lista de secuencias de escape\">Operadores y delimitadores</a>\n",
    "<hr>\n"
   ]
  },
  {
   "cell_type": "markdown",
   "metadata": {
    "id": "PXvTA0kBzy4K"
   },
   "source": [
    "## **D) EJERCITACIÓN**\n",
    "*Ejercicios no obligatorios, no entregables.* <br><br>\n"
   ]
  },
  {
   "cell_type": "markdown",
   "metadata": {
    "id": "9S8QawCwAsqb"
   },
   "source": [
    "# 1) Salidas por pantalla  y comentarios<br>\n",
    "\n",
    "**Ejercicio #01-01**\n",
    "\n",
    "Mostrá por pantalla todos los números del 0 al 9 separados por espacios en blanco."
   ]
  },
  {
   "cell_type": "code",
   "execution_count": null,
   "metadata": {
    "id": "UleOwMlU3i2S"
   },
   "outputs": [],
   "source": []
  },
  {
   "cell_type": "markdown",
   "metadata": {
    "id": "kl0wHj8O3jqg"
   },
   "source": [
    "**Ejercicio #01-02**\n",
    "\n",
    "Mostrá por pantalla todos los números del 0 al 9 uno debajo del otro.\n",
    "Podés usar todas las instrucciones que sean necesarias."
   ]
  },
  {
   "cell_type": "code",
   "execution_count": 12,
   "metadata": {
    "id": "CjObwWKh3rGW"
   },
   "outputs": [
    {
     "name": "stdout",
     "output_type": "stream",
     "text": [
      "\n",
      "Numero 1\n",
      "Numero 2\n",
      "Numero 3\n",
      "Numero 4\n",
      "Numero 5\n",
      "Numero 6\n",
      "Numero 7\n",
      "Numero 8\n",
      "Numero 9\n"
     ]
    }
   ],
   "source": [
    "# salto de línea \\n\n",
    "print(\"\\nNumero \" + \"1\" + \"\\nNumero \" + \"2\" + \"\\nNumero \"+ \"3\"+ \"\\nNumero\", \"4\"+ \"\\nNumero\", \"5\"+ \"\\nNumero\", \"6\"+ \"\\nNumero\", \"7\"+ \"\\nNumero\", \"8\"+ \"\\nNumero\", \"9\")\n"
   ]
  },
  {
   "cell_type": "markdown",
   "metadata": {
    "id": "gBkkSnlk3uOI"
   },
   "source": [
    "**Ejercicio #01-03**\n",
    "\n",
    "Mostrá por pantalla todos los números del 0 al 9 uno debajo del otro.\n",
    "Intentá resolver este ejercicio usando una sola vez la función print() (recordá que el carácter de salto de línea es '\\n' )"
   ]
  },
  {
   "cell_type": "code",
   "execution_count": null,
   "metadata": {
    "id": "L8--93HX4gOZ"
   },
   "outputs": [],
   "source": []
  },
  {
   "cell_type": "markdown",
   "metadata": {
    "id": "2ENhtCxI4gwJ"
   },
   "source": [
    "**Desafío Especial #01**<br>\n",
    "Se necesita listar los datos de 5 personas usando un formato de columnas con un título subrayado con guiones comunes.<br>\n",
    "Los datos de las personas a listar son Nombre, Apellido, Edad y email.<br>Se pide que cada columna esté separada de la anterior usando secuencias de escape.<br>\n",
    "Ejemplo de salida:<br>\n",
    "\n",
    "\n",
    "```\n",
    "NOMBRE     APELLIDO  EDAD   EMAIL\n",
    "------     --------  ----   -----\n",
    "Roberto    Giménez    34    rg@somemail.com\n",
    "Susana     Giménez    32    srg@somemail.com\n",
    "Ana        Giménez    54    ag@somemail.com\n",
    "Pedro      Giménez    38    pg@somemail.com\n",
    "Luana      Giménez    25    lg@somemail.com\n",
    "```\n",
    "\n"
   ]
  },
  {
   "cell_type": "code",
   "execution_count": 39,
   "metadata": {
    "id": "gDVkj2mc81_-"
   },
   "outputs": [
    {
     "name": "stdout",
     "output_type": "stream",
     "text": [
      "\n",
      "NOMBRE\t\tAPELLIDO\t\tEDAD\t\t\tEMAIL\n",
      "==========================================================================\n",
      "Roberto \t Giménez \t\t 34 \t\t rg@somemail.com\n",
      "Susana \t\t Giménez \t\t 32 \t\t sg@somemail.com\n",
      "Ana \t\t Giménez \t\t 54 \t\t ag@somemail.com\n",
      "Pedro \t\t Giménez \t\t 38 \t\t pg@somemail.com\n",
      "Luana \t\t Giménez \t\t 25 \t\t lg@somemail.com\n"
     ]
    }
   ],
   "source": [
    "persona_1 = [\"Roberto\",\"Giménez\",\"34\",\"rg@somemail.com\"]\n",
    "persona_2 = [\"Susana\",\"Giménez\",\"32\",\"sg@somemail.com\"]\n",
    "persona_3 = [\"Ana\",\"Giménez\",\"54\",\"ag@somemail.com\"]\n",
    "persona_4 = [\"Pedro\",\"Giménez\",\"38\",\"pg@somemail.com\"]\n",
    "persona_5 = [\"Luana\",\"Giménez\",\"25\",\"lg@somemail.com\"]\n",
    "#      Giménez    32    srg@somemail.com\n",
    "#         Giménez    54    ag@somemail.com\n",
    "#       Giménez    38    pg@somemail.com\n",
    "#       Giménez    25    lg@somemail.com\n",
    "# tabulador \\t\n",
    "print(\"\\nNOMBRE\\t\\tAPELLIDO\\t\\tEDAD\\t\\t\\tEMAIL\")\n",
    "print(\"==========================================================================\")\n",
    "print(persona_1[0],\"\\t\",persona_1[1],\"\\t\\t\",persona_1[2],\"\\t\\t\",persona_1[3])\n",
    "print(persona_2[0],\"\\t\\t\",persona_2[1],\"\\t\\t\",persona_2[2],\"\\t\\t\",persona_2[3])\n",
    "print(persona_3[0],\"\\t\\t\",persona_3[1],\"\\t\\t\",persona_3[2],\"\\t\\t\",persona_3[3])\n",
    "print(persona_4[0],\"\\t\\t\",persona_4[1],\"\\t\\t\",persona_4[2],\"\\t\\t\",persona_4[3])\n",
    "print(persona_5[0],\"\\t\\t\",persona_5[1],\"\\t\\t\",persona_5[2],\"\\t\\t\",persona_5[3])"
   ]
  },
  {
   "cell_type": "markdown",
   "metadata": {
    "id": "jbw7Ecvm9G8V"
   },
   "source": [
    "# 2) Aritmética y entradas por teclado\n",
    "**Ejercicio #02-01**<br>\n",
    "Calculá el área de un círculo de 20 cm de radio y mostralo por pantalla indicando la unidad correspondiente.<br>\n",
    "Averigua en Internet la fórmula para calcular y la unidad resultante si te resulta necesario."
   ]
  },
  {
   "cell_type": "code",
   "execution_count": 40,
   "metadata": {
    "id": "vcO65uY29rtf"
   },
   "outputs": [
    {
     "name": "stdout",
     "output_type": "stream",
     "text": [
      "Por favor ingrese el radio del circulo: 10\n",
      "El radio ingresado es, 10.0\n",
      "El area del circulo es  314.0\n"
     ]
    }
   ],
   "source": [
    "#Area de un circulo ==> El área de un círculo con radio r > 0 es\n",
    "#PI x R^2\n",
    "radio = float(input(\"Por favor ingrese el radio del circulo: \"))\n",
    "print(\"El radio ingresado es,\", radio)\n",
    "area = 3.14 * radio**2\n",
    "print(\"El area del circulo es \", area)"
   ]
  },
  {
   "cell_type": "markdown",
   "metadata": {
    "id": "O_jIFeSZ9sL5"
   },
   "source": [
    "**Ejercicio #02-02**<br>\n",
    "Solicita que el usuario ingrese el año actual y su edad. <br>\n",
    "Usando los datos ingresados, informá por pantalla el año de nacimiento del usuario, aclarando que significa el dato que se está mostrando."
   ]
  },
  {
   "cell_type": "code",
   "execution_count": null,
   "metadata": {
    "id": "HP7_WMuz-BHE"
   },
   "outputs": [],
   "source": [
    "year = int(input(\"Por favor ingrese el año actual \"))\n",
    "print(\"El el año actual\", year)\n",
    "age = int(input(\"Por favor ingresa tu edad \"))\n",
    "birth_year = \n",
    "print(\"El area del circulo es \", area)"
   ]
  },
  {
   "cell_type": "markdown",
   "metadata": {
    "id": "7vehEvLv-Bzl"
   },
   "source": [
    "**Desafío Especial #02**<br>\n",
    "    Una persona compra un terreno rectangular del cual le informan su frente y su profundidad (ambos datos expresados en metros)<br>\n",
    "    Temporariamente, decide alambrar el perímetro con una malla metálica tejida que se vende por metro lineal.<br>\n",
    "    Para hacer más fácil la circulación por el terreno, decide construir en la mitad del terreno, una vereda de 50 cm de ancho y del largo total de la profundidad del terreno. Los mosaicos se venden por metro cuadrado.<br>\n",
    "    También decide emprolijar la superficie del terreno que no ocupa la vereda, cubriéndola con baldosas de césped que se venden por metro cuadrado.<br>\n",
    "    Deberás solicitar al usuario que te ingrese los datos del ancho y largo del terreno y luego calcular las cantidades necesarias de malla, mosaicos y baldosas de césped.<br>\n",
    "    Mostrar las cantidades calculadas aclarándolas e indicando las unidades correctas.<br>"
   ]
  },
  {
   "cell_type": "code",
   "execution_count": null,
   "metadata": {
    "id": "nD8ek2A0-s0a"
   },
   "outputs": [],
   "source": []
  }
 ],
 "metadata": {
  "colab": {
   "provenance": []
  },
  "kernelspec": {
   "display_name": "Python 3",
   "language": "python",
   "name": "python3"
  },
  "language_info": {
   "codemirror_mode": {
    "name": "ipython",
    "version": 3
   },
   "file_extension": ".py",
   "mimetype": "text/x-python",
   "name": "python",
   "nbconvert_exporter": "python",
   "pygments_lexer": "ipython3",
   "version": "3.8.8"
  }
 },
 "nbformat": 4,
 "nbformat_minor": 1
}
