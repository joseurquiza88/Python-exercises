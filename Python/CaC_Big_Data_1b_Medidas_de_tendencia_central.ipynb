{
  "nbformat": 4,
  "nbformat_minor": 0,
  "metadata": {
    "colab": {
      "provenance": []
    },
    "kernelspec": {
      "name": "python3",
      "display_name": "Python 3"
    },
    "language_info": {
      "name": "python"
    }
  },
  "cells": [
    {
      "cell_type": "markdown",
      "source": [
        "<center><img src=\"https://drive.google.com/uc?id=1uDO4E0lab13rGc6vK1bPALwfghorjqkV\"></center>\n"
      ],
      "metadata": {
        "id": "Awj0AP65RotI"
      }
    },
    {
      "cell_type": "markdown",
      "source": [
        "#Medidas de tendencia central\n",
        "<p>Son una manera de resumir información de toda una población y lo más básico en cuanto a análisis de datos.</p>"
      ],
      "metadata": {
        "id": "0CwnF8QUSCjN"
      }
    },
    {
      "cell_type": "markdown",
      "source": [
        "##Moda\n",
        "<p>Representa el dato que más se repite en una distribución de datos. Puede ser unimodal, bimodal o polimodal.</p>\n",
        "<p><b>Ejemplo:</b> Buscamos qué cantidad de personas de cada edad hay en el aula.\n",
        "<p>Si no hay gran cantidad de datos, pueden representarse en una <b>tabla de frecuencias.</b></p>\n",
        "<p>Si el rango de datos es muy amplio, conviene utilizar un <b>diagrama de frecuencias.</b></p>\n",
        "<center><img src=\"https://drive.google.com/uc?id=1HQuxHKdcr6YdxcaQac9pEj3cbLZcf6Us\"></center>\n",
        "<p>La moda no aplica para datos numéricos continuos. <b>¿Por qué?</b></p>"
      ],
      "metadata": {
        "id": "NeowJ-64RnXP"
      }
    },
    {
      "cell_type": "markdown",
      "source": [
        "###Histogramas\n",
        "Un histograma es un gráfico que permite visualizar cómo se distribuye un conjunto de datos discretos o continuos.\n",
        "\n",
        "**Histogramas para datos discretos**\n",
        "\n",
        "Tomemos la tabla de frecuencias del ejemplo.\n",
        "\n",
        "Llamaremos `x` a los valores posibles que pueden tomar las edades de las personas del aula.\n",
        "\n",
        "1. El primer paso será determinar la frecuencia relativa de cada valor de *x*.\n",
        "\n",
        "  Si sobre un total de 30 personas, se observa que 4 personas tienen 21 años, la frecuencia relativa de personas de 21 años será de `4/30 = 0,13`.\n",
        "\n",
        "  La suma de todas las frecuencias relativas debe dar 1.\n",
        "<center><img src=\"https://drive.google.com/uc?id=1nhmCJSE19gm-voEqBUy6x-sC2sPGSbOL\" width = \"200\"></center>  \n",
        "\n",
        "2. En una escala horizontal, se marcan todos los posibles valores que puede tomar `x`, y sobre cada valor, se traza un rectángulo cuya altura es la frecuencia relativa (o la frecuencia) con la que aparece ese valor. Todos los recángulos deben medir el mismo ancho.\n",
        "\n",
        "Esta construcción garantiza que el área de cada rectángulo sea proporcional a la frecuencia relativa de un valor. Entonces, si las frecuencias relativas de `x = \"22 años\"`   y    `x = \"23 años\"` son `0,13` y `0,03` respectivamente, el área del rectángulo por encima del 22 debe ser 4 veces mayor que la del rectángulo por encima del 23.\n",
        "\n",
        "<center><img src=\"https://drive.google.com/uc?id=1wRT5ZKaOn_mEwyRdSz34BT3h5-srGy1o\" width = \"500\"></center>\n",
        "\n",
        "**Histogramas para datos continuos**\n",
        "\n",
        "La construcción de un histograma para datos continuos implica subdividir el eje `x` en un número de **intervalos de clase** o **clases**, de tal forma que todas las mediciones caigan dentro del rango de alguna clase.\n",
        "Por ejemplo, en algunos estudios que abarcan un rango de edades más amplio, se prefiere trabajar con rangos etarios.\n",
        "1. Se determinan la frecuencia y la frecuencia relativa de cada clase.\n",
        "2. Se marcan los límites de la clase sobre el eje `x`.\n",
        "3. Sobre cada intervalo de clase se traza un rectángulo cuya altura es la frecuencia relativa correspondiente (o la frecuencia).\n",
        "\n",
        "<center><img src=\"https://drive.google.com/uc?id=1Wzi7Q7wfeCi3sAtBIDYHK1gUNbi2JdlS\" width = \"500\"></center>\n",
        "\n",
        "Como podemos observar, en algunos casos, las clases con el mismo ancho pueden no ser la mejor opción si hay regiones con alta concentración de valores, y otra donde los datos son muy escasos. Una buena opción es utilizar intervalos más anchos donde hay menor cantidad de datos, e intervalos más angostos en la región de más alta concentración.\n",
        "\n",
        "**La frecuencia acumulada** es el resultado de sumar sucesivamente las frecuencias relativas, desde el menor al mayor de sus valores.\n",
        "\n",
        "\n",
        "\n"
      ],
      "metadata": {
        "id": "KmVMxK8gmkNV"
      }
    },
    {
      "cell_type": "markdown",
      "source": [
        "###Distribuciones\n",
        "Las curvas que se obtienen a partir de las gráficas de frecuencia toman ciertas formas características:\n",
        "<center><img src=\"https://drive.google.com/uc?id=1EWKgeGDadzZ46g70v9IwXTGI7tiyV0YA\"></center>  \n",
        "\n",
        "* Las curvas simétricas o de forma de campana se caracterizan porque los datos equidistantes del máximo central tienen la misma frecuencia. Se llaman **distribuciones normales o gaussianas** (ej: gráficas de estaturas de una población).\n",
        "* Las curvas que tienen colas hacia la izquierda, se dicen que son **sesgadas a la izquierda** (ej: promedio de años de vida de la población).\n",
        "* Las curvas que tienen colas hacia la derecha se dice que son **sesgadas a la derecha** (ej: edad a la que se casan los individuos de la población)\n",
        "* Las curvas que tienen aproximadamente las mismas frecuencias para todos sus valores se dice que son curvas **distribuidas uniformemente** (ej: cantidad de café servido por el dispenser en cada vaso).\n",
        "\n",
        "Otras observaciones sobre las distribuciones:\n",
        "* Curvas en forma de J o J inversa: el máximo se presenta en uno de los extremos.\n",
        "* Curvas en forma de U: tienen un máximo en cada extremo y un mínimo en el medio.\n",
        "* Curvas bimodales: tienen dos máximos.\n",
        "* Curvas multimodales: tienen más de dos máximos.\n"
      ],
      "metadata": {
        "id": "j0qhQgvZfwBE"
      }
    },
    {
      "cell_type": "markdown",
      "source": [
        "##Media\n",
        "Es lo que conocemos comúnmente como <b>promedio.</b>\n",
        "<ul>\n",
        "<li>Ventaja: Permite extraer información valiosa de los datos rápidamente.</li>\n",
        "<li>Desventaja: Hay valores extremos que pueden distorsionar la información.</li>\n",
        "</ul>\n",
        "Si tomamos como ejemplo el caso de las edades de las personas del aula, el promedio da 20,97. Este valor está más cercano a 21, que no representa a la mayoría de la muestra.\n",
        "\n",
        "<center><br><img src=\"https://drive.google.com/uc?id=1TLUWiGxsuXuo6xt8vO8zatkYQiMCLxKJ\" width=\"400\">\n",
        "</center>\n",
        "Supongamos que nos piden calcular el promedio de salario de los 10 gerentes que están en este momento en la cafetería, y que por política de la empresa, todos los gerentes cobran $250.000. El cálculo del promedio sería sencillo:\n",
        "\n",
        "`10 x $250.000 / 10 = $250.000`\n",
        "\n",
        "¿Qué sucedería si de repente ingresa a la cafetería el accionista mayoritario de la empresa, que obtiene ganancias de la empresa por $3.500.000 al mes?\n",
        "Ahora el cálculo sería:\n",
        "`[(10 x $250.000) + $3.500.000] / 11 = $545.454,54,`\n",
        "valor bastante lejano a la realidad.\n",
        "\n",
        "Por eso se dice que la media está **sesgada** por los valores atípicos."
      ],
      "metadata": {
        "id": "yQ8OpofeSv3E"
      }
    },
    {
      "cell_type": "markdown",
      "source": [
        "##Mediana\n",
        "Aquí se trata de obtener el valor que se encuentra exactamente en el medio del set de datos, <b>una vez ordenados.</b>\n",
        "<ul>\n",
        "<li>Cuando los datos son impares: es el dato que está justo en el centro.</li>\n",
        "<li>Cuando los datos son pares: se hace un promedio de los dos datos que están en el centro.</li></ul>\n",
        "<p>En el ejemplo de las edades, la mediana da 20:</p>\n",
        "<center><img src=\"https://drive.google.com/uc?id=1ax2vBynl42GsKot3kigGaEBEDYdXI_BK\"></center>\n",
        "<p>En el ejemplo de los sueldos de los gerentes, la mediana da $250.000:</p>\n",
        "<center><img src=\"https://drive.google.com/uc?id=15deeoKaFwuu4fkYUnlneygc0oVbE8yXa\"></center>\n",
        "<p>Como podemos apreciar, la mediana nos da una idea más precisa, porque no se ve afectada por los valores de los extremos, y no interesa si se alejan demasiado de la mediana. Sería la opción más adecuada cuando nos encontramos con valores atípicos. Ésta es la diferencia fundamental entrte la media y la mediana.</p>"
      ],
      "metadata": {
        "id": "ooU69tkdUtr1"
      }
    },
    {
      "cell_type": "markdown",
      "source": [
        "##Ejemplo\n",
        "Calculamos y graficamos las medidas de tendencia central de los salarios de 70  empleados en [Google Sheets.](https://docs.google.com/spreadsheets/d/1eJA5sUFMyffgYO2JN4gEx3h3T-cnQMYZwtx2zM_ELOI/edit#gid=0)\n",
        "Los salarios varían entre \\$ 250 y \\$ 328.\n",
        "\n",
        "\n",
        "\n",
        "<center><img src=\"https://drive.google.com/uc?id=1wsYKvqTGfkMlSDAs4DW4VvSg5QNHVCf2\">\n",
        "</center>\n",
        "\n"
      ],
      "metadata": {
        "id": "9vESkQwMsqQp"
      }
    },
    {
      "cell_type": "markdown",
      "source": [
        "<hr>\n",
        "<img src=\"https://drive.google.com/uc?id=16Fy8ub2YrUHJnQ8W2p3DrVI42b20ncXz\" width=\"400\">\n",
        "\n",
        "**Todos los derechos son reservados por el Programa Codo a Codo perteneciente a la Dirección Agencia de Habilidades para el Futuro del Ministerio de Educación del Gobierno de la Ciudad Autónoma de Buenos Aires. Se encuentra prohibida su venta o comercialización.**"
      ],
      "metadata": {
        "id": "upUs6dpMGIhC"
      }
    }
  ]
}