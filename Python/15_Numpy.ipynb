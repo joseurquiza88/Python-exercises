{
  "nbformat": 4,
  "nbformat_minor": 0,
  "metadata": {
    "colab": {
      "provenance": []
    },
    "kernelspec": {
      "name": "python3",
      "display_name": "Python 3"
    },
    "language_info": {
      "name": "python"
    }
  },
  "cells": [
    {
      "cell_type": "markdown",
      "source": [
        "<center><img src=\"https://drive.google.com/uc?id=1JyBSeVdwey172waBwICufx0Iua67AEgP\" width=\"500\"></center>"
      ],
      "metadata": {
        "id": "pIomQEzWxLD5"
      }
    },
    {
      "cell_type": "markdown",
      "source": [
        "#NumPy (Numerical Python)\n",
        "Es una librería de Python que provee una serie de métodos para realizar operaciones matemáticas sobre una estructura de datos en forma de matriz (llamado **array**), que puede ser uni-dimensional (arreglo), bi-dimensional (matriz) o n-dimensional (tensores).\n",
        "<center><img src=\"https://drive.google.com/uc?id=183gfGdH8rq4B84OmWBBsEnbrxmXMOeW6\"></center>\n",
        "Un array NumPy es un paquete de matrices N-dimensional que tienen forma de filas y columnas, en la que tenemos varios elementos que están almacenados en sus respectivas ubicaciones de memoria.\n",
        "\n",
        "Los arrays de NumPy son un formato común para intercambio de datos para muchas librerías de Python orientadas a datos, como Pandas y SciPy.\n",
        "Los datos de un array:\n",
        "* son homogéneos\n",
        "* indexables\n",
        "* extraíbles (slicing)"
      ],
      "metadata": {
        "id": "fpNqqSpKpwPI"
      }
    },
    {
      "cell_type": "markdown",
      "source": [
        "## Uso básico"
      ],
      "metadata": {
        "id": "TJLcS7suriIC"
      }
    },
    {
      "cell_type": "markdown",
      "source": [
        "###Crear un array de NumPy a partir de una lista\n",
        "Para poder manipular una lista de Python con NumPy, es necesario convertirla en un ARREGLO o VECTOR con el método array() de NumPy.\n"
      ],
      "metadata": {
        "id": "f9dmclmVrvf5"
      }
    },
    {
      "cell_type": "code",
      "source": [
        "import numpy as np\n",
        "\n",
        "lista = [34,67,45,34,23,45,78,90,6,4,23,45]\n",
        "type(lista)\n",
        "print(lista)"
      ],
      "metadata": {
        "colab": {
          "base_uri": "https://localhost:8080/"
        },
        "id": "NzNS2g-bVQSo",
        "outputId": "3bb9df55-fc35-4489-b58c-ef77c207d25e"
      },
      "execution_count": null,
      "outputs": [
        {
          "output_type": "stream",
          "name": "stdout",
          "text": [
            "[34, 67, 45, 34, 23, 45, 78, 90, 6, 4, 23, 45]\n"
          ]
        }
      ]
    },
    {
      "cell_type": "code",
      "source": [
        "arr1 = np.array(lista)\n",
        "print(arr1)"
      ],
      "metadata": {
        "colab": {
          "base_uri": "https://localhost:8080/"
        },
        "id": "prE90rZ_VmOT",
        "outputId": "a84f923a-ac40-4d37-e3ab-8afe4ec4fbd2"
      },
      "execution_count": null,
      "outputs": [
        {
          "output_type": "stream",
          "name": "stdout",
          "text": [
            "[34 67 45 34 23 45 78 90  6  4 23 45]\n"
          ]
        }
      ]
    },
    {
      "cell_type": "code",
      "source": [
        "arr1[8]"
      ],
      "metadata": {
        "colab": {
          "base_uri": "https://localhost:8080/"
        },
        "id": "0ug4M0fOWPEo",
        "outputId": "8cdce480-88ea-47e5-bb60-5b4da34dda52"
      },
      "execution_count": null,
      "outputs": [
        {
          "output_type": "execute_result",
          "data": {
            "text/plain": [
              "6"
            ]
          },
          "metadata": {},
          "execution_count": 6
        }
      ]
    },
    {
      "cell_type": "markdown",
      "source": [
        "Un array es un objeto de tipo **numpy.ndarray** ($n$ significa \"numeric\" y $d$, \"dimension\")\n",
        "\n",
        "###Matriz o arreglo bidimensional\n"
      ],
      "metadata": {
        "id": "Dp-hXt5gscRv"
      }
    },
    {
      "cell_type": "markdown",
      "source": [
        "###Acceder a los valores de un array/matriz\n",
        "Para acceder a los elementos de un array unidimensional, se indica el índice, como en las lista de Python.\n",
        "Para acceder a los elementos de un array bidimensional, se utiliza un sistema de coordenadas:  `array[{nro_fila}, {nro_columna}]`."
      ],
      "metadata": {
        "id": "Ifm9md1OLbEb"
      }
    },
    {
      "cell_type": "code",
      "source": [
        "lista2 = [[34,67,45,34],[23,45,78,90],[6,4,23,45]]\n",
        "arr2 = np.array(lista2)\n",
        "print(arr2)"
      ],
      "metadata": {
        "colab": {
          "base_uri": "https://localhost:8080/"
        },
        "id": "4rFckmbQV3ek",
        "outputId": "5dc1a190-8023-4297-8003-d11ed90bafb5"
      },
      "execution_count": null,
      "outputs": [
        {
          "output_type": "stream",
          "name": "stdout",
          "text": [
            "[[34 67 45 34]\n",
            " [23 45 78 90]\n",
            " [ 6  4 23 45]]\n"
          ]
        }
      ]
    },
    {
      "cell_type": "code",
      "source": [
        "arr2[2,0]"
      ],
      "metadata": {
        "colab": {
          "base_uri": "https://localhost:8080/"
        },
        "id": "FSJ8TV2pWYs8",
        "outputId": "62a69b61-bdc3-416d-909f-7706063957b4"
      },
      "execution_count": null,
      "outputs": [
        {
          "output_type": "execute_result",
          "data": {
            "text/plain": [
              "6"
            ]
          },
          "metadata": {},
          "execution_count": 7
        }
      ]
    },
    {
      "cell_type": "markdown",
      "source": [
        "###ACTIVIDAD A: Homogeneidad de datos en los array\n",
        "1. Responder: ¿qué sucederá al convertir la siguiente lista de Python en un array de NumPy?\n",
        "\n",
        "\n",
        "  ```\n",
        "  lista_py = [1, \"hora\", 0.5, True, 34]\n",
        "  array_np = np.array(lista_py)\n",
        "  ```\n",
        "\n",
        "\n"
      ],
      "metadata": {
        "id": "UNIdHB6V5Vl7"
      }
    },
    {
      "cell_type": "code",
      "source": [
        "lista_py = [1, \"hora\", 0.5, True, 34]\n",
        "array_np = np.array(lista_py)\n",
        "print(array_np)"
      ],
      "metadata": {
        "id": "T-UNFzno5x9R",
        "colab": {
          "base_uri": "https://localhost:8080/"
        },
        "outputId": "86bc43c1-faa6-4ef7-9d47-e524aa75ee35"
      },
      "execution_count": null,
      "outputs": [
        {
          "output_type": "stream",
          "name": "stdout",
          "text": [
            "['1' 'hora' '0.5' 'True' '34']\n"
          ]
        }
      ]
    },
    {
      "cell_type": "code",
      "source": [
        "lista_py = [1, \"hora\", 0.5, True, [34]]\n",
        "array_np = np.array(lista_py)\n",
        "print(array_np)\n",
        "\n",
        "#shape (x,)"
      ],
      "metadata": {
        "colab": {
          "base_uri": "https://localhost:8080/",
          "height": 201
        },
        "id": "fvdSp-SBXJl0",
        "outputId": "ff857795-ddf6-4d22-c609-6ec12ab64530"
      },
      "execution_count": null,
      "outputs": [
        {
          "output_type": "error",
          "ename": "ValueError",
          "evalue": "setting an array element with a sequence. The requested array has an inhomogeneous shape after 1 dimensions. The detected shape was (5,) + inhomogeneous part.",
          "traceback": [
            "\u001b[0;31m---------------------------------------------------------------------------\u001b[0m",
            "\u001b[0;31mValueError\u001b[0m                                Traceback (most recent call last)",
            "\u001b[0;32m<ipython-input-12-1b8f11286157>\u001b[0m in \u001b[0;36m<cell line: 2>\u001b[0;34m()\u001b[0m\n\u001b[1;32m      1\u001b[0m \u001b[0mlista_py\u001b[0m \u001b[0;34m=\u001b[0m \u001b[0;34m[\u001b[0m\u001b[0;36m1\u001b[0m\u001b[0;34m,\u001b[0m \u001b[0;34m\"hora\"\u001b[0m\u001b[0;34m,\u001b[0m \u001b[0;36m0.5\u001b[0m\u001b[0;34m,\u001b[0m \u001b[0;32mTrue\u001b[0m\u001b[0;34m,\u001b[0m \u001b[0;34m[\u001b[0m\u001b[0;36m34\u001b[0m\u001b[0;34m]\u001b[0m\u001b[0;34m]\u001b[0m\u001b[0;34m\u001b[0m\u001b[0;34m\u001b[0m\u001b[0m\n\u001b[0;32m----> 2\u001b[0;31m \u001b[0marray_np\u001b[0m \u001b[0;34m=\u001b[0m \u001b[0mnp\u001b[0m\u001b[0;34m.\u001b[0m\u001b[0marray\u001b[0m\u001b[0;34m(\u001b[0m\u001b[0mlista_py\u001b[0m\u001b[0;34m)\u001b[0m\u001b[0;34m\u001b[0m\u001b[0;34m\u001b[0m\u001b[0m\n\u001b[0m\u001b[1;32m      3\u001b[0m \u001b[0mprint\u001b[0m\u001b[0;34m(\u001b[0m\u001b[0marray_np\u001b[0m\u001b[0;34m)\u001b[0m\u001b[0;34m\u001b[0m\u001b[0;34m\u001b[0m\u001b[0m\n",
            "\u001b[0;31mValueError\u001b[0m: setting an array element with a sequence. The requested array has an inhomogeneous shape after 1 dimensions. The detected shape was (5,) + inhomogeneous part."
          ]
        }
      ]
    },
    {
      "cell_type": "markdown",
      "source": [
        "NumPy convierte todos los elementos de la lista en el tipo de dato más flexible disponible dentro de la lista. Si encuentra:\n",
        "* un número decimal en una lista de enteros, convierte a todos en float.\n",
        "* un valor True o False en una lista de enteros, lo convierte en su equivalente 1 ó 0.\n",
        "* una cadena de texto en una lista con valores numéricos, todos se convierten en string.\n",
        "* un objeto iterable (listas, tuplas, etc., aunque sean de un solo elemento), generará un error. Estos elementos no sólo difieren en tipo, sino en forma (shape para esta clase de objetos es del tipo `(x,)`, lo que hace imposible la conversión.\n",
        "<br><br>\n",
        "\n",
        "2. Crear ejemplos que demuestren los puntos que se acaban de enumerar."
      ],
      "metadata": {
        "id": "fTKhQFSr6dzm"
      }
    },
    {
      "cell_type": "code",
      "source": [],
      "metadata": {
        "id": "K5gDTPk36l88"
      },
      "execution_count": null,
      "outputs": []
    },
    {
      "cell_type": "markdown",
      "source": [
        "###ACTIVIDAD B\n",
        "Crear una lista con datos de tipo heterogéneo. Convertir esta lista:\n",
        "1. en un vector\n",
        "2. en una matriz de 3 filas x 4 columnas.¿Cuántos elementos debe tener la lista para poder generar esta matriz?"
      ],
      "metadata": {
        "id": "8LsGawpV8dix"
      }
    },
    {
      "cell_type": "code",
      "source": [
        "lista3 = [False,1,2,3,4,5,6,7,8,9,10.5,11]\n",
        "v1 = np.array(lista3)\n",
        "print(v1)"
      ],
      "metadata": {
        "id": "YFkgVnA2-S0s",
        "colab": {
          "base_uri": "https://localhost:8080/"
        },
        "outputId": "294df451-c11c-4717-ee2c-b446f54be108"
      },
      "execution_count": null,
      "outputs": [
        {
          "output_type": "stream",
          "name": "stdout",
          "text": [
            "[ 0.   1.   2.   3.   4.   5.   6.   7.   8.   9.  10.5 11. ]\n"
          ]
        }
      ]
    },
    {
      "cell_type": "code",
      "source": [
        "lista4 = [[False,1,2,3],[4,5,6,7],[8,9,10.5,11]]\n",
        "v2 = np.array(lista4)\n",
        "print(v2)"
      ],
      "metadata": {
        "colab": {
          "base_uri": "https://localhost:8080/"
        },
        "id": "kQRRrgTpYWeV",
        "outputId": "7074243b-4f68-4060-aab9-20177b374d6e"
      },
      "execution_count": null,
      "outputs": [
        {
          "output_type": "stream",
          "name": "stdout",
          "text": [
            "[[ 0.   1.   2.   3. ]\n",
            " [ 4.   5.   6.   7. ]\n",
            " [ 8.   9.  10.5 11. ]]\n"
          ]
        }
      ]
    },
    {
      "cell_type": "markdown",
      "source": [
        "###Atributos de los arreglos NumPy\n",
        "Algunos de los atributos de los arreglos son\n",
        "* size: devuelve un conteo de elementos en las filas y columnas del arreglo\n",
        "* shape: devuelve la forma del arreglo\n",
        "* dtype: devuelve el tipo de datos que contiene el arreglo.\n",
        "* ndim: devuelve la cantidad de dimensiones del arreglo."
      ],
      "metadata": {
        "id": "_q2miDeMAQvb"
      }
    },
    {
      "cell_type": "markdown",
      "source": [
        "###ACTIVIDAD C\n",
        "Crea y explora los atributos de un arreglo de números enteros de 2 dimensiones con 3 filas y 4 columnas."
      ],
      "metadata": {
        "id": "h_julKhjBhiV"
      }
    },
    {
      "cell_type": "code",
      "source": [
        "print(v2.size)\n",
        "print(v2.shape)\n",
        "print(v2.dtype)\n",
        "print(v2.ndim)"
      ],
      "metadata": {
        "colab": {
          "base_uri": "https://localhost:8080/"
        },
        "id": "XxT6XgIrAn5H",
        "outputId": "7ca94343-c26c-42aa-a56e-45c927f96864"
      },
      "execution_count": null,
      "outputs": [
        {
          "output_type": "stream",
          "name": "stdout",
          "text": [
            "12\n",
            "(3, 4)\n",
            "float64\n",
            "2\n"
          ]
        }
      ]
    },
    {
      "cell_type": "markdown",
      "source": [
        "###Cambio de tamaño y forma\n",
        "El método numpy.reshape() permite modificar la forma de un arreglo.\n",
        "\n",
        "Debemos asegurarnos que la cantidad de elementos del\n",
        "arreglo sea el apropiado para obtener el formato deseado. Por ejemplo: un arreglo de 12 elementos, nos permite obtener arreglos de (1,12), (2,6), (3,4), (4,3), (6,2) o (12,1).\n",
        "\n",
        "\n",
        "\n",
        "```\n",
        "matriz = np.array([(8, 9, 10), (11, 12, 13)])\n",
        "print(matriz)\n",
        "\n",
        "matriz2 = matriz.reshape(3,2)\n",
        "print(matriz2)\n",
        "\n",
        "[[ 8  9 10]\n",
        " [11 12 13]]\n",
        "\n",
        "[[ 8  9]\n",
        " [10 11]\n",
        " [12 13]]\n",
        "```\n",
        "\n",
        "\n"
      ],
      "metadata": {
        "id": "SnosJQWRCRGd"
      }
    },
    {
      "cell_type": "markdown",
      "source": [
        "###Cambio en el tipo de dato\n",
        "Para convertir una lista de enteros a array de números decimales, redefinimos el atributo dtype:\n",
        "\n",
        "`array1 = np.array([[1,2,3,4],[5,6,7,8]], dtype=np.float64) `\n",
        "\n",
        "Si convertimos una lista de valores decimales a un array de enteros, el se trunca la parte decimal:\n",
        "\n",
        "`array2 = np.array([[1.5, 2.3, 3.56, 4.88],[5.2, 6.85, 7.25, 8.3]],dtype=np.int64)`\n",
        "\n",
        "NumPy puede definir el tipo de dato de un array de diferentes formas:\n",
        "1. Implícita: analiza los datos y establece el tipo automáticamente.\n",
        "```\n",
        "a = np.array([0, 0, 1, 1, 0])  # Entero (int)\n",
        "print(a)  # [0 0 1 1 0]\n",
        "a.dtype  # dtype('int64')\n",
        "```\n",
        "```\n",
        "a = np.array([0.1, 0.4, 1.0, 1.5, 0.9])  # Flotante (float)\n",
        "print(a)  # [0.1 0.4 1.  1.5 0.9]\n",
        "a.dtype  # dtype('float64')\n",
        "```\n",
        "```\n",
        "a = np.array(['0', '0', '1', '1', '0'])  # Cadena Unicode (str)\n",
        "print(a)  # ['0' '0' '1' '1' '0']\n",
        "a.dtype  # dtype('<U1')\n",
        "```\n",
        "```\n",
        "a = np.array([False, False, True, True, False])  # Booleano (bool)\n",
        "print(a)  # [False False  True  True False]\n",
        "a.dtype  # dtype('bool')\n",
        "```\n",
        "\n",
        "2. Con los tipos genéricos: Se establece asignando un tipo genérico Python al argumento dtype.\n",
        "```\n",
        "a = np.array([0, 0, 1, 1, 0], dtype=int)  # Entero (int)\n",
        "print(a)  # [0 0 1 1 0]\n",
        "a.dtype  # dtype('int64')\n",
        "```\n",
        "```\n",
        "a = np.array([0.1, 0.4, 0.9], dtype=float)  # Flotante (float)\n",
        "print(a)  # [0.1 0.4 0.9]\n",
        "a.dtype  # dtype('float64')\n",
        "```\n",
        "```\n",
        "a = np.array(['0', '0', '1', '1', '0'], dtype=str)  # Unicode (str)\n",
        "print(a)  # ['0' '0' '1' '1' '0']\n",
        "a.dtype  # dtype('<U1')\n",
        "```\n",
        "```\n",
        "a = np.array([0, 0, 1, 1, 0], dtype=bool)  # Booleano (bool)\n",
        "print(a)  # [False False  True  True False]\n",
        "a.dtype  # dtype('bool')\n",
        "```\n",
        "3. Con los tipos de Numpy: Se establece asignando uno de los tipos de Numpy al argumento dtype.\n",
        "```\n",
        "a = np.array([0, 0, 1, 1, 0], dtype=np.int)\n",
        "print(a)  # [0 0 1 1 0]\n",
        "a.dtype  # dtype('int64')\n",
        "```\n",
        "4. Con los tipos abreviados: Los tipos abreviados son cadenas formadas por un carácter que representa el tipo y un número que expresa el tamaño o longitud del dato:\n",
        "  * Booleanos: 'b1'.\n",
        "  * Enteros: 'i1' (int8), 'i2' (int16), 'i4' (int32), 'i8' (int64).\n",
        "  * Cadenas Unicode con distintas longitudes: 'u1', 'u2', 'u4', 'u8'.\n",
        "  * Cadenas Bytes con distintas longitudes: 'S1', 'S2', 'S3', 'S4'.\n",
        "  * Flotantes: 'f2' (float16), 'f4' (float32), 'f8' (float64).\n",
        "  * Complejos: 'c8' (complex64), 'c16' (complex128).\n",
        "  ```\n",
        "  a = np.array([0, 0, 1, 1, 0], dtype='b1')  # Booleano (bool)\n",
        "  print(a)  # [False False  True  True False]\n",
        "  a.dtype  # dtype('bool')\n",
        "```\n",
        "```\n",
        "  a = np.array([0, 0, 1, 1, 0], dtype='i1')  # Entero (int8)\n",
        "  print(a)  # [0 0 1 1 0]\n",
        "  a.dtype  # dtype('int8')\n",
        "  ```\n",
        "\n",
        "Al pie te dejamos material complementario sobre los tipos de datos en NumPy.\n",
        "\n"
      ],
      "metadata": {
        "id": "2JImjiv0DtUL"
      }
    },
    {
      "cell_type": "markdown",
      "source": [
        "Para cambiar el tipo de dato de un arreglo ya existente, se utiliza el método numpy.astype(), que crea una copia del arreglo original con el tipo de dato especificado.\n",
        "Ejemplo: Partiendo de la matriz:\n",
        "```\n",
        "[[ 1 10  3]\n",
        " [ 9  9 11]]\n",
        "```\n",
        "Podemos crear una copia con valores decimales con:\n",
        "```\n",
        "arr_float = arr_numeros.astype('float64')\n",
        "```\n",
        "```\n",
        "[[ 1. 10.  3.]\n",
        " [ 9.  9. 11.]]\n",
        " ```"
      ],
      "metadata": {
        "id": "zI0eSRFUJ2ea"
      }
    },
    {
      "cell_type": "markdown",
      "source": [
        "###ACTIVIDAD D\n",
        "Convertir la matriz obtenida en la ACTIVIDAD C, en una matriz de números decimales, ordenados en 6 filas y 2 columnas."
      ],
      "metadata": {
        "id": "qXILA6uPK1bz"
      }
    },
    {
      "cell_type": "code",
      "source": [
        "# RESUELVEN LOS ALUMNOS COMO EJERCITACIÓN"
      ],
      "metadata": {
        "id": "Z6YZkUeRLQYP"
      },
      "execution_count": null,
      "outputs": []
    },
    {
      "cell_type": "markdown",
      "source": [
        "## MATERIAL COMPLEMENTARIO\n",
        "* [NumPy Fundamentals](https://numpy.org/doc/stable/user/basics.html)\n",
        "* [Data Types](https://numpy.org/devdocs/user/basics.types.html)"
      ],
      "metadata": {
        "id": "rWoMqFQwY6Tp"
      }
    },
    {
      "cell_type": "markdown",
      "source": [
        "<hr>\n",
        "<img src=\"https://drive.google.com/uc?id=16Fy8ub2YrUHJnQ8W2p3DrVI42b20ncXz\" width=\"400\">\n",
        "\n",
        "**Todos los derechos son reservados por el Programa Codo a Codo perteneciente a la Dirección Agencia de Habilidades para el Futuro del Ministerio de Educación del Gobierno de la Ciudad Autónoma de Buenos Aires. Se encuentra prohibida su venta o comercialización.**"
      ],
      "metadata": {
        "id": "AB4u00ELGMZk"
      }
    }
  ]
}